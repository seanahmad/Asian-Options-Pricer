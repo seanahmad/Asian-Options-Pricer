{
 "cells": [
  {
   "cell_type": "code",
   "execution_count": 0,
   "outputs": [],
   "source": [],
   "metadata": {
    "collapsed": false,
    "pycharm": {
     "name": "#%%\n"
    }
   }
  },
  {
   "cell_type": "markdown",
   "source": [
    "# Asian Options Pricing & Hedging Tool\n",
    "Course: FE 620: Pricing & Hedging | Stevens Institute of Technology\n",
    "\n",
    "Advisor: Dan Pirjol\n",
    "\n",
    "Group: Theo Dimitrasopoulos, Will Kraemer, Vaikunth Seshadri, Snehal Rajguru\n",
    "\n",
    "Link: https://colab.research.google.com/drive/1cImw6GuMlUYoXtHtEnyuP7lXsAlko2r6\n",
    "\n",
    "*Version: v10.0*"
   ],
   "metadata": {
    "collapsed": false
   }
  },
  {
   "cell_type": "markdown",
   "source": [
    "## **Runtime comments:**\n",
    "\n",
    "* Click the execution button on the top left corner of each code cell to execute it. To run all cells in descending order, go to the menu bar at the top and click Runtime -> Run all (or use the **Ctrl-F9** or **⌘-F9** hotkey for Windows and MacOSX respectively);\n",
    "* If the code is running slowly, go to Runtime -> Change runtime type, and change the Runtime Shape to High-RAM from the dropdown menu;\n",
    "* The **\"!pip install\"** lines under the Python packages section (i.e. lines 3-5) only need to be executed the first time you run the notebook. If you receive the message **\"Requirement already satisfied:\"**, wrap them in treble quotes (add the quotes in lines 2 & 6)*."
   ],
   "metadata": {
    "collapsed": false
   }
  },
  {
   "cell_type": "markdown",
   "source": [
    "## Python Packages"
   ],
   "metadata": {
    "collapsed": false
   }
  },
  {
   "cell_type": "code",
   "execution_count": 1,
   "outputs": [],
   "source": [
    "# Install packages\n",
    "'''\n",
    "!pip install numpy\n",
    "!pip install matplotlib\n",
    "!pip install scipy\n",
    "'''\n",
    "\n",
    "# Import Packages\n",
    "import random\n",
    "import numpy as np\n",
    "from scipy.stats import norm\n",
    "import matplotlib.pyplot as plt"
   ],
   "metadata": {
    "collapsed": false,
    "pycharm": {
     "name": "#%%\n"
    }
   }
  },
  {
   "cell_type": "markdown",
   "source": [
    "## Inputs"
   ],
   "metadata": {
    "collapsed": false
   }
  },
  {
   "cell_type": "markdown",
   "source": [
    "### Underlying Asset Variables\n",
    "Insert the desired values in the form fields (right) or directly to the code (left):"
   ],
   "metadata": {
    "collapsed": false
   }
  },
  {
   "cell_type": "code",
   "execution_count": 2,
   "outputs": [],
   "source": [
    "#@title Pricer Parameters:\n",
    "\n",
    "# Initial Underlying Price\n",
    "S0 = 100#@param {type:\"number\"}\n",
    "\n",
    "# Risk-free rate (also known as the drift coefficient)\n",
    "r = 0.15#@param {type:\"number\"}\n",
    "\n",
    "# Dividend Yield Rate\n",
    "q = 0.0#@param {type:\"number\"}\n",
    "\n",
    "# Maturity\n",
    "T = 1.0#@param {type:\"number\"}\n",
    "\n",
    "# Strike\n",
    "K = 95#@param {type:\"number\"}\n",
    "\n",
    "# Volatility (also known as the diffusion coefficient)\n",
    "sigma = 0.3#@param {type:\"number\"}\n",
    "\n",
    "# Number of Iterations for Monte Carlo Simulation\n",
    "it = 100000#@param {type:\"integer\"}\n",
    "\n",
    "# Time Steps\n",
    "N = 10000#@param {type:\"integer\"}"
   ],
   "metadata": {
    "collapsed": false,
    "pycharm": {
     "name": "#%%\n"
    }
   }
  },
  {
   "cell_type": "markdown",
   "source": [
    "## Plotting Parameters"
   ],
   "metadata": {
    "collapsed": false
   }
  },
  {
   "cell_type": "markdown",
   "source": [
    "### Aesthetic Parameters"
   ],
   "metadata": {
    "collapsed": false
   }
  },
  {
   "cell_type": "code",
   "execution_count": 3,
   "outputs": [],
   "source": [
    "#@title Element Sizes:\n",
    "\n",
    "# Universal Plot width\n",
    "width = 25 #@param {type:\"integer\"}\n",
    "\n",
    "# Universal Plot height\n",
    "height =  14#@param {type:\"integer\"}\n",
    "\n",
    "# Universal xtick size\n",
    "xtick_size = 8 #@param {type:\"integer\"}\n",
    "\n",
    "# Universal ytick size\n",
    "ytick_size =  8#@param {type:\"integer\"}\n",
    "\n",
    "# Universal title font size\n",
    "title_size = 18 #@param {type:\"integer\"}\n",
    "\n",
    "# Universal xlabel font size\n",
    "xlabel_size = 12 #@param {type:\"integer\"}\n",
    "\n",
    "# Universal xlabel font size\n",
    "ylabel_size = 12 #@param {type:\"integer\"}\n",
    "\n",
    "# Universal legend font size\n",
    "legend_size = 10 #@param {type:\"integer\"}"
   ],
   "metadata": {
    "collapsed": false,
    "pycharm": {
     "name": "#%%\n"
    }
   }
  },
  {
   "cell_type": "markdown",
   "source": [
    "### Execute Parameters"
   ],
   "metadata": {
    "collapsed": false
   }
  },
  {
   "cell_type": "code",
   "execution_count": 4,
   "outputs": [],
   "source": [
    "#Set parameters\n",
    "plt.rcParams['figure.figsize'] = (width,height)\n",
    "params = {'text.color' : 'black',\n",
    "          'xtick.color' : 'w',\n",
    "          'ytick.color' : 'w',\n",
    "          'xtick.labelsize' : xtick_size,\n",
    "          'ytick.labelsize' : ytick_size,\n",
    "          'legend.loc' : 'upper left',\n",
    "         }\n",
    "plt.rcParams.update(params)"
   ],
   "metadata": {
    "collapsed": false,
    "pycharm": {
     "name": "#%%\n"
    }
   }
  },
  {
   "cell_type": "markdown",
   "source": [
    "## Definitions"
   ],
   "metadata": {
    "collapsed": false
   }
  },
  {
   "cell_type": "markdown",
   "source": [
    "### Brownian Path Generator"
   ],
   "metadata": {
    "collapsed": false
   }
  },
  {
   "cell_type": "code",
   "execution_count": 5,
   "outputs": [],
   "source": [
    "def bm_paths(N):\n",
    "  rand = random.random()\n",
    "  dt = 1. / N\n",
    "  b_dt = np.random.normal(0., 1., N)*np.sqrt(dt)\n",
    "  W = np.cumsum(b_dt)\n",
    "  return W"
   ],
   "metadata": {
    "collapsed": false,
    "pycharm": {
     "name": "#%%\n"
    }
   }
  },
  {
   "cell_type": "markdown",
   "source": [
    "### Geometric Brownian Path Generator"
   ],
   "metadata": {
    "collapsed": false
   }
  },
  {
   "cell_type": "code",
   "execution_count": 6,
   "outputs": [],
   "source": [
    "def gbm_paths(r,q,N,T,S0,sigma):\n",
    "  t = np.linspace(0.,1.,N)\n",
    "  dt = T/N\n",
    "  bt = np.random.normal(0., 1., int(N)) * np.sqrt(dt)\n",
    "  W = np.cumsum(bt)\n",
    "  S_i = S0 * np.exp(sigma * W + (r - q - 0.5 * (sigma**2)) * t)\n",
    "  return S_i"
   ],
   "metadata": {
    "collapsed": false,
    "pycharm": {
     "name": "#%%\n"
    }
   }
  },
  {
   "cell_type": "markdown",
   "source": [
    "### Black-Scholes Theoretical Price"
   ],
   "metadata": {
    "collapsed": false
   }
  },
  {
   "cell_type": "code",
   "execution_count": 7,
   "outputs": [],
   "source": [
    "def bs_call(r,q,T,K,S0,sigma):\n",
    "  G0 = S0 * np.exp(0.5 * (r - q) * T - ((sigma**2) * T)/12)\n",
    "  Sigma_G = sigma/np.sqrt(3)\n",
    "  d1 = (1/(Sigma_G * np.sqrt(T))) * (np.log(G0/K) + 0.5 * (Sigma_G**2) * T)\n",
    "  d2 = (1/(Sigma_G * np.sqrt(T))) * (np.log(G0/K) - 0.5 * (Sigma_G**2) * T)\n",
    "  c = np.exp(-r * T) * (G0 * norm.cdf(d1) - K * norm.cdf(d2))\n",
    "  return c\n",
    "\n",
    "def bs_put(r,q,T,K,S0,sigma):\n",
    "  G0 = S0 * np.exp(0.5 * (r - q) * T - ((sigma**2) * T)/12)\n",
    "  Sigma_G = sigma/np.sqrt(3)\n",
    "  d1 = (1/(Sigma_G * np.sqrt(T))) * (np.log(G0/K) + 0.5 * (Sigma_G**2) * T)\n",
    "  d2 = (1/(Sigma_G * np.sqrt(T))) * (np.log(G0/K) - 0.5 * (Sigma_G**2) * T)\n",
    "  p = np.exp(-r * T) * (K * norm.cdf(-d2) - G0 * norm.cdf(-d1))\n",
    "  return p"
   ],
   "metadata": {
    "collapsed": false,
    "pycharm": {
     "name": "#%%\n"
    }
   }
  },
  {
   "cell_type": "markdown",
   "source": [
    "### Monte Carlo Simulator with Arithmetic Average"
   ],
   "metadata": {
    "collapsed": false
   }
  },
  {
   "cell_type": "code",
   "execution_count": 8,
   "outputs": [],
   "source": [
    "# Call Options:\n",
    "def mc_call_arithm(it,r,q,T,K,N,S0,sigma):\n",
    "  mc_call_arithm_payoffs = []\n",
    "  for i in range(1,it):\n",
    "    S = gbm_paths(r,q,N,T,S0,sigma)\n",
    "    S_arithm = np.mean(S)\n",
    "    mc_call_arithm_payoffs.append(max(S_arithm - K, 0))\n",
    "  c = np.exp(-r * T)*np.mean(mc_call_arithm_payoffs)\n",
    "  return c\n",
    "\n",
    "# Put Options:\n",
    "def mc_put_arithm(it,r,q,T,K,N,S0,sigma):\n",
    "  mc_put_arithm_payoffs = []\n",
    "  for i in range(1,it):\n",
    "    S = gbm_paths(r,q,N,T,S0,sigma)\n",
    "    S_arithm = np.mean(S)\n",
    "    mc_put_arithm_payoffs.append(max(K - S_arithm, 0))\n",
    "  p = np.exp(-r * T)*np.mean(mc_put_arithm_payoffs)\n",
    "  return p"
   ],
   "metadata": {
    "collapsed": false,
    "pycharm": {
     "name": "#%%\n"
    }
   }
  },
  {
   "cell_type": "markdown",
   "source": [
    "### Monte Carlo Simulator with Geometric Average"
   ],
   "metadata": {
    "collapsed": false
   }
  },
  {
   "cell_type": "code",
   "execution_count": 9,
   "outputs": [],
   "source": [
    "# Call Options:\n",
    "def mc_call_geom(it,r,q,T,K,N,S0,sigma):\n",
    "  mc_call_geom_payoffs = []\n",
    "  for i in range(1,it):\n",
    "    S = gbm_paths(r,q,N,T,S0,sigma)\n",
    "    S_geom = np.exp(np.mean(np.log(S)))\n",
    "    mc_call_geom_payoffs.append(max(S_geom - K, 0))\n",
    "  c = np.exp(-r * T)*np.mean(mc_call_geom_payoffs)\n",
    "  return c\n",
    "\n",
    "# Put Options:\n",
    "def mc_put_geom(it,r,q,T,K,N,S0,sigma):\n",
    "  mc_put_geom_payoffs = []\n",
    "  for i in range(1,it):\n",
    "    S = gbm_paths(r,q,N,T,S0,sigma)\n",
    "    S_geom = np.exp(np.mean(np.log(S)))\n",
    "    mc_put_geom_payoffs.append(max(K - S_geom, 0))\n",
    "  p = np.exp(-r * T)*np.mean(mc_put_geom_payoffs)\n",
    "  return p"
   ],
   "metadata": {
    "collapsed": false,
    "pycharm": {
     "name": "#%%\n"
    }
   }
  },
  {
   "cell_type": "markdown",
   "source": [
    "## Performance Tests"
   ],
   "metadata": {
    "collapsed": false
   }
  },
  {
   "cell_type": "markdown",
   "source": [
    "### Black-Scholes vs. Monte Carlo: Call Options with Geometric Average"
   ],
   "metadata": {
    "collapsed": false
   }
  },
  {
   "cell_type": "code",
   "execution_count": 10,
   "outputs": [
    {
     "name": "stdout",
     "output_type": "stream",
     "text": [
      "- - - - - - - - - - - - - - - - -\n",
      "G_c(K=95,T=1):\n",
      "Black-Scholes: 12.508538481017892\n",
      "Monte Carlo: 12.49780985501723\n",
      "Error: 0.085770%\n",
      "- - - - - - - - - - - - - - - - -\n",
      "G_c(K=100,T=1):\n",
      "Black-Scholes: 9.61215966961383\n",
      "Monte Carlo: 9.579155249180117\n",
      "Error: 0.343361%\n",
      "- - - - - - - - - - - - - - - - -\n",
      "G_c(K=105,T=1):\n",
      "Black-Scholes: 7.185865725921304\n",
      "Monte Carlo: 7.203453980969517\n",
      "Error: 0.244762%\n",
      "- - - - - - - - - - - - - - - - -\n"
     ]
    }
   ],
   "source": [
    "print('- - - - - - - - - - - - - - - - -')\n",
    "\n",
    "for i in range(95,110,5):\n",
    "  bs = bs_call(r,q,T,i,S0,sigma)\n",
    "  mc = mc_call_geom(it,r,q,T,i,N,S0,sigma)\n",
    "  error = np.abs((bs-mc)/bs)*100\n",
    "  print('G_c(K=%d,T=%d):'%(i,T))\n",
    "  print('Black-Scholes:',bs)\n",
    "  print('Monte Carlo:', mc)\n",
    "  print('Error: %f%%' % error)\n",
    "  print('- - - - - - - - - - - - - - - - -')"
   ],
   "metadata": {
    "collapsed": false,
    "pycharm": {
     "name": "#%%\n"
    }
   }
  },
  {
   "cell_type": "markdown",
   "source": [
    "### Black-Scholes vs. Monte Carlo: Put Options with Geometric Average"
   ],
   "metadata": {
    "collapsed": false
   }
  },
  {
   "cell_type": "code",
   "execution_count": 11,
   "outputs": [
    {
     "name": "stdout",
     "output_type": "stream",
     "text": [
      "- - - - - - - - - - - - - - - - -\n",
      "G_p(K=95,T=1):\n",
      "Black-Scholes: 2.194652455717922\n",
      "Monte Carlo: 2.1742576087734857\n",
      "Error: 0.9292973423331738 %\n",
      "- - - - - - - - - - - - - - - - -\n",
      "G_p(K=100,T=1):\n",
      "Black-Scholes: 3.6018135264391438\n",
      "Monte Carlo: 3.6163372763434825\n",
      "Error: 0.40323436506990096 %\n",
      "- - - - - - - - - - - - - - - - -\n",
      "G_p(K=105,T=1):\n",
      "Black-Scholes: 5.479059464871914\n",
      "Monte Carlo: 5.509022386772284\n",
      "Error: 0.546862506101145 %\n",
      "- - - - - - - - - - - - - - - - -\n"
     ]
    }
   ],
   "source": [
    "print('- - - - - - - - - - - - - - - - -')\n",
    "\n",
    "for i in range(95,110,5):\n",
    "  bs = bs_put(r,q,T,i,S0,sigma)\n",
    "  mc = mc_put_geom(it,r,q,T,i,N,S0,sigma)\n",
    "  error = np.abs((bs-mc)/bs)*100\n",
    "  print('G_p(K=%d,T=%d):'%(i,T))\n",
    "  print('Black-Scholes:',repr(bs))\n",
    "  print('Monte Carlo:',repr(mc))\n",
    "  print('Error:',repr(error),'%')\n",
    "  print('- - - - - - - - - - - - - - - - -')"
   ],
   "metadata": {
    "collapsed": false,
    "pycharm": {
     "name": "#%%\n"
    }
   }
  },
  {
   "cell_type": "markdown",
   "source": [
    "### Asian call option test cases (Linetsky 2002):\n"
   ],
   "metadata": {
    "collapsed": false
   }
  },
  {
   "cell_type": "markdown",
   "source": [
    "#### **Test Cases: Parameters**\n",
    "**%%%%%%%%%%%%%%%%%%%%%%%%%%%%%%%%%%%%**\n",
    "\n",
    "**C &emsp; r &emsp; &emsp; &emsp; &emsp; &emsp; &emsp; σ &emsp; &emsp; &emsp; &emsp;T &emsp; S0&emsp; &emsp; EE&emsp; &emsp; &emsp; &emsp; &emsp; &emsp; MC &emsp; &emsp; &emsp; &emsp; &emsp; &emsp; &emsp; &emsp; &emsp; &emsp; %Err**\n",
    "\n",
    "1 &emsp; 0.0200 &emsp; 0.10 &emsp; 1 &emsp; 2.0 &emsp; 0.05602 &emsp; 0.0559860415 &emsp; 0.017\n",
    "\n",
    "2 &emsp; 0.1800 &emsp; 0.30 &emsp; 1 &emsp; 2.0 &emsp; 0.21850 &emsp; 0.2183875466 &emsp; 0.059\n",
    "\n",
    "3 &emsp; 0.0125 &emsp; 0.25 &emsp; 2 &emsp; 2.0 &emsp; 0.17250 &emsp; 0.1722687410 &emsp; 0.063\n",
    "\n",
    "4 &emsp; 0.0500 &emsp; 0.50 &emsp; 1 &emsp; 1.9 &emsp; 0.19330 &emsp; 0.1931737903 &emsp; 0.084\n",
    "\n",
    "5 &emsp; 0.0500 &emsp; 0.50 &emsp; 1 &emsp; 2.0 &emsp; 0.24650 &emsp; 0.2464156905 &emsp; 0.095\n",
    "\n",
    "6 &emsp; 0.0500 &emsp; 0.50 &emsp; 1 &emsp; 2.1 &emsp; 0.30640 &emsp; 0.3062203648 &emsp; 0.106\n",
    "\n",
    "7 &emsp; 0.0500 &emsp; 0.50 &emsp; 2 &emsp; 2.0 &emsp; 0.35030 &emsp; 0.3500952190 &emsp; 0.146\n",
    "\n",
    "**%%%%%%%%%%%%%%%%%%%%%%%%%%%%%%%%%%%%**\n",
    "\n",
    "**Notes:**\n",
    "* *(EE = Eigenfunction Expansion i.e. the Black-Scholes analytic result in\n",
    "this algorithm; MC = Monte-Carlo estimate);*\n",
    "* *All test cases have a strike K = 2.0 and a dividend yield q = 0.0;*"
   ],
   "metadata": {
    "collapsed": false
   }
  },
  {
   "cell_type": "markdown",
   "source": [
    "#### Set K = 2.0, q = 0.0:"
   ],
   "metadata": {
    "collapsed": false
   }
  },
  {
   "cell_type": "code",
   "execution_count": 12,
   "outputs": [],
   "source": [
    "# In all test cases, K = 2.0 and q = 0.0:\n",
    "K = 2.0\n",
    "q = 0.0"
   ],
   "metadata": {
    "collapsed": false,
    "pycharm": {
     "name": "#%%\n"
    }
   }
  },
  {
   "cell_type": "markdown",
   "source": [
    "#### Test Cases:"
   ],
   "metadata": {
    "collapsed": false
   }
  },
  {
   "cell_type": "code",
   "execution_count": 13,
   "outputs": [
    {
     "name": "stdout",
     "output_type": "stream",
     "text": [
      "- - - - - - - - - - - - - - - - -\n"
     ]
    },
    {
     "ename": "IndexError",
     "evalue": "invalid index to scalar variable.",
     "output_type": "error",
     "traceback": [
      "\u001B[0;31m---------------------------------------------------------------------------\u001B[0m",
      "\u001B[0;31mIndexError\u001B[0m                                Traceback (most recent call last)",
      "\u001B[0;32m<ipython-input-13-b99a851e37b1>\u001B[0m in \u001B[0;36m<module>\u001B[0;34m\u001B[0m\n\u001B[1;32m      7\u001B[0m \u001B[0;34m\u001B[0m\u001B[0m\n\u001B[1;32m      8\u001B[0m \u001B[0mbs\u001B[0m \u001B[0;34m=\u001B[0m \u001B[0mbs_call\u001B[0m\u001B[0;34m(\u001B[0m\u001B[0mr\u001B[0m\u001B[0;34m,\u001B[0m\u001B[0mq\u001B[0m\u001B[0;34m,\u001B[0m\u001B[0mT\u001B[0m\u001B[0;34m,\u001B[0m\u001B[0mK\u001B[0m\u001B[0;34m,\u001B[0m\u001B[0mS0\u001B[0m\u001B[0;34m,\u001B[0m\u001B[0msigma\u001B[0m\u001B[0;34m)\u001B[0m\u001B[0;34m\u001B[0m\u001B[0;34m\u001B[0m\u001B[0m\n\u001B[0;32m----> 9\u001B[0;31m \u001B[0mmc\u001B[0m \u001B[0;34m=\u001B[0m \u001B[0mmc_call_arithm\u001B[0m\u001B[0;34m(\u001B[0m\u001B[0mit\u001B[0m\u001B[0;34m,\u001B[0m\u001B[0;36m0.02\u001B[0m\u001B[0;34m,\u001B[0m\u001B[0mq\u001B[0m\u001B[0;34m,\u001B[0m\u001B[0;36m1\u001B[0m\u001B[0;34m,\u001B[0m\u001B[0;36m2.0\u001B[0m\u001B[0;34m,\u001B[0m\u001B[0mN\u001B[0m\u001B[0;34m,\u001B[0m\u001B[0;36m2.0\u001B[0m\u001B[0;34m,\u001B[0m\u001B[0;36m0.1\u001B[0m\u001B[0;34m)\u001B[0m\u001B[0;34m[\u001B[0m\u001B[0;36m0\u001B[0m\u001B[0;34m]\u001B[0m\u001B[0;34m\u001B[0m\u001B[0;34m\u001B[0m\u001B[0m\n\u001B[0m\u001B[1;32m     10\u001B[0m \u001B[0merror\u001B[0m \u001B[0;34m=\u001B[0m \u001B[0mnp\u001B[0m\u001B[0;34m.\u001B[0m\u001B[0mabs\u001B[0m\u001B[0;34m(\u001B[0m\u001B[0;34m(\u001B[0m\u001B[0mbs\u001B[0m\u001B[0;34m-\u001B[0m\u001B[0mmc\u001B[0m\u001B[0;34m)\u001B[0m\u001B[0;34m/\u001B[0m\u001B[0mbs\u001B[0m\u001B[0;34m)\u001B[0m\u001B[0;34m*\u001B[0m\u001B[0;36m100\u001B[0m\u001B[0;34m\u001B[0m\u001B[0;34m\u001B[0m\u001B[0m\n\u001B[1;32m     11\u001B[0m \u001B[0mprint\u001B[0m\u001B[0;34m(\u001B[0m\u001B[0;34m'Case 1 (r=0.02, sigma=0.10, T=1, S0=2.0):'\u001B[0m\u001B[0;34m)\u001B[0m\u001B[0;34m\u001B[0m\u001B[0;34m\u001B[0m\u001B[0m\n",
      "\u001B[0;31mIndexError\u001B[0m: invalid index to scalar variable."
     ]
    }
   ],
   "source": [
    "print('- - - - - - - - - - - - - - - - -')\n",
    "# Test Case 1:\n",
    "r = 0.02\n",
    "sigma = 0.1\n",
    "T = 1\n",
    "S0 = 2.0\n",
    "\n",
    "bs = bs_call(r,q,T,K,S0,sigma)\n",
    "mc = mc_call_arithm(it,0.02,q,1,2.0,N,2.0,0.1)[0]\n",
    "error = np.abs((bs-mc)/bs)*100\n",
    "print('Case 1 (r=0.02, sigma=0.10, T=1, S0=2.0):')\n",
    "print('G_c(K=%d,T=%d):'%(2.0,1))\n",
    "print('Black-Scholes:',repr(bs))\n",
    "print('Monte Carlo:',repr(mc))\n",
    "print('Error:',repr(error),'%')\n",
    "\n",
    "print('- - - - - - - - - - - - - - - - -')"
   ],
   "metadata": {
    "collapsed": false,
    "pycharm": {
     "name": "#%%\n"
    }
   }
  },
  {
   "cell_type": "code",
   "execution_count": null,
   "outputs": [],
   "source": [
    "print('- - - - - - - - - - - - - - - - -')\n",
    "# Test Case 2:\n",
    "r = 0.18\n",
    "sigma = 0.30\n",
    "T = 1.0\n",
    "S0 = 2.0\n",
    "\n",
    "bs = bs_call(r,q,T,K,S0,sigma)\n",
    "mc = mc_call_arithm(it,r,q,T,K,N,S0,sigma)[0]\n",
    "error = np.abs((bs-mc)/bs)*100\n",
    "print('Case 2 (r = 0.18, sigma = 0.30, T = 1, S0 = 2.0):')\n",
    "print('G_c(K=%d,T=%d):'%(2.0,1))\n",
    "print('Black-Scholes:',repr(bs))\n",
    "print('Monte Carlo:',repr(mc))\n",
    "print('Error:',repr(error),'%')\n",
    "\n",
    "print('- - - - - - - - - - - - - - - - -')"
   ],
   "metadata": {
    "collapsed": false,
    "pycharm": {
     "name": "#%%\n"
    }
   }
  },
  {
   "cell_type": "code",
   "execution_count": null,
   "outputs": [],
   "source": [
    "print('- - - - - - - - - - - - - - - - -')\n",
    "# Test Case 3:\n",
    "r = 0.0125\n",
    "sigma = 0.25\n",
    "T = 2.0\n",
    "S0 = 2.0\n",
    "\n",
    "bs = bs_call(r,q,T,K,S0,sigma)\n",
    "mc = mc_call_arithm(it,r,q,T,K,N,S0,sigma)[0]\n",
    "error = np.abs((bs-mc)/bs)*100\n",
    "print('Case 3 (r = 0.0125, sigma = 0.25, T = 2, S0 = 2.0):')\n",
    "print('G_c(K=%d,T=%d):'%(2.0,2))\n",
    "print('Black-Scholes:',repr(bs))\n",
    "print('Monte Carlo:',repr(mc))\n",
    "print('Error:',repr(error),'%')\n",
    "\n",
    "print('- - - - - - - - - - - - - - - - -')"
   ],
   "metadata": {
    "collapsed": false,
    "pycharm": {
     "name": "#%%\n"
    }
   }
  },
  {
   "cell_type": "code",
   "execution_count": null,
   "outputs": [],
   "source": [
    "print('- - - - - - - - - - - - - - - - -')\n",
    "# Test Case 4:\n",
    "r = 0.05\n",
    "sigma = 0.50\n",
    "T = 1.0\n",
    "S0 = 1.9\n",
    "\n",
    "bs = bs_call(r,q,T,K,S0,sigma)\n",
    "mc = mc_call_arithm(it,r,q,T,K,N,S0,sigma)[0]\n",
    "error = np.abs((bs-mc)/bs)*100\n",
    "print('Case 4 (r = 0.05, sigma = 0.50, T = 1, S0 = 1.9):')\n",
    "print('G_c(K=%d,T=%d):'%(2.0,1))\n",
    "print('Black-Scholes:',repr(bs))\n",
    "print('Monte Carlo:',repr(mc))\n",
    "print('Error:',repr(error),'%')\n",
    "\n",
    "print('- - - - - - - - - - - - - - - - -')"
   ],
   "metadata": {
    "collapsed": false,
    "pycharm": {
     "name": "#%%\n"
    }
   }
  },
  {
   "cell_type": "code",
   "execution_count": null,
   "outputs": [],
   "source": [
    "print('- - - - - - - - - - - - - - - - -')\n",
    "# Test Case 5:\n",
    "r = 0.05\n",
    "sigma = 0.50\n",
    "T = 1.0\n",
    "S0 = 2.0\n",
    "\n",
    "bs = bs_call(r,q,T,K,S0,sigma)\n",
    "mc = mc_call_arithm(it,r,q,T,K,N,S0,sigma)[0]\n",
    "error = np.abs((bs-mc)/bs)*100\n",
    "print('Case 5 (r = 0.05, sigma = 0.50, T = 1, S0 = 2.0):')\n",
    "print('G_c(K=%d,T=%d):'%(2.0,1))\n",
    "print('Black-Scholes:',repr(bs))\n",
    "print('Monte Carlo:',repr(mc))\n",
    "print('Error:',repr(error),'%')\n",
    "\n",
    "print('- - - - - - - - - - - - - - - - -')"
   ],
   "metadata": {
    "collapsed": false,
    "pycharm": {
     "name": "#%%\n"
    }
   }
  },
  {
   "cell_type": "code",
   "execution_count": null,
   "outputs": [],
   "source": [
    "print('- - - - - - - - - - - - - - - - -')\n",
    "# Test Case 6:\n",
    "r = 0.05\n",
    "sigma = 0.50\n",
    "T = 1.0\n",
    "S0 = 2.1\n",
    "\n",
    "bs = bs_call(r,q,T,K,S0,sigma)\n",
    "mc = mc_call_arithm(it,r,q,T,K,N,S0,sigma)[0]\n",
    "error = np.abs((bs-mc)/bs)*100\n",
    "print('Case 6 (r = 0.05, sigma = 0.50, T = 1, S0 = 2.1):')\n",
    "print('G_c(K=%d,T=%d):'%(2.0,1))\n",
    "print('Black-Scholes:',repr(bs))\n",
    "print('Monte Carlo:',repr(mc))\n",
    "print('Error:',repr(error),'%')\n",
    "\n",
    "print('- - - - - - - - - - - - - - - - -')"
   ],
   "metadata": {
    "collapsed": false,
    "pycharm": {
     "name": "#%%\n"
    }
   }
  },
  {
   "cell_type": "code",
   "execution_count": null,
   "outputs": [],
   "source": [
    "print('- - - - - - - - - - - - - - - - -')\n",
    "# Test Case 7:\n",
    "r = 0.05\n",
    "sigma = 0.50\n",
    "T = 2.0\n",
    "S0 = 2.0\n",
    "\n",
    "bs = bs_call(r,q,T,K,S0,sigma)\n",
    "mc = mc_call_arithm(it,r,q,T,K,N,S0,sigma)[0]\n",
    "error = np.abs((bs-mc)/bs)*100\n",
    "print('Case 7 (r = 0.05, sigma = 0.50, T = 2.0, S0 = 2.0):')\n",
    "print('G_c(K=%d,T=%d):'%(2.0,2))\n",
    "print('Black-Scholes:',repr(bs))\n",
    "print('Monte Carlo:',repr(mc))\n",
    "print('Error:',repr(error),'%')\n",
    "\n",
    "print('- - - - - - - - - - - - - - - - -')"
   ],
   "metadata": {
    "collapsed": false,
    "pycharm": {
     "name": "#%%\n"
    }
   }
  }
 ],
 "metadata": {
  "kernelspec": {
   "display_name": "Python 3",
   "language": "python",
   "name": "python3"
  },
  "language_info": {
   "codemirror_mode": {
    "name": "ipython",
    "version": 2
   },
   "file_extension": ".py",
   "mimetype": "text/x-python",
   "name": "python",
   "nbconvert_exporter": "python",
   "pygments_lexer": "ipython2",
   "version": "2.7.6"
  }
 },
 "nbformat": 4,
 "nbformat_minor": 0
}