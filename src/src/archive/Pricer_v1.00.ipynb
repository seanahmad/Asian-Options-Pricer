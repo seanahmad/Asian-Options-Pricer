{
  "nbformat": 4,
  "nbformat_minor": 0,
  "metadata": {
    "colab": {
      "name": "Asian_Options_Pricer_v1.0",
      "provenance": [],
      "collapsed_sections": [],
      "machine_shape": "hm"
    },
    "kernelspec": {
      "name": "python3",
      "display_name": "Python 3"
    },
    "accelerator": "GPU"
  },
  "cells": [
    {
      "cell_type": "code",
      "metadata": {
        "id": "QELjyY3uOpi2",
        "colab_type": "code",
        "colab": {}
      },
      "source": [
        "############### Packages ###############\n",
        "\n",
        "import numpy as np\n",
        "import matplotlib.pyplot as plt\n",
        "from scipy.stats import norm"
      ],
      "execution_count": 0,
      "outputs": []
    },
    {
      "cell_type": "code",
      "metadata": {
        "id": "PcV5KSMJr4Go",
        "colab_type": "code",
        "colab": {}
      },
      "source": [
        "############### Constants ###############\n",
        "\n",
        "r = 0.18\n",
        "sigma = 0.3\n",
        "T = 1\n",
        "K = 90\n",
        "S0 = 100\n",
        "iterations = 1000000"
      ],
      "execution_count": 0,
      "outputs": []
    },
    {
      "cell_type": "code",
      "metadata": {
        "id": "GgXOSte0r2Ci",
        "colab_type": "code",
        "colab": {}
      },
      "source": [
        "############### Pricing Formulas ###############\n",
        "\n",
        "def arithmeticExactPricing(r,T,K,S0,sigma):\n",
        "    d1 = (np.log(S0/K) + (r + (sigma**2)/2)*T)/(sigma*np.sqrt(T))\n",
        "    d2 = d1 - sigma*np.sqrt(T)\n",
        "    return S0*norm.cdf(d1) - K * np.exp(-r*T)* norm.cdf(d2)\n",
        "\n",
        "def geometricExactPricing(r,T,K,S0,sigma):\n",
        "    d1 = (np.log(S0/K) + (r+(sigma**2)/6)*T/2)/(sigma*np.sqrt(T/3))\n",
        "    d2 = (np.log(S0/K) + (r-(sigma**2)/2)*T/2)/(sigma*np.sqrt(T/3))\n",
        "    return S0*np.exp(-(r + (sigma**2)/6)*T/2) * norm.cdf(d1) - K * np.exp(-r*T)* norm.cdf(d2)"
      ],
      "execution_count": 0,
      "outputs": []
    },
    {
      "cell_type": "code",
      "metadata": {
        "id": "2su2kKuHryzu",
        "colab_type": "code",
        "colab": {}
      },
      "source": [
        "############### Calculate the expected value of the lognormal distribution ###############\n",
        "\n",
        "def expectedval(r, sigma, T, S0):\n",
        "    return ((np.exp(r*T)-1)*S0)/(r*T)"
      ],
      "execution_count": 0,
      "outputs": []
    },
    {
      "cell_type": "code",
      "metadata": {
        "id": "9ExR-Z25rxO2",
        "colab_type": "code",
        "colab": {}
      },
      "source": [
        "############### Calculate the variance of the lognormal distribution ###############\n",
        "\n",
        "def variance(r, sigma, T, S0):\n",
        "    temp1 = (2*S0**2/((T**2)*(r+sigma**2)))\n",
        "    temp2 = (np.exp((2*r+sigma**2)*T)-1)/(2*r+sigma**2)\n",
        "    temp3 = (np.exp(r*T)-1)/r\n",
        "    temp = temp1 * (temp2 - temp3)\n",
        "    return temp - (((np.exp(r*T)-1)*S0)/(r*T))**2\n",
        "\n",
        "\n",
        "def ecarttype(r, sigma, T, S0):\n",
        "    return np.sqrt(variance(r, sigma, T, S0))\n",
        "\n",
        "\n",
        "esp = expectedval(r, sigma, T, S0)\n",
        "var = variance(r, sigma, T, S0)\n",
        "EC = ecarttype(r, sigma, T, S0)\n",
        "\n",
        "mulog = np.log(esp**2/np.sqrt(var + esp**2))\n",
        "sigmalog = np.sqrt(np.log(1 + (var/(esp**2))))"
      ],
      "execution_count": 0,
      "outputs": []
    },
    {
      "cell_type": "code",
      "metadata": {
        "id": "zcINKoffrvTP",
        "colab_type": "code",
        "colab": {}
      },
      "source": [
        "############### Monte Carlo Simulation ###############\n",
        "\n",
        "def Monte_Carlo_lognormal(iterations, K, T, r):\n",
        "    lognorm = np.random.lognormal(mulog, sigmalog, iterations)\n",
        "    Price = np.exp(-r*T) * np.maximum(lognorm - K, 0)\n",
        "    std = np.std(Price)\n",
        "    mean = np.mean(Price)\n",
        "    return mean+(1.96*std/np.sqrt(iterations)), mean, mean-(1.96*std/np.sqrt(iterations))\n",
        "\n",
        "\n",
        "def Monte_Carlo_lognormal_it(iterations, K, T, r):\n",
        "    lognorm = np.random.lognormal(mulog, sigmalog, iterations)\n",
        "    Price = np.exp(-r*T) * np.maximum(lognorm - K, 0)\n",
        "    lower_list = []\n",
        "    upper_list = []\n",
        "    mean_list = []\n",
        "    for i in range(1, iterations, 100):\n",
        "        std = np.std(Price[:i])\n",
        "        mean = np.mean(Price[:i])\n",
        "        mean_list.append(mean)\n",
        "        upper_list.append(mean+(1.96*std/np.sqrt(i)))\n",
        "        lower_list.append(mean-(1.96*std/np.sqrt(i)))\n",
        "    return upper_list, mean_list, lower_list"
      ],
      "execution_count": 0,
      "outputs": []
    },
    {
      "cell_type": "code",
      "metadata": {
        "id": "z71dcdJx8L3P",
        "colab_type": "code",
        "colab": {}
      },
      "source": [
        "############### Call Monte Carlo Simulation ###############\n",
        "data_lognormal = Monte_Carlo_lognormal_it(iterations, K, T, r)"
      ],
      "execution_count": 0,
      "outputs": []
    },
    {
      "cell_type": "code",
      "metadata": {
        "id": "od-Xe6Kjw9Jp",
        "colab_type": "code",
        "colab": {}
      },
      "source": [
        "############### Clean Monte Carlo Simulation Data ###############\n",
        "data = list(data_lognormal)\n",
        "data_upper = data[0]\n",
        "data_mean = data[1]\n",
        "data_lower = data[2]"
      ],
      "execution_count": 0,
      "outputs": []
    },
    {
      "cell_type": "code",
      "metadata": {
        "id": "rJgwWwAGzFqI",
        "colab_type": "code",
        "colab": {}
      },
      "source": [
        "############### Plot Monte Carlo Simulation Data ###############\n",
        "# Prune the initial 13 values to get a clearer view of the main line\n",
        "plt.plot(data_upper[12:], label = 'Upper Confidence Interval')\n",
        "# Prune the initial 6 values to get a clearer view of the main line\n",
        "plt.plot(data_mean[5:], label = 'Mean')\n",
        "# Prune the initial 29 values to get a clearer view of the main line\n",
        "plt.plot(data_lower[28:], label = 'Lower Confidence Interval')\n",
        "plt.ylabel('Expected Value')\n",
        "plt.xlabel('Iterations')\n",
        "plt.legend()\n",
        "plt.show()"
      ],
      "execution_count": 0,
      "outputs": []
    },
    {
      "cell_type": "code",
      "metadata": {
        "id": "y8eEUBfw4ycr",
        "colab_type": "code",
        "colab": {}
      },
      "source": [
        "############### Exact Arithmetic & Geometric Pricing ###############\n",
        "print('The price determined by the Monte Carlo Simulation converges at approximately: 0.219')\n",
        "print('The exact price using the arithmetic mean is:', arithmeticExactPricing(r,T, K,S0, sigma))\n",
        "print('The exact price using the geometric mean is:', geometricExactPricing(r,T, K,S0, sigma))"
      ],
      "execution_count": 0,
      "outputs": []
    },
    {
      "cell_type": "code",
      "metadata": {
        "id": "IcyCZLx0yPBF",
        "colab_type": "code",
        "colab": {}
      },
      "source": [
        "def Brownian_it(iterations, T, sigma):\n",
        "    w_0 = 0.0\n",
        "    S_0=0.0\n",
        "    mean_list = []\n",
        "    brownian = []\n",
        "    for i in range(1, iterations, 100):\n",
        "        epsilon = np.random.normal(0,1)\n",
        "        delta_t = T/iterations\n",
        "        w_1 = w_0 + np.sqrt(delta_t)*epsilon\n",
        "        mean_list.append(w_1)\n",
        "        S_1 = S_0*np.exp(sigma*np.sqrt(delta_t))*epsilon + (r-1/2*sigma**2*delta_t)\n",
        "        brownian.append(S_1)\n",
        "        S_0 = S_1\n",
        "    return brownian"
      ],
      "execution_count": 0,
      "outputs": []
    },
    {
      "cell_type": "code",
      "metadata": {
        "id": "KtwmXWZNz4i8",
        "colab_type": "code",
        "colab": {}
      },
      "source": [
        "plt.plot(Brownian_it(iterations,T,sigma))\n",
        "print(Brownian_it(iterations,T,sigma))"
      ],
      "execution_count": 0,
      "outputs": []
    }
  ]
}