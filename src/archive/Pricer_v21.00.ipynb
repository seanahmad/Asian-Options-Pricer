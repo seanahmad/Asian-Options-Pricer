{
  "nbformat": 4,
  "nbformat_minor": 0,
  "metadata": {
    "colab": {
      "name": "Pricer_v21_0_Release_Build",
      "provenance": [],
      "collapsed_sections": [
        "nqNjBKHR8PDW",
        "d5l3s8YATLLE",
        "khr3Bp1fN-mf",
        "rA02G58pTXXy",
        "TT4Ldy_Zs0wZ",
        "1p6oWOZqQe3M",
        "AijNZZ9kOq1V",
        "wsUvBln-O7dg",
        "Wweo2-IyeiHp",
        "cIU7eftjcQXq",
        "faPZti8LjYd7",
        "RlRnlaUyYrqF",
        "W8Bsor2Hjkf_",
        "HwSOCFiejr3P",
        "SWAgbAidJ71u",
        "YpUavy53vxuR",
        "LQlqZfpFk0IT",
        "y7Kt4nM_xuQ6"
      ],
      "machine_shape": "hm"
    },
    "kernelspec": {
      "name": "python3",
      "display_name": "Python 3"
    },
    "accelerator": "TPU"
  },
  "cells": [
    {
      "cell_type": "markdown",
      "metadata": {
        "id": "zY4InIR-t8Bp",
        "colab_type": "text"
      },
      "source": [
        "\n",
        "# **Valuation of Asian Options using the Lévy Approximation**"
      ]
    },
    {
      "cell_type": "markdown",
      "metadata": {
        "id": "frIs7Laf6OxE",
        "colab_type": "text"
      },
      "source": [
        "Course: FE 620: Pricing & Hedging | Stevens Institute of Technology\n",
        "\n",
        "Advisor: Dan Pirjol\n",
        "\n",
        "Group: Theo Dimitrasopoulos, Will Kraemer, Vaikunth Seshadri, Snehal Rajguru\n",
        "\n",
        "Link: https://colab.research.google.com/drive/1fkbdI6gv3XV-pRJINI3C9klRIuGylLDX\n",
        "\n",
        "*Version: v21.0_Release_Build*"
      ]
    },
    {
      "cell_type": "markdown",
      "metadata": {
        "id": "nqNjBKHR8PDW",
        "colab_type": "text"
      },
      "source": [
        "## **Comments**"
      ]
    },
    {
      "cell_type": "markdown",
      "metadata": {
        "id": "nVu-qfqTZ-Pq",
        "colab_type": "text"
      },
      "source": [
        "**Instructions:**\n",
        "\n",
        "* Click the execution button on the top left corner of each code cell to execute it. To run all cells in descending order, go to the menu bar at the top and click Runtime -> Run all (or use the **Ctrl-F9** or **⌘-F9** hotkey for Windows and MacOSX respectively);\n",
        "* If the code is running slowly, go to Runtime -> Change runtime type, and change the Runtime Shape to High-RAM from the dropdown menu;\n",
        "* The **\"!pip install\"** lines under the Python packages section (i.e. lines 3-5) only need to be executed the first time you run the notebook. If you receive the message **\"Requirement already satisfied:\"**, wrap them in treble quotes (add the quotes in lines 2 & 6)*.\n"
      ]
    },
    {
      "cell_type": "markdown",
      "metadata": {
        "id": "1y0MSUdkZ5WL",
        "colab_type": "text"
      },
      "source": [
        "**Professor feedback:**\n",
        "* You could repeat the MC simulation for 100,1000,10k runs and plot the errors vs #runs. The error should scale like 1/sqrt(runs). A log-log plot should be a line with slope -1/2. [DONE]\n",
        "* An additional test could take several numbers of MC samples (iterations) and plot the log(error) vs log(iterations). Even 2 or 3 points would be sufficient. They should line up on a straight line with slope -0.5 corresponding to the 1/sqrt(N) scaling expected for MC simulations [DONE]."
      ]
    },
    {
      "cell_type": "markdown",
      "metadata": {
        "id": "d5l3s8YATLLE",
        "colab_type": "text"
      },
      "source": [
        "## **Python Packages**"
      ]
    },
    {
      "cell_type": "code",
      "metadata": {
        "id": "VRbkpjmc_DFg",
        "colab_type": "code",
        "colab": {}
      },
      "source": [
        "# Install packages\n",
        "'''\n",
        "!pip install -q numpy\n",
        "!pip install -q matplotlib\n",
        "!pip install -q scipy\n",
        "!pip install -q quandl\n",
        "!pip install -q yfinance\n",
        "!pip install -q pandas\n",
        "!pip install quantsbin\n",
        "'''\n",
        "# Import Packages\n",
        "import math\n",
        "import random\n",
        "import numpy as np\n",
        "#######\n",
        "from scipy.stats import norm\n",
        "from scipy.integrate import quad\n",
        "from scipy import special\n",
        "#######\n",
        "import matplotlib as mpl\n",
        "import mpl_toolkits.mplot3d.axes3d as p3\n",
        "import matplotlib.pyplot as plt\n",
        "from matplotlib import cm\n",
        "#######\n",
        "import tensorflow.compat.v1 as tf\n",
        "tf.disable_v2_behavior()\n",
        "#######\n",
        "#import pandas as pd\n",
        "#import quandl\n",
        "#import timeit"
      ],
      "execution_count": 0,
      "outputs": []
    },
    {
      "cell_type": "markdown",
      "metadata": {
        "id": "YT0zfuDsJzON",
        "colab_type": "text"
      },
      "source": [
        "## **Variables**"
      ]
    },
    {
      "cell_type": "markdown",
      "metadata": {
        "id": "khr3Bp1fN-mf",
        "colab_type": "text"
      },
      "source": [
        "### Model Variables"
      ]
    },
    {
      "cell_type": "code",
      "metadata": {
        "id": "054ybKFpJoon",
        "colab_type": "code",
        "colab": {}
      },
      "source": [
        "# Initial Underlying Price\n",
        "S0 = 100#@param {type:\"number\"}\n",
        "\n",
        "# Risk-free rate (also known as the drift coefficient)\n",
        "r = 0.15#@param {type:\"number\"}\n",
        "\n",
        "# Dividend Yield Rate\n",
        "q = 0.0#@param {type:\"number\"}\n",
        "\n",
        "# Valuation Date\n",
        "t = 0.0#@param {type:\"number\"}\n",
        "\n",
        "# Maturity\n",
        "T = 1.0#@param {type:\"number\"}\n",
        "\n",
        "# Strike\n",
        "K = 95#@param {type:\"number\"}\n",
        "\n",
        "# Volatility (also known as the diffusion coefficient)\n",
        "sigma = 0.3#@param {type:\"number\"}\n",
        "\n",
        "# Number of Iterations for Monte Carlo Simulation\n",
        "iterations = 100000#@param {type:\"integer\"}\n",
        "\n",
        "# Time Steps\n",
        "timesteps = 100000#@param {type:\"integer\"}\n",
        "\n",
        "# Random Seed\n",
        "seed_user = 1764#@param {type:\"integer\"}\n",
        "\n",
        "# Universal pseudorandom number\n",
        "seed = np.random.seed(seed_user)"
      ],
      "execution_count": 0,
      "outputs": []
    },
    {
      "cell_type": "markdown",
      "metadata": {
        "id": "rA02G58pTXXy",
        "colab_type": "text"
      },
      "source": [
        "### Plot Variables"
      ]
    },
    {
      "cell_type": "code",
      "metadata": {
        "id": "gaVvMo9XadEl",
        "colab_type": "code",
        "cellView": "both",
        "colab": {}
      },
      "source": [
        "# Universal Plot width\n",
        "width = 25 #@param {type:\"integer\"}\n",
        "\n",
        "# Universal Plot height\n",
        "height =  14#@param {type:\"integer\"}\n",
        "\n",
        "# Universal xtick size\n",
        "xtick_size = 8 #@param {type:\"integer\"}\n",
        "\n",
        "# Universal ytick size\n",
        "ytick_size =  8#@param {type:\"integer\"}\n",
        "\n",
        "# Universal title font size\n",
        "title_size = 15 #@param {type:\"integer\"}\n",
        "\n",
        "# Universal xlabel font size\n",
        "xlabel_size = 12 #@param {type:\"integer\"}\n",
        "\n",
        "# Universal xlabel font size\n",
        "ylabel_size = 12 #@param {type:\"integer\"}\n",
        "\n",
        "# Universal zlabel font size\n",
        "zlabel_size = 12 #@param {type:\"integer\"}\n",
        "\n",
        "# Universal legend font size\n",
        "legend_size = 10 #@param {type:\"integer\"}\n",
        "\n",
        "# Universal plot font color\n",
        "color_plots = 'black'"
      ],
      "execution_count": 0,
      "outputs": []
    },
    {
      "cell_type": "code",
      "metadata": {
        "id": "Zk2eSNqcjRf6",
        "colab_type": "code",
        "colab": {}
      },
      "source": [
        "plt.rcParams['figure.figsize'] = (width,height)\n",
        "params = {'text.color' : 'black',\n",
        "          'xtick.color' : color_plots,\n",
        "          'ytick.color' : color_plots,\n",
        "          'xtick.labelsize' : xtick_size,\n",
        "          'ytick.labelsize' : ytick_size,\n",
        "          'legend.loc' : 'upper left',\n",
        "         }\n",
        "plt.rcParams.update(params)"
      ],
      "execution_count": 0,
      "outputs": []
    },
    {
      "cell_type": "markdown",
      "metadata": {
        "id": "aFneK_QsvZnF",
        "colab_type": "text"
      },
      "source": [
        "## **Definitions**"
      ]
    },
    {
      "cell_type": "markdown",
      "metadata": {
        "id": "TT4Ldy_Zs0wZ",
        "colab_type": "text"
      },
      "source": [
        "### Brownian Path Generator"
      ]
    },
    {
      "cell_type": "code",
      "metadata": {
        "id": "KmMR6l_CszW4",
        "colab_type": "code",
        "colab": {}
      },
      "source": [
        "def bm_paths(timesteps):\n",
        "  seed = random.random()\n",
        "  dt = T / timesteps\n",
        "  bt = np.random.randn(int(iterations), int(timesteps))\n",
        "  W = np.cumprod(bt,axis=1)\n",
        "  return W"
      ],
      "execution_count": 0,
      "outputs": []
    },
    {
      "cell_type": "markdown",
      "metadata": {
        "id": "rbDVOtPwGLCd",
        "colab_type": "text"
      },
      "source": [
        "### Geometric Brownian Path Generator"
      ]
    },
    {
      "cell_type": "markdown",
      "metadata": {
        "id": "OKzP_3peQcln",
        "colab_type": "text"
      },
      "source": [
        "#### Conventional Implementation:"
      ]
    },
    {
      "cell_type": "code",
      "metadata": {
        "id": "NR2JccwqGNCM",
        "colab_type": "code",
        "colab": {}
      },
      "source": [
        "def gbm_paths(S0,K,T,t,r,q,sigma,seed,iterations,timesteps):\n",
        "  np.random.seed(seed)    \n",
        "  dt = T/timesteps\n",
        "  bt = np.random.randn(int(iterations), int(timesteps))\n",
        "  S = S0 * np.cumprod((np.exp(sigma * np.sqrt(dt) * bt + (r - q - 0.5 * (sigma**2)) * dt)), axis = 1)\n",
        "  for i in range(0,len(S)):\n",
        "    S[i][0] = S0\n",
        "  return S"
      ],
      "execution_count": 0,
      "outputs": []
    },
    {
      "cell_type": "markdown",
      "metadata": {
        "id": "1p6oWOZqQe3M",
        "colab_type": "text"
      },
      "source": [
        "#### Tensorflow Implementation:"
      ]
    },
    {
      "cell_type": "code",
      "metadata": {
        "id": "2rHEGL8cHnaf",
        "colab_type": "code",
        "colab": {}
      },
      "source": [
        "def tf_graph_gbm_paths():\n",
        "  S0 = tf.placeholder(tf.float32)\n",
        "  K = tf.placeholder(tf.float32)\n",
        "  dt = tf.placeholder(tf.float32)\n",
        "  T = tf.placeholder(tf.float32)\n",
        "  sigma = tf.placeholder(tf.float32)\n",
        "  r = tf.placeholder(tf.float32)\n",
        "  dw = tf.placeholder(tf.float32)\n",
        "  S_i = S0 * tf.cumprod(tf.exp((r-sigma**2/2)*dt+sigma*tf.sqrt(dt)*dw), axis=1)\n",
        "  return (S0, K, dt, T, sigma, r, dw, S_i)"
      ],
      "execution_count": 0,
      "outputs": []
    },
    {
      "cell_type": "code",
      "metadata": {
        "id": "yjSR-0xRhFiQ",
        "colab_type": "code",
        "colab": {}
      },
      "source": [
        "def tf_gbm_paths():\n",
        "  (S0,K, dt, T, sigma, r, dw, S_i) = tf_graph_gbm_paths()\n",
        "  def paths(S_zero, strk, maturity, riskfrate, volatility, seed, iterations, timesteps):\n",
        "    if seed != 0:\n",
        "      np.random.seed(seed)\n",
        "    stdnorm_random_variates = np.random.normal(0.,1. (iterations,timesteps))\n",
        "    with tf.Session() as sess:\n",
        "      delta_t = maturity / timesteps\n",
        "      res = sess.run(S_i, \n",
        "                     {\n",
        "                         S0: S_zero,\n",
        "                         K : strk,\n",
        "                         r : riskfrate,\n",
        "                         sigma: volatility,\n",
        "                         dt : delta_t,\n",
        "                         T: maturity,\n",
        "                         dw : stdnorm_random_variates})\n",
        "      return res\n",
        "  return paths"
      ],
      "execution_count": 0,
      "outputs": []
    },
    {
      "cell_type": "markdown",
      "metadata": {
        "id": "6y3QPkQmM9pC",
        "colab_type": "text"
      },
      "source": [
        "### **Black-Scholes-Merton Theoretical Price**\n",
        "Call and Put Asian option prices with geometric averaging. The alternative implementation in Tensorlfow offers efficiency and includes the calculations of 1st 2nd and 3rd order Greeks."
      ]
    },
    {
      "cell_type": "markdown",
      "metadata": {
        "id": "AijNZZ9kOq1V",
        "colab_type": "text"
      },
      "source": [
        "#### Conventional Implementation"
      ]
    },
    {
      "cell_type": "code",
      "metadata": {
        "id": "R00bkbuCNOWw",
        "colab_type": "code",
        "colab": {}
      },
      "source": [
        "# Call Options:\n",
        "def bsm_call(S0, K, T, t, r, q, sigma):\n",
        "  G0 = S0 * np.exp(0.5 * (T - t) * (r - q - (sigma**2)/6))\n",
        "  Sigma_G = sigma/np.sqrt(3)\n",
        "  d1 = (1/(Sigma_G * np.sqrt(T - t))) * (np.log(G0/K) + 0.5 * (Sigma_G**2) * (T - t))\n",
        "  d2 = (1/(Sigma_G * np.sqrt(T - t))) * (np.log(G0/K) - 0.5 * (Sigma_G**2) * (T - t))\n",
        "  c = np.exp(-r * (T - t)) * (G0 * N(d1) - K * N(d2))\n",
        "  return c\n",
        "\n",
        "# Put Options:\n",
        "def bsm_put(S0, K, T, t, r, q, sigma):\n",
        "  G0 = S0 * np.exp(0.5 * (T - t) * (r - q - (sigma**2)/6))\n",
        "  Sigma_G = sigma/np.sqrt(3)\n",
        "  d1 = (1/(Sigma_G * np.sqrt(T - t))) * (np.log(G0/K) + 0.5 * (Sigma_G**2) * (T - t))\n",
        "  d2 = (1/(Sigma_G * np.sqrt(T - t))) * (np.log(G0/K) - 0.5 * (Sigma_G**2) * (T - t))\n",
        "  p = np.exp(-r * (T - t)) * (K * N(-d2) - G0 * N(-d1))\n",
        "  return p"
      ],
      "execution_count": 0,
      "outputs": []
    },
    {
      "cell_type": "markdown",
      "metadata": {
        "id": "wsUvBln-O7dg",
        "colab_type": "text"
      },
      "source": [
        "#### Tensorflow Implementation"
      ]
    },
    {
      "cell_type": "code",
      "metadata": {
        "id": "eVzV3kWCpqDj",
        "colab_type": "code",
        "colab": {}
      },
      "source": [
        "# Sample Output\n",
        "# [NET PRESENT VALUE, [DELTA, VEGA, THETA], [GAMMA, VANNA, CHARM], [VANNA, VOLGA, VETA], [SPEED, ZOMMA, COLOR], [N/A, ULTIMA, TOTTO]]\n",
        "\n",
        "# Call Options:\n",
        "def bsm_call_tf(enable_greeks = True):\n",
        "    S0 = tf.placeholder(tf.float32)\n",
        "    K = tf.placeholder(tf.float32)\n",
        "    dt = tf.placeholder(tf.float32)\n",
        "    sigma = tf.placeholder(tf.float32)\n",
        "    r = tf.placeholder(tf.float32)\n",
        "    q = tf.placeholder(tf.float32)    \n",
        "    G0 = S0 * tf.exp(0.5 * (r * dt) - ((tf.math.square(sigma)) * dt)/12)\n",
        "    Sigma_G = sigma/tf.sqrt(3.0)\n",
        "    Phi = tf.distributions.Normal(0.,1.).cdf\n",
        "    d_1 = (1/(Sigma_G * tf.sqrt(dt))) * (tf.log(G0/K) + 0.5 * (tf.math.square(Sigma_G)) * dt)\n",
        "    d_2 = (1/(Sigma_G * tf.sqrt(dt))) * (tf.log(G0/K) - 0.5 * (tf.math.square(Sigma_G)) * dt)\n",
        "    npv =  tf.exp(-r * dt) * (G0 * Phi(d_1) - K * Phi(d_2))                # GREEKS TABLE:\n",
        "    target_calc = [npv]                                                    # (e.g. Option Price with respect to Asset Price (S) is delta)\n",
        "    if enable_greeks:                                                      #                Asset Price (S)   Volatility    Time to Expiry\n",
        "      greeks = tf.gradients(npv, [S0, sigma, dt])                          # Option Price |     delta            vega           theta\n",
        "      dS_2nd = tf.gradients(greeks[0], [S0, sigma, dt])                    # Delta        |     gamma            vanna          charm\n",
        "      dsigma_2nd = tf.gradients(greeks[1], [S0, sigma, dt])                # Vega         |     vanna         vomma/volga       veta\n",
        "      dT_2nd = tf.gradients(dS_2nd[0], [S0, sigma, dt])                    # Gamma        |     speed            zomma          color\n",
        "      dsigma_3rd = tf.gradients(dsigma_2nd[1], [S0, sigma, dt])            # Vomma        |      N/A             ultima         totto\n",
        "      target_calc += [greeks, dS_2nd, dsigma_2nd, dT_2nd, dsigma_3rd]\n",
        "    def execute_graph(S_zero, strk, maturity, riskfrate, volatility):\n",
        "        with tf.Session() as sess:\n",
        "            res = sess.run(target_calc, \n",
        "                           {\n",
        "                               S0: S_zero,\n",
        "                               K : strk,\n",
        "                               r : riskfrate,\n",
        "                               sigma: volatility,\n",
        "                               dt: maturity})\n",
        "        return res\n",
        "    return execute_graph\n",
        "\n",
        "# Put Options:\n",
        "def bsm_put_tf(enable_greeks = True):\n",
        "    S0 = tf.placeholder(tf.float32)\n",
        "    K = tf.placeholder(tf.float32)\n",
        "    dt = tf.placeholder(tf.float32)\n",
        "    sigma = tf.placeholder(tf.float32)\n",
        "    r = tf.placeholder(tf.float32)\n",
        "    q = tf.placeholder(tf.float32)    \n",
        "    G0 = S0 * tf.exp(0.5 * (r * dt) - ((tf.math.square(sigma)) * dt)/12)\n",
        "    Sigma_G = sigma/tf.sqrt(3.0)\n",
        "    Phi = tf.distributions.Normal(0.,1.).cdf\n",
        "    d_1 = (1/(Sigma_G * tf.sqrt(dt))) * (tf.log(G0/K) + 0.5 * (tf.math.square(Sigma_G)) * dt)\n",
        "    d_2 = (1/(Sigma_G * tf.sqrt(dt))) * (tf.log(G0/K) - 0.5 * (tf.math.square(Sigma_G)) * dt)\n",
        "    npv =  tf.exp(-r * dt) * (K * Phi(-d_2) - G0 * Phi(-d_1))              # GREEKS TABLE:\n",
        "    target_calc = [npv]                                                    # (e.g. Option Price with respect to Asset Price (S) is delta)\n",
        "    if enable_greeks:                                                      #                Asset Price (S)   Volatility    Time to Expiry\n",
        "      greeks = tf.gradients(npv, [S0, sigma, dt])                          # Option Price |     delta            vega           theta\n",
        "      dS_2nd = tf.gradients(greeks[0], [S0, sigma, dt])                    # Delta        |     gamma            vanna          charm\n",
        "      dsigma_2nd = tf.gradients(greeks[1], [S0, sigma, dt])                # Vega         |     vanna         vomma/volga       veta\n",
        "      dT_2nd = tf.gradients(dS_2nd[0], [S0, sigma, dt])                    # Gamma        |     speed            zomma          color\n",
        "      dsigma_3rd = tf.gradients(dsigma_2nd[1], [S0, sigma, dt])            # Vomma        |      N/A             ultima         totto\n",
        "      target_calc += [greeks, dS_2nd, dsigma_2nd, dT_2nd, dsigma_3rd]\n",
        "    def execute_graph(S_zero, strk, maturity, riskfrate, volatility):\n",
        "        with tf.Session() as sess:\n",
        "            res = sess.run(target_calc, \n",
        "                           {\n",
        "                               S0: S_zero,\n",
        "                               K : strk,\n",
        "                               r : riskfrate,\n",
        "                               sigma: volatility,\n",
        "                               dt: maturity})\n",
        "        return res\n",
        "    return execute_graph"
      ],
      "execution_count": 0,
      "outputs": []
    },
    {
      "cell_type": "markdown",
      "metadata": {
        "colab_type": "text",
        "id": "DWicIVv3enkX"
      },
      "source": [
        "### **Monte Carlo Simulator with Arithmetic Average**\n",
        "Call and Put Asian option prices with arithmetic averaging. The alternative implementation in Tensorlfow offers efficiency and includes the calculations of 1st 2nd and 3rd order Greeks."
      ]
    },
    {
      "cell_type": "markdown",
      "metadata": {
        "id": "YEIcJDQhe_Fx",
        "colab_type": "text"
      },
      "source": [
        "#### Conventional Interpretation"
      ]
    },
    {
      "cell_type": "code",
      "metadata": {
        "id": "bcOoGNSVfBoQ",
        "colab_type": "code",
        "colab": {}
      },
      "source": [
        "# Call Options:\n",
        "def mc_call_arithm(S0, K, T, t, r, q, sigma,iterations,timesteps):\n",
        "  mc_call_arithm_payoffs = []\n",
        "  for i in range(1,iterations):\n",
        "    S = gbm_paths(S0,K,T,t,r,q,sigma,seed,iterations,timesteps)\n",
        "    S_arithm = np.sum(S)/timesteps\n",
        "    mc_call_arithm_payoffs.append(np.exp(-r * T) * max(S_arithm - K, 0))\n",
        "  c = np.mean(mc_call_arithm_payoffs)\n",
        "  return c\n",
        "\n",
        "# Put Options:\n",
        "def mc_put_arithm(S0, K, T, t, r, q, sigma,iterations,timesteps):\n",
        "  mc_put_arithm_payoffs = []\n",
        "  for i in range(1,it):\n",
        "    S = gbm_paths(S0,K,T,t,r,q,sigma,seed,iterations,timesteps)\n",
        "    S_arithm = np.sum(S)/len(S)\n",
        "    mc_put_arithm_payoffs.append(np.exp(-r * T) * max(K - S_arithm, 0))\n",
        "  p = np.mean(mc_put_arithm_payoffs)\n",
        "  return p"
      ],
      "execution_count": 0,
      "outputs": []
    },
    {
      "cell_type": "markdown",
      "metadata": {
        "colab_type": "text",
        "id": "Wweo2-IyeiHp"
      },
      "source": [
        "#### Tensorflow Implementation:"
      ]
    },
    {
      "cell_type": "code",
      "metadata": {
        "colab_type": "code",
        "id": "cmRdXzAEehv3",
        "colab": {}
      },
      "source": [
        "# Sample Output\n",
        "# [NET PRESENT VALUE, [DELTA, VEGA, THETA], [GAMMA, VANNA, CHARM], [VANNA, VOLGA, VETA], [SPEED, ZOMMA, COLOR], [N/A, ULTIMA, TOTTO]]\n",
        "\n",
        "# Call Options:\n",
        "def mc_call_arithm_tf(enable_greeks=False):\n",
        "    (S0, K, dt, T, sigma, r, dw, S_i) = tf_graph_gbm_paths()\n",
        "    A = tf.reduce_sum(S_i, axis=1)/(T/dt)\n",
        "    payout = tf.maximum(A - K, 0)\n",
        "    npv = tf.exp(-r * T) * tf.reduce_mean(payout)\n",
        "    target_calc = [npv]\n",
        "    if enable_greeks:\n",
        "      greeks = tf.gradients(npv, [S0, sigma, dt]) # delta, vega, theta\n",
        "      dS_2nd = tf.gradients(greeks[0], [S0, sigma, dt]) # gamma, vanna, charm\n",
        "      dsigma_2nd = tf.gradients(greeks[1], [S0, sigma, dt]) # vanna, vomma/volga, veta\n",
        "      dT_2nd = tf.gradients(dS_2nd[0], [S0, sigma, dt]) # speed, zomma, color\n",
        "      dsigma_3rd = tf.gradients(dsigma_2nd[1], [S0, sigma, dt]) # N/A, ultima, totto\n",
        "      target_calc += [greeks, dS_2nd, dsigma_2nd, dT_2nd, dsigma_3rd]\n",
        "    def pricer(S_zero, strk, maturity, volatility, riskfrate, seed, iterations, timesteps):\n",
        "      if seed != 0:\n",
        "        np.random.seed(seed)\n",
        "      stdnorm_random_variates = np.random.randn(iterations, timesteps)\n",
        "      with tf.Session() as sess:\n",
        "        delta_t = maturity / timesteps\n",
        "        res = sess.run(target_calc,\n",
        "                       {\n",
        "                           S0: S_zero,\n",
        "                           K: strk,\n",
        "                           r: riskfrate,\n",
        "                           sigma: volatility,\n",
        "                           dt: delta_t,\n",
        "                           T: maturity,\n",
        "                           dw: stdnorm_random_variates})\n",
        "        return res\n",
        "    return pricer\n",
        "\n",
        "\n",
        "# Put Options:\n",
        "def mc_put_arithm_tf(enable_greeks=False):\n",
        "    (S0, K, dt, T, sigma, r, dw, S_i) = tf_graph_gbm_paths()\n",
        "    A = tf.reduce_sum(S_i, axis=1)/(T/dt)\n",
        "    payout = tf.maximum(K - A, 0)\n",
        "    npv = tf.exp(-r * T) * tf.reduce_mean(payout)\n",
        "    target_calc = [npv]\n",
        "    if enable_greeks:\n",
        "      greeks = tf.gradients(npv, [S0, sigma, dt]) # delta, vega, theta\n",
        "      dS_2nd = tf.gradients(greeks[0], [S0, sigma, dt]) # gamma, vanna, charm\n",
        "      dsigma_2nd = tf.gradients(greeks[1], [S0, sigma, dt]) # vanna, vomma/volga, veta\n",
        "      dT_2nd = tf.gradients(dS_2nd[0], [S0, sigma, dt]) # speed, zomma, color\n",
        "      dsigma_3rd = tf.gradients(dsigma_2nd[1], [S0, sigma, dt]) # N/A, ultima, totto\n",
        "      target_calc += [greeks, dS_2nd, dsigma_2nd, dT_2nd, dsigma_3rd]\n",
        "    def pricer(S_zero, strk, maturity, volatility, riskfrate, seed, iterations, timesteps):\n",
        "      if seed != 0:\n",
        "        np.random.seed(seed)\n",
        "      stdnorm_random_variates = np.random.randn(iterations, timesteps)\n",
        "      with tf.Session() as sess:\n",
        "        delta_t = maturity / timesteps\n",
        "        res = sess.run(target_calc,\n",
        "                       {\n",
        "                           S0: S_zero,\n",
        "                           K: strk,\n",
        "                           r: riskfrate,\n",
        "                           sigma: volatility,\n",
        "                           dt: delta_t,\n",
        "                           T: maturity,\n",
        "                           dw: stdnorm_random_variates})\n",
        "        return res\n",
        "    return pricer"
      ],
      "execution_count": 0,
      "outputs": []
    },
    {
      "cell_type": "markdown",
      "metadata": {
        "id": "b1Fu5swGul_x",
        "colab_type": "text"
      },
      "source": [
        "### **Monte Carlo Simulator with Geometric Average**"
      ]
    },
    {
      "cell_type": "markdown",
      "metadata": {
        "colab_type": "text",
        "id": "ZRckDhUieqjR"
      },
      "source": [
        "#### Conventional Implementation"
      ]
    },
    {
      "cell_type": "code",
      "metadata": {
        "id": "OMdz05wy3gLv",
        "colab_type": "code",
        "colab": {}
      },
      "source": [
        "# Call Options:\n",
        "def mc_call_geom(S0, K, T, t, r, q, sigma,iterations,timesteps):\n",
        "  mc_call_geom_payoffs = []\n",
        "  for i in range(1,iterations):\n",
        "    S = gbm_paths(S0,K,T,t,r,q,sigma,seed,iterations,timesteps)\n",
        "    S_geom_mu = np.exp(np.mean(np.log(S)))\n",
        "    mc_call_geom_payoffs.append(np.exp(-r * T) * max(S_geom_mu - K, 0))\n",
        "  c = np.mean(mc_call_geom_payoffs)\n",
        "  return c\n",
        "\n",
        "# Put Options:\n",
        "def mc_put_geom(S0, K, T, t, r, q, sigma,iterations,timesteps):\n",
        "  mc_put_geom_payoffs = []\n",
        "  for i in range(1,iterations):\n",
        "    S = gbm_paths(S0,K,T,t,r,q,sigma,seed,iterations,timesteps)\n",
        "    S_geom = np.exp(np.mean(np.log(S)))\n",
        "    mc_put_geom_payoffs.append(np.exp(-r * T) * max(K - S_geom, 0))\n",
        "  p = np.mean(mc_put_geom_payoffs)\n",
        "  return p"
      ],
      "execution_count": 0,
      "outputs": []
    },
    {
      "cell_type": "markdown",
      "metadata": {
        "id": "cIU7eftjcQXq",
        "colab_type": "text"
      },
      "source": [
        "#### Tensorflow Implementation"
      ]
    },
    {
      "cell_type": "code",
      "metadata": {
        "id": "WNRGP7V-cTya",
        "colab_type": "code",
        "colab": {}
      },
      "source": [
        "# Sample Output\n",
        "# [NET PRESENT VALUE, [DELTA, VEGA, THETA], [GAMMA, VANNA, CHARM], [VANNA, VOLGA, VETA], [SPEED, ZOMMA, COLOR], [N/A, ULTIMA, TOTTO]]\n",
        "\n",
        "# Call Options:\n",
        "def mc_call_geom_tf(enable_greeks=True):\n",
        "    (S0, K, dt, T, sigma, r, dw, S_i) = tf_graph_gbm_paths()\n",
        "    A = tf.pow(tf.reduce_prod(S_i, axis=1), dt / T)\n",
        "    payout = tf.maximum(A - K, 0)\n",
        "    npv = tf.exp(-r * T) * tf.reduce_mean(payout)                          # GREEKS TABLE:\n",
        "    target_calc = [npv]                                                    # (e.g. Option Price with respect to Asset Price (S) is delta)\n",
        "    if enable_greeks:                                                      #\n",
        "      grads_greeks = tf.ones([iterations,1])                               #                Asset Price (S)   Volatility    Time to Expiry\n",
        "      greeks = tf.gradients(npv, [S0, sigma, dt])                          # Option Price |     delta            vega           theta\n",
        "      dS_2nd = tf.gradients(greeks[0], [S0, sigma, dt])                    # Delta        |     gamma            vanna          charm\n",
        "      dsigma_2nd = tf.gradients(greeks[1], [S0, sigma, dt])                # Vega         |     vanna         vomma/volga       veta\n",
        "      dT_2nd = tf.gradients(dS_2nd[0], [S0, sigma, dt])                    # Gamma        |     speed            zomma          color\n",
        "      dsigma_3rd = tf.gradients(dsigma_2nd[1], [S0, sigma, dt])            # Vomma        |      N/A             ultima         totto\n",
        "      target_calc += [greeks, dS_2nd, dsigma_2nd, dT_2nd, dsigma_3rd]\n",
        "    def pricer(S_zero, strk, maturity, riskfrate, volatility, seed, iterations, timesteps):\n",
        "      if seed != 0:\n",
        "        np.random.seed(seed)\n",
        "      stdnorm_random_variates = np.random.randn(iterations, timesteps)\n",
        "      with tf.Session() as sess:\n",
        "        delta_t = maturity / timesteps\n",
        "        res = sess.run(target_calc,\n",
        "                       {\n",
        "                           S0: S_zero,\n",
        "                           K: strk,\n",
        "                           r: riskfrate,\n",
        "                           sigma: volatility,\n",
        "                           dt: delta_t,\n",
        "                           T: maturity,\n",
        "                           dw: stdnorm_random_variates})\n",
        "        return res\n",
        "    return pricer\n",
        "\n",
        "# Put Options:\n",
        "def mc_put_geom_tf(enable_greeks=True):\n",
        "    (S0, K, dt, T, sigma, r, dw, S_i) = tf_graph_gbm_paths()\n",
        "    A = tf.pow(tf.reduce_prod(S_i, axis=1), dt / T)\n",
        "    payout = tf.maximum(K - A, 0)\n",
        "    npv = tf.exp(-r * T) * tf.reduce_mean(payout)                          # GREEKS TABLE:\n",
        "    target_calc = [npv]                                                    # (e.g. Option Price with respect to Asset Price (S) is delta)\n",
        "    if enable_greeks:                                                      #                Asset Price (S)   Volatility    Time to Expiry\n",
        "      greeks = tf.gradients(npv, [S0, sigma, dt])                          # Option Price |     delta            vega           theta\n",
        "      dS_2nd = tf.gradients(greeks[0], [S0, sigma, dt])                    # Delta        |     gamma            vanna          charm\n",
        "      dsigma_2nd = tf.gradients(greeks[1], [S0, sigma, dt])                # Vega         |     vanna         vomma/volga       veta\n",
        "      dT_2nd = tf.gradients(dS_2nd[0], [S0, sigma, dt])                    # Gamma        |     speed            zomma          color\n",
        "      dsigma_3rd = tf.gradients(dsigma_2nd[1], [S0, sigma, dt])            # Vomma        |      N/A             ultima         totto\n",
        "      target_calc += [greeks, dS_2nd, dsigma_2nd, dT_2nd, dsigma_3rd]\n",
        "    def pricer(S_zero, strk, maturity, riskfrate, volatility, seed, iterations, timesteps):\n",
        "      if seed != 0:\n",
        "        np.random.seed(seed)\n",
        "      stdnorm_random_variates = np.random.randn(iterations, timesteps)\n",
        "      with tf.Session() as sess:\n",
        "        delta_t = maturity / timesteps\n",
        "        res = sess.run(target_calc,\n",
        "                       {\n",
        "                           S0: S_zero,\n",
        "                           K: strk,\n",
        "                           r: riskfrate,\n",
        "                           sigma: volatility,\n",
        "                           dt: delta_t,\n",
        "                           T: maturity,\n",
        "                           dw: stdnorm_random_variates})\n",
        "        return res\n",
        "    return pricer"
      ],
      "execution_count": 0,
      "outputs": []
    },
    {
      "cell_type": "markdown",
      "metadata": {
        "id": "faPZti8LjYd7",
        "colab_type": "text"
      },
      "source": [
        "### PDF, CDF"
      ]
    },
    {
      "cell_type": "code",
      "metadata": {
        "id": "YEq_axKigbtx",
        "colab_type": "code",
        "colab": {}
      },
      "source": [
        "# Probability density function of standard normal\n",
        "def dN(x):\n",
        "  return np.exp(-0.5 * x ** 2) / np.sqrt(2 * np.pi)\n",
        "\n",
        "# Cumulative density function of standard normal\n",
        "def N(u):\n",
        "  q = special.erf(u / np.sqrt(2.0))\n",
        "  return (1.0 + q) / 2.0"
      ],
      "execution_count": 0,
      "outputs": []
    },
    {
      "cell_type": "markdown",
      "metadata": {
        "id": "RlRnlaUyYrqF",
        "colab_type": "text"
      },
      "source": [
        "### **Greeks**"
      ]
    },
    {
      "cell_type": "markdown",
      "metadata": {
        "id": "W8Bsor2Hjkf_",
        "colab_type": "text"
      },
      "source": [
        "#### Greeks Derivations"
      ]
    },
    {
      "cell_type": "code",
      "metadata": {
        "id": "0TrXkqAWxAxT",
        "colab_type": "code",
        "colab": {}
      },
      "source": [
        "# 1st Order Greeks:\n",
        "\n",
        "# Delta\n",
        "def bsm_delta(S0, K, T, t, r, q, sigma, optiontype):\n",
        "  G0 = S0 * np.exp(0.5 * (T - t) * (r - q - (sigma**2)/6))\n",
        "  Sigma_G = sigma/np.sqrt(3)\n",
        "  d1 = (1/(Sigma_G * np.sqrt(T - t))) * (np.log(G0/K) + 0.5 * (Sigma_G**2) * (T - t))\n",
        "  if(optiontype == \"Call\"):\n",
        "    delta = np.exp(-(T - t)) * N(d1)\n",
        "  elif(optiontype == \"Put\"):\n",
        "    delta = -np.exp(-(T - t)) * N(-d1)\n",
        "  return delta\n",
        "\n",
        "# Vega\n",
        "def bsm_vega(S0, K, T, t, r, q, sigma, optiontype):\n",
        "  G0 = S0 * np.exp(0.5 * (T - t) * (r - q - (sigma**2)/6))\n",
        "  Sigma_G = sigma/np.sqrt(3)\n",
        "  d1 = (1/(Sigma_G * np.sqrt(T - t))) * (np.log(G0/K) + 0.5 * (Sigma_G**2) * (T - t))\n",
        "  vega = S0 * dN(d1) * np.sqrt(T - t)\n",
        "  return vega\n",
        "\n",
        "# Rho\n",
        "def bsm_rho(S0, K, T, t, r, q, sigma, optiontype):\n",
        "  G0 = S0 * np.exp(0.5 * (T - t) * (r - q - (sigma**2)/6))\n",
        "  Sigma_G = sigma/np.sqrt(3)  \n",
        "  d1 = (1/(Sigma_G * np.sqrt(T - t))) * (np.log(G0/K) + 0.5 * (Sigma_G**2) * (T - t))\n",
        "  d2 = (1/(Sigma_G * np.sqrt(T - t))) * (np.log(G0/K) - 0.5 * (Sigma_G**2) * (T - t))\n",
        "  if(optiontype == \"Call\"):\n",
        "    rho = K * (T - t) * np.exp(-r * (T - t)) * N(d2)\n",
        "  if(optiontype == \"Put\"):\n",
        "    rho = -K * (T - t) * np.exp(-r * (T - t)) * N(-d2)\n",
        "  return rho\n",
        "\n",
        "# Theta\n",
        "def bsm_theta(S0, K, T, t, r, q, sigma, optiontype):\n",
        "  G0 = S0 * np.exp(0.5 * (T - t) * (r - q - (sigma**2)/6))\n",
        "  Sigma_G = sigma/np.sqrt(3)\n",
        "  d1 = (1/(Sigma_G * np.sqrt(T - t))) * (np.log(G0/K) + 0.5 * (Sigma_G**2) * (T - t))\n",
        "  d2 = (1/(Sigma_G * np.sqrt(T - t))) * (np.log(G0/K) - 0.5 * (Sigma_G**2) * (T - t))\n",
        "  if(optiontype == \"Call\"):\n",
        "    theta = -(S0 * dN(d1) * Sigma_G / (2 * np.sqrt(T - t)) - r * K * np.exp(-r * (T - t)) * N(d2))\n",
        "  if(optiontype == \"Put\"):\n",
        "    theta = -(S0 * dN(d1) * Sigma_G / (2 * np.sqrt(T - t)) + r * K * np.exp(-r * (T - t)) * N(-d2))\n",
        "  return theta\n",
        "\n",
        "# 2nd Order Greeks:\n",
        "\n",
        "# Gamma\n",
        "def bsm_gamma(S0, K, T, t, r, q, sigma, optiontype):\n",
        "  G0 = S0 * np.exp(0.5 * (T - t) * (r - q - (sigma**2)/6))\n",
        "  Sigma_G = sigma/np.sqrt(3)\n",
        "  d1 = (1/(Sigma_G * np.sqrt(T - t))) * (np.log(G0/K) + 0.5 * (Sigma_G**2) * (T - t))\n",
        "  gamma = dN(d1) / (S0 * Sigma_G * math.sqrt(T - t))\n",
        "  return gamma\n",
        "\n",
        "# Charm\n",
        "def bsm_charm(S0, K, T, t, r, q, sigma, optiontype):\n",
        "  G0 = S0 * np.exp(0.5 * (T - t) * (r - q - (sigma**2)/6))\n",
        "  Sigma_G = sigma/np.sqrt(3)  \n",
        "  d1 = (1/(Sigma_G * np.sqrt(T - t))) * (np.log(G0/K) + 0.5 * (Sigma_G**2) * (T - t))\n",
        "  d2 = (1/(Sigma_G * np.sqrt(T - t))) * (np.log(G0/K) - 0.5 * (Sigma_G**2) * (T - t)) \n",
        "  charm = -dN(d1) * (2 * r * (T-t) - d2 * Sigma_G * np.sqrt(T-t)) / (2 * (T - t) * Sigma_G * np.sqrt(T-t))\n",
        "  return charm\n",
        "\n",
        "# Phi\n",
        "def bsm_phi(S0, K, T, t, r, q, sigma, optiontype):\n",
        "  G0 = S0 * np.exp(0.5 * (T - t) * (r - q - (sigma**2)/6))\n",
        "  Sigma_G = sigma/np.sqrt(3)  \n",
        "  d1 = (1/(Sigma_G * np.sqrt(T - t))) * (np.log(G0/K) + 0.5 * (Sigma_G**2) * (T - t))\n",
        "  d2 = (1/(Sigma_G * np.sqrt(T - t))) * (np.log(G0/K) - 0.5 * (Sigma_G**2) * (T - t))\n",
        "  phi = 0.01 * T * S0 * np.exp(-q * T) * N(d1)\n",
        "  return phi\n",
        "\n",
        "# Vanna\n",
        "def bsm_vanna(S0, K, T, t, r, q, sigma, optiontype):\n",
        "  G0 = S0 * np.exp(0.5 * (T - t) * (r - q - (sigma**2)/6))\n",
        "  Sigma_G = sigma/np.sqrt(3)  \n",
        "  d1 = (1/(Sigma_G * np.sqrt(T - t))) * (np.log(G0/K) + 0.5 * (Sigma_G**2) * (T - t))\n",
        "  d2 = (1/(Sigma_G * np.sqrt(T - t))) * (np.log(G0/K) - 0.5 * (Sigma_G**2) * (T - t))\n",
        "  vanna = S0 * np.exp(-q * T) * d2 / Sigma_G * dN(d1) \n",
        "  return vanna\n",
        "\n",
        "# Vomma\n",
        "def bsm_vomma(S0, K, T, t, r, q, sigma, optiontype):\n",
        "  G0 = S0 * np.exp(0.5 * (T - t) * (r - q - (sigma**2)/6))\n",
        "  Sigma_G = sigma/np.sqrt(3)  \n",
        "  d1 = (1/(Sigma_G * np.sqrt(T - t))) * (np.log(G0/K) + 0.5 * (Sigma_G**2) * (T - t))\n",
        "  d2 = (1/(Sigma_G * np.sqrt(T - t))) * (np.log(G0/K) - 0.5 * (Sigma_G**2) * (T - t))\n",
        "  vomma = -0.01 * np.exp(-q * T) * d2 / Sigma_G * dN(d1)\n",
        "  return vomma"
      ],
      "execution_count": 0,
      "outputs": []
    },
    {
      "cell_type": "markdown",
      "metadata": {
        "id": "HwSOCFiejr3P",
        "colab_type": "text"
      },
      "source": [
        "#### Greeks: Sensitivity Plotter"
      ]
    },
    {
      "cell_type": "code",
      "metadata": {
        "id": "NPwlq00J_P-2",
        "colab_type": "code",
        "colab": {}
      },
      "source": [
        "def greeks_plot_tool(greek_function, x_var_name, y_var_name,S0, K, T, t, r, q, sigma, x, y, optiontype, greek, plot):\n",
        "    # Initialise vector to store our option values and then iterate over\n",
        "    # Assumption that we're using a constant sized vector length for each variable\n",
        "    # Need to change the variables being iterated over here for each update (possibly a better way to do this)\n",
        "    V = np.zeros((len(S0), len(S0)), dtype=np.float)\n",
        "    for i in range(len(S0)):\n",
        "      for j in range(len(S0)):\n",
        "        V[i, j] = greek_function(S0[i], K[i], T[j], t[i], r[i], q[i], sigma[i], optiontype)\n",
        " \n",
        "    # Initiliase plotting canvas \n",
        "    surf = plot.plot_surface(x, y, V, rstride=1, cstride=1, alpha=0.7, cmap=cm.RdYlGn, antialiased = True) #cmap = cm.RdYlBu, for surface plotting\n",
        "    plot.set_xlabel(x_var_name, color = color_plots, fontsize = xlabel_size)\n",
        "    plot.set_ylabel(y_var_name, color = color_plots, fontsize = ylabel_size)\n",
        "    plot.set_zlabel(\"%s(K, T)\" % greek, color = color_plots, fontsize = zlabel_size)\n",
        "    plot.set_title(\"%s %s\" % (optiontype, greek), color = color_plots, fontsize=title_size, fontweight='bold')\n",
        "    \n",
        "    # Calculate colour levels based on our meshgrid\n",
        "    Vlevels = np.linspace(V.min(), V.max(), num=8, endpoint=True)\n",
        "    xlevels = np.linspace(x.min(), x.max(), num=8, endpoint=True)\n",
        "    ylevels = np.linspace(y.min(), y.max(), num=8, endpoint=True)\n",
        "    \n",
        "    cset = plot.contourf(x, y, V, Vlevels, zdir='z',offset=V.min(), cmap=cm.RdYlGn, alpha = 0.5, antialiased = True)\n",
        "    cset = plot.contourf(x, y, V, xlevels, zdir='x',offset=x.min(), cmap=cm.RdYlGn, alpha = 0.5, antialiased = True)\n",
        "    cset = plot.contourf(x, y, V, ylevels, zdir='y',offset=y.max(), cmap=cm.RdYlGn, alpha = 0.5, antialiased = True)\n",
        "\n",
        "    # Set our viewing constraints\n",
        "    plt.clabel(cset,fontsize=10, inline=1, color = color_plots, antialiased = True)\n",
        "    plot.set_xlim(x.min(), x.max())\n",
        "    plot.set_ylim(y.min(), y.max())\n",
        "    plot.set_zlim(V.min(), V.max())\n",
        "\n",
        "    # Colorbar\n",
        "    colbar = plt.colorbar(surf, shrink=1.0, extend='both', aspect = 10)\n",
        "    l,b,w,h = plt.gca().get_position().bounds\n",
        "    ll,bb,ww,hh = colbar.ax.get_position().bounds\n",
        "    colbar.ax.set_position([ll, b+0.1*h, ww, h*0.8])"
      ],
      "execution_count": 0,
      "outputs": []
    },
    {
      "cell_type": "markdown",
      "metadata": {
        "id": "SWAgbAidJ71u",
        "colab_type": "text"
      },
      "source": [
        "### Option Sensitivity"
      ]
    },
    {
      "cell_type": "markdown",
      "metadata": {
        "id": "YpUavy53vxuR",
        "colab_type": "text"
      },
      "source": [
        "#### BSM Option Sensitivity"
      ]
    },
    {
      "cell_type": "code",
      "metadata": {
        "id": "AhC9XI-GeqdF",
        "colab_type": "code",
        "colab": {}
      },
      "source": [
        "  def bsm_plot_values(function,S0, K, T, t, r, q, sigma,optiontype):\n",
        "    fig = plt.figure(figsize=(30,90))\n",
        "    points = 100\n",
        "\n",
        "    # Option(K,T) vs. Strike\n",
        "    fig1 = fig.add_subplot(821)\n",
        "    klist = np.linspace(K-30, K+30, points)\n",
        "    vlist = [function(S0, K, T, t, r, q, sigma) for K in klist]\n",
        "    fig1.plot(klist, vlist)\n",
        "    fig1.grid()\n",
        "    fig1.set_title('BSM %s Option Value vs. Strike' % optiontype, color = color_plots, fontsize = title_size)\n",
        "    fig1.set_xlabel('Strike $K$', color = color_plots, fontsize = xlabel_size)\n",
        "    fig1.set_ylabel('%s Option Value' % optiontype, color = color_plots, fontsize = ylabel_size)\n",
        "\n",
        "    # Option(K,T) vs. Strike vs. Underlying Price\n",
        "    klist = np.linspace(K-30, K+30, points)\n",
        "    s0list = np.linspace(S0 - 20, S0 + 20, points)\n",
        "    V = np.zeros((len(s0list), len(klist)), dtype=np.float)\n",
        "    for j in range(len(klist)):\n",
        "      for i in range(len(s0list)):\n",
        "        V[i, j] = function(s0list[i], klist[j], T, t, r, q, sigma)\n",
        "\n",
        "    fig2 = fig.add_subplot(823, projection=\"3d\")\n",
        "    x, y = np.meshgrid(klist, s0list)\n",
        "    fig2.patch.set_alpha(0.0)\n",
        "    fig2.plot_wireframe(x, y, V, linewidth=1.0, color = color_plots) #cmap = cm.RdYlGn, for surface plotting\n",
        "    fig2.set_title('BSM %s Option Value vs. Strike vs. Underlying Price' % optiontype, color = color_plots, fontsize = title_size)\n",
        "    fig2.set_xlabel('Strike $K$', color = color_plots, fontsize = xlabel_size)\n",
        "    fig2.set_ylabel('Stock/Underlying Price ($)', color = color_plots, fontsize = ylabel_size)\n",
        "    fig2.set_zlabel('%s Option Value' % optiontype, color = color_plots, fontsize = zlabel_size)\n",
        "\n",
        "    # Option(K,T) vs. Time\n",
        "    fig3 = fig.add_subplot(822)\n",
        "    tlist = np.linspace(0.0001, T, points)\n",
        "    vlist = [function(S0, K, T, t, r, q, sigma) for T in tlist]\n",
        "    fig3.plot(tlist, vlist)\n",
        "    fig3.grid()\n",
        "    fig3.set_title('BSM %s Option Value vs. Time' % optiontype, color = color_plots, fontsize = title_size)\n",
        "    fig3.set_xlabel('Maturity $T$', color = color_plots, fontsize = xlabel_size)\n",
        "    fig3.set_ylabel('%s Option Value' % optiontype, color = color_plots, fontsize = ylabel_size)\n",
        "\n",
        "    # Option(K,T) vs. Time vs. Underlying Price\n",
        "    tlist = np.linspace(0.0001, T, points)\n",
        "    s0list = np.linspace(S0 - 20, S0 + 10, points)\n",
        "    V = np.zeros((len(s0list), len(tlist)), dtype=np.float)\n",
        "    for j in range(len(tlist)):\n",
        "      for i in range(len(s0list)):\n",
        "        V[i, j] = function(s0list[i], K, tlist[j], t, r, q, sigma)\n",
        "\n",
        "    fig4 = fig.add_subplot(824, projection=\"3d\")\n",
        "    x, y = np.meshgrid(tlist, s0list)\n",
        "    fig4.patch.set_alpha(0.0)\n",
        "    fig4.plot_wireframe(x, y, V, linewidth=1.0, color = color_plots) #cmap = cm.RdYlGn, for surface plotting\n",
        "    fig4.set_title('BSM %s Option Value vs. Time vs. Underlying Price' % optiontype, color = color_plots, fontsize = title_size)\n",
        "    fig4.set_xlabel('Maturity $T$', color = color_plots, fontsize = xlabel_size)\n",
        "    fig4.set_ylabel('Stock/Underlying Price ($)', color = color_plots, fontsize = ylabel_size)\n",
        "    fig4.set_zlabel('%s Option Value' % optiontype, color = color_plots, fontsize = zlabel_size)\n",
        "\n",
        "    # Option(K,T) vs. r\n",
        "    fig5 = fig.add_subplot(825)\n",
        "    rlist = np.linspace(0, r, points)\n",
        "    vlist = [function(S0, K, T, t, r, q, sigma) for r in rlist]\n",
        "    fig5.plot(rlist, vlist)\n",
        "    fig5.grid()\n",
        "    fig5.set_title('BSM %s Option Value vs. r' % optiontype, color = color_plots, fontsize = title_size)\n",
        "    fig5.set_xlabel('Risk-free rate $r$', color = color_plots, fontsize = xlabel_size)\n",
        "    fig5.set_ylabel('%s Option Value' % optiontype, color = color_plots, fontsize = ylabel_size)\n",
        "\n",
        "    # Option(K,T) vs. r vs. Underlying Price\n",
        "    rlist = np.linspace(0, r, points)\n",
        "    s0list = np.linspace(S0 - 20, S0 + 20, points)\n",
        "    V = np.zeros((len(s0list), len(rlist)), dtype=np.float)\n",
        "    for j in range(len(rlist)):\n",
        "      for i in range(len(s0list)):\n",
        "        V[i, j] = function(s0list[i], K, T, t, rlist[j], q, sigma)\n",
        "\n",
        "    fig6 = fig.add_subplot(827, projection=\"3d\")\n",
        "    x, y = np.meshgrid(rlist, s0list)\n",
        "    fig6.patch.set_alpha(0.0)\n",
        "    fig6.plot_wireframe(x, y, V, linewidth=1.0, color = color_plots) #cmap = cm.RdYlGn, for surface plotting\n",
        "    fig6.set_title('BSM %s(K:%d,T:%d) vs. r vs. Underlying Price' % (optiontype,K,T), color = color_plots, fontsize = title_size)\n",
        "    fig6.set_xlabel('Risk-free rate $r$', color = color_plots, fontsize = xlabel_size)\n",
        "    fig6.set_ylabel('Stock/Underlying Price ($)', color = color_plots, fontsize = ylabel_size)\n",
        "    fig6.set_zlabel('%s Option Value' % optiontype, color = color_plots, fontsize = zlabel_size)\n",
        "\n",
        "    # Option(K,T) vs. Implied Vol.\n",
        "    fig7 = fig.add_subplot(826)\n",
        "    slist = np.linspace(0.01, sigma, points)\n",
        "    vlist = [function(S0, K, T, t, r, q, sigma) for sigma in slist]\n",
        "    fig7.plot(slist, vlist)\n",
        "    fig7.grid()\n",
        "    fig7.set_title('BSM %s Option Value vs. Volatility' % optiontype, color = color_plots, fontsize = title_size)\n",
        "    fig7.set_xlabel('Volatility $\\sigma$', color = color_plots, fontsize = xlabel_size)\n",
        "    fig7.set_ylabel('%s Option Value' % optiontype, color = color_plots, fontsize = ylabel_size)\n",
        "\n",
        "    # Option(K,T) vs. Volatility vs. Underlying Price\n",
        "    slist = np.linspace(0.01, sigma, points)\n",
        "    s0list = np.linspace(S0 - 20, S0 + 20, points)\n",
        "    V = np.zeros((len(s0list), len(slist)), dtype=np.float)\n",
        "    for j in range(len(slist)):\n",
        "      for i in range(len(s0list)):\n",
        "        V[i, j] = function(s0list[i], K, T, t, r, q, slist[j])\n",
        "\n",
        "    fig8 = fig.add_subplot(828, projection=\"3d\")\n",
        "    x, y = np.meshgrid(slist, s0list)\n",
        "    fig8.patch.set_alpha(0.0)\n",
        "    fig8.plot_wireframe(x, y, V, linewidth=1.0, color = color_plots) #cmap = cm.RdYlGn, for surface plotting\n",
        "    fig8.set_title('BSM %s Option Value vs. Volatility vs. Underlying Price' % optiontype, color = color_plots, fontsize = title_size)\n",
        "    fig8.set_xlabel('Volatility $\\sigma$', color = color_plots, fontsize = xlabel_size)\n",
        "    fig8.set_ylabel('Stock/Underlying Price ($)', color = color_plots, fontsize = ylabel_size)\n",
        "    fig8.set_zlabel('%s Option Value' % optiontype, color = color_plots, fontsize = zlabel_size)"
      ],
      "execution_count": 0,
      "outputs": []
    },
    {
      "cell_type": "markdown",
      "metadata": {
        "id": "LQlqZfpFk0IT",
        "colab_type": "text"
      },
      "source": [
        "#### Monte Carlo Option Sensitivity"
      ]
    },
    {
      "cell_type": "code",
      "metadata": {
        "id": "CHeLCMQmk4qd",
        "colab_type": "code",
        "colab": {}
      },
      "source": [
        "  def mc_plot_values(function,S0, K, T, t, r, q, sigma, iterations, timesteps, optiontype):\n",
        "    fig = plt.figure(figsize=(30,90))\n",
        "    points = 100\n",
        "\n",
        "    # Option(K,T) vs. Strike\n",
        "    fig1 = fig.add_subplot(821)\n",
        "    klist = np.linspace(K-30, K+30, points)\n",
        "    vlist = [function(S0, K, T, t, r, q, sigma,iterations,timesteps) for K in klist]\n",
        "    fig1.plot(klist, vlist)\n",
        "    fig1.grid()\n",
        "    fig1.set_title('Monte Carlo %s Option Value vs. Strike' % optiontype, color = color_plots, fontsize = title_size)\n",
        "    fig1.set_xlabel('Strike $K$', color = color_plots, fontsize = xlabel_size)\n",
        "    fig1.set_ylabel('%s Option Value' % optiontype, color = color_plots, fontsize = ylabel_size)\n",
        "\n",
        "    # Option(K,T) vs. Strike vs. Underlying Price\n",
        "    klist = np.linspace(K-30, K+30, points)\n",
        "    s0list = np.linspace(S0 - 20, S0 + 20, points)\n",
        "    V = np.zeros((len(s0list), len(klist)), dtype=np.float)\n",
        "    for j in range(len(klist)):\n",
        "      for i in range(len(s0list)):\n",
        "        V[i, j] = function(s0list[i], klist[j], T, t, r, q, sigma,iterations,timesteps)\n",
        "\n",
        "    fig2 = fig.add_subplot(823, projection=\"3d\")\n",
        "    x, y = np.meshgrid(klist, s0list)\n",
        "    fig2.patch.set_alpha(0.0)\n",
        "    fig2.plot_wireframe(x, y, V, linewidth=1.0, color = color_plots) #cmap = cm.RdYlGn, for surface plotting\n",
        "    fig2.set_title('Monte Carlo %s Option Value vs. Strike vs. Underlying Price' % optiontype, color = color_plots, fontsize = title_size)\n",
        "    fig2.set_xlabel('Strike $K$', color = color_plots, fontsize = xlabel_size)\n",
        "    fig2.set_ylabel('Stock/Underlying Price ($)', color = color_plots, fontsize = ylabel_size)\n",
        "    fig2.set_zlabel('%s Option Value' % optiontype, color = color_plots, fontsize = zlabel_size)\n",
        "\n",
        "    # Option(K,T) vs. Time\n",
        "    fig3 = fig.add_subplot(822)\n",
        "    tlist = np.linspace(0.0001, T, points)\n",
        "    vlist = [function(S0, K, T, t, r, q, sigma,iterations,timesteps) for T in tlist]\n",
        "    fig3.plot(tlist, vlist)\n",
        "    fig3.grid()\n",
        "    fig3.set_title('Monte Carlo %s Option Value vs. Time' % optiontype, color = color_plots, fontsize = title_size)\n",
        "    fig3.set_xlabel('Maturity $T$', color = color_plots, fontsize = xlabel_size)\n",
        "    fig3.set_ylabel('%s Option Value' % optiontype, color = color_plots, fontsize = ylabel_size)\n",
        "\n",
        "    # Option(K,T) vs. Time vs. Underlying Price\n",
        "    tlist = np.linspace(0.0001, T, points)\n",
        "    s0list = np.linspace(S0 - 20, S0 + 10, points)\n",
        "    V = np.zeros((len(s0list), len(tlist)), dtype=np.float)\n",
        "    for j in range(len(tlist)):\n",
        "      for i in range(len(s0list)):\n",
        "        V[i, j] = function(s0list[i], K, tlist[j], t, r, q, sigma,iterations,timesteps)\n",
        "\n",
        "    fig4 = fig.add_subplot(824, projection=\"3d\")\n",
        "    x, y = np.meshgrid(tlist, s0list)\n",
        "    fig4.patch.set_alpha(0.0)\n",
        "    fig4.plot_wireframe(x, y, V, linewidth=1.0, color = color_plots) #cmap = cm.RdYlGn, for surface plotting\n",
        "    fig4.set_title('Monte Carlo %s Option Value vs. Time vs. Underlying Price' % optiontype, color = color_plots, fontsize = title_size)\n",
        "    fig4.set_xlabel('Maturity $T$', color = color_plots, fontsize = xlabel_size)\n",
        "    fig4.set_ylabel('Stock/Underlying Price ($)', color = color_plots, fontsize = ylabel_size)\n",
        "    fig4.set_zlabel('%s Option Value' % optiontype, color = color_plots, fontsize = zlabel_size)\n",
        "\n",
        "    # Option(K,T) vs. r\n",
        "    fig5 = fig.add_subplot(825)\n",
        "    rlist = np.linspace(0, r, points)\n",
        "    vlist = [function(S0, K, T, t, r, q, sigma,iterations,timesteps) for r in rlist]\n",
        "    fig5.plot(rlist, vlist)\n",
        "    fig5.grid()\n",
        "    fig5.set_title('Monte Carlo %s Option Value vs. r' % optiontype, color = color_plots, fontsize = title_size)\n",
        "    fig5.set_xlabel('Risk-free rate $r$', color = color_plots, fontsize = xlabel_size)\n",
        "    fig5.set_ylabel('%s Option Value' % optiontype, color = color_plots, fontsize = ylabel_size)\n",
        "\n",
        "    # Option(K,T) vs. r vs. Underlying Price\n",
        "    rlist = np.linspace(0, r, points)\n",
        "    s0list = np.linspace(S0 - 20, S0 + 20, points)\n",
        "    V = np.zeros((len(s0list), len(rlist)), dtype=np.float)\n",
        "    for j in range(len(rlist)):\n",
        "      for i in range(len(s0list)):\n",
        "        V[i, j] = function(s0list[i], K, T, t, rlist[j], q, sigma,iterations,timesteps)\n",
        "\n",
        "    fig6 = fig.add_subplot(827, projection=\"3d\")\n",
        "    x, y = np.meshgrid(rlist, s0list)\n",
        "    fig6.patch.set_alpha(0.0)\n",
        "    fig6.plot_wireframe(x, y, V, linewidth=1.0, color = color_plots) #cmap = cm.RdYlGn, for surface plotting\n",
        "    fig6.set_title('Monte Carlo %s Option Value vs. r vs. Underlying Price' % optiontype, color = color_plots, fontsize = title_size)\n",
        "    fig6.set_xlabel('Risk-free rate $r$', color = color_plots, fontsize = xlabel_size)\n",
        "    fig6.set_ylabel('Stock/Underlying Price ($)', color = color_plots, fontsize = ylabel_size)\n",
        "    fig6.set_zlabel('%s Option Value' % optiontype, color = color_plots, fontsize = zlabel_size)\n",
        "\n",
        "    # Option(K,T) vs. Implied Vol.\n",
        "    fig7 = fig.add_subplot(826)\n",
        "    slist = np.linspace(0.01, sigma, points)\n",
        "    vlist = [function(S0, K, T, t, r, q, sigma,iterations,timesteps) for sigma in slist]\n",
        "    fig7.plot(slist, vlist)\n",
        "    fig7.grid()\n",
        "    fig7.set_title('Monte Carlo %s Option Value vs. Volatility' % optiontype, color = color_plots, fontsize = title_size)\n",
        "    fig7.set_xlabel('Volatility $\\sigma$', color = color_plots, fontsize = xlabel_size)\n",
        "    fig7.set_ylabel('%s Option Value' % optiontype, color = color_plots, fontsize = ylabel_size)\n",
        "\n",
        "    # Option(K,T) vs. Volatility vs. Underlying Price\n",
        "    slist = np.linspace(0.01, sigma, points)\n",
        "    s0list = np.linspace(S0 - 20, S0 + 20, points)\n",
        "    V = np.zeros((len(s0list), len(slist)), dtype=np.float)\n",
        "    for j in range(len(slist)):\n",
        "      for i in range(len(s0list)):\n",
        "        V[i, j] = function(s0list[i], K, T, t, r, q, slist[j],iterations,timesteps)\n",
        "\n",
        "    fig8 = fig.add_subplot(828, projection=\"3d\")\n",
        "    x, y = np.meshgrid(slist, s0list)\n",
        "    fig8.patch.set_alpha(0.0)\n",
        "    fig8.plot_wireframe(x, y, V, linewidth=1.0, color = color_plots) #cmap = cm.RdYlGn, for surface plotting\n",
        "    fig8.set_title('Monte Carlo %s Option Value vs. Volatility vs. Underlying Price' % optiontype, color = color_plots, fontsize = title_size)\n",
        "    fig8.set_xlabel('Volatility $\\sigma$', color = color_plots, fontsize = xlabel_size)\n",
        "    fig8.set_ylabel('Stock/Underlying Price ($)', color = color_plots, fontsize = ylabel_size)\n",
        "    fig8.set_zlabel('%s Option Value' % optiontype, color = color_plots, fontsize = zlabel_size)"
      ],
      "execution_count": 0,
      "outputs": []
    },
    {
      "cell_type": "markdown",
      "metadata": {
        "id": "9alKHAGzxl7s",
        "colab_type": "text"
      },
      "source": [
        "### **Variance Reduction**"
      ]
    },
    {
      "cell_type": "markdown",
      "metadata": {
        "id": "y7Kt4nM_xuQ6",
        "colab_type": "text"
      },
      "source": [
        "#### Multiple Control Variates Technique"
      ]
    },
    {
      "cell_type": "code",
      "metadata": {
        "id": "XSv5VQiexsoY",
        "colab_type": "code",
        "colab": {}
      },
      "source": [
        "# Call Options:\n",
        "def mc_call_control_variates(S0, K, T, t, r, q, sigma,iterations,timesteps):\n",
        "  payoff_bsm = bsm_call(S0, K, T, t, r, q, sigma)\n",
        "  c_cv_temp = []\n",
        "  c_cv = []\n",
        "  c_upper_cv = []\n",
        "  c_lower_cv = []\n",
        "  for i in range(1,iterations):\n",
        "    seed = random.randint(1,1325643)\n",
        "    S = gbm_paths(S0,K,T,t,r,q,sigma,seed,iterations,timesteps)\n",
        "    S_arithm = np.mean(S, axis = 1)\n",
        "    S_geom = np.exp(np.mean(np.log(S), axis = 1))\n",
        "    payoff_arithm = np.exp(-r * T) * max(np.mean(S_arithm, axis=0) - K, 0)\n",
        "    payoff_geom = np.exp(-r * T) * max(np.mean(S_geom, axis=0) - K, 0)\n",
        "    c_cv_temp.append(payoff_arithm + payoff_bsm - payoff_geom)\n",
        "    c_cv.append(np.mean(c_cv_temp, 0))\n",
        "    c_upper_cv.append(np.mean(c_cv) + 1.96 * np.std(c_cv)/np.sqrt(i))\n",
        "    c_lower_cv.append(np.mean(c_cv) - 1.96 * np.std(c_cv)/np.sqrt(i))\n",
        "       \n",
        "  return c_cv, c_upper_cv, c_lower_cv\n",
        "\n",
        "# Put Options:\n",
        "def mc_put_control_variates(S0, K, T, t, r, q, sigma,iterations,timesteps):\n",
        "  payoff_bsm = bsm_put(S0, K, T, t, r, q, sigma)\n",
        "  p_cv_temp = []\n",
        "  p_cv = []\n",
        "  p_upper_cv = []\n",
        "  p_lower_cv = []\n",
        "  for i in range(1,iterations):\n",
        "    seed = random.randint(1,1325643)\n",
        "    S = gbm_paths(S0,K,T,t,r,q,sigma,seed,iterations,timesteps)\n",
        "    S_arithm = np.mean(S, axis = 1)\n",
        "    S_geom = np.exp(np.mean(np.log(S), axis = 1))\n",
        "    payoff_arithm = np.exp(-r * T) * max(K - np.mean(S_arithm, axis=0), 0)\n",
        "    payoff_geom = np.exp(-r * T) * max(K - np.mean(S_geom, axis=0), 0)\n",
        "    p_cv_temp.append(payoff_arithm + payoff_bsm - payoff_geom)\n",
        "    p_cv.append(np.mean(p_cv_temp, 0))\n",
        "    p_upper_cv.append(np.mean(p_cv) + 1.96 * np.std(p_cv)/np.sqrt(i))\n",
        "    p_lower_cv.append(np.mean(p_cv) - 1.96 * np.std(p_cv)/np.sqrt(i))\n",
        "       \n",
        "  return p_cv, p_upper_cv, p_lower_cv"
      ],
      "execution_count": 0,
      "outputs": []
    },
    {
      "cell_type": "markdown",
      "metadata": {
        "id": "9HcItrRWzr-z",
        "colab_type": "text"
      },
      "source": [
        "## **Performance Tests**"
      ]
    },
    {
      "cell_type": "markdown",
      "metadata": {
        "id": "GnRDaSeCkkOI",
        "colab_type": "text"
      },
      "source": [
        "### Black-Scholes vs. Monte Carlo: Call Options with Geometric Average"
      ]
    },
    {
      "cell_type": "code",
      "metadata": {
        "id": "lTzgsDfaZMSQ",
        "colab_type": "code",
        "outputId": "57de9b79-c8f7-42d1-b2f6-67dde62c9287",
        "colab": {
          "base_uri": "https://localhost:8080/",
          "height": 34
        }
      },
      "source": [
        "print('- - - - - - - - - - - - - - - - -')\n",
        "\n",
        "for i in range(95,110,5):\n",
        "  bs = bsm_call(S0, i, T, t, r, q, sigma)\n",
        "  mc = mc_call_geom(S0, i, T, t, r, q, sigma,iterations,timesteps)\n",
        "  error = np.abs((bs-mc)/bs)*100\n",
        "  print('G_c(K=%d,T=%d):'%(i,T))\n",
        "  print('Black-Scholes:',bs)\n",
        "  print('Monte Carlo:', mc)\n",
        "  print('Error: %f%%' % error)\n",
        "  print('- - - - - - - - - - - - - - - - -')"
      ],
      "execution_count": 0,
      "outputs": [
        {
          "output_type": "stream",
          "text": [
            "- - - - - - - - - - - - - - - - -\n"
          ],
          "name": "stdout"
        }
      ]
    },
    {
      "cell_type": "markdown",
      "metadata": {
        "id": "cveiRvp9k6of",
        "colab_type": "text"
      },
      "source": [
        "### Black-Scholes vs. Monte Carlo: Put Options with Geometric Average"
      ]
    },
    {
      "cell_type": "code",
      "metadata": {
        "id": "SLuAHSPaw4WU",
        "colab_type": "code",
        "colab": {}
      },
      "source": [
        "print('- - - - - - - - - - - - - - - - -')\n",
        "\n",
        "for i in range(95,110,5):\n",
        "  bs = bsm_put(S0, K, T, 0.0, r, q, sigma)\n",
        "  mc = mc_put_geom(S0, K, T, t, r, q, sigma,iterations,timesteps)\n",
        "  error = np.abs((bs-mc)/bs)*100\n",
        "  print('G_p(K=%d,T=%d):'%(i,T))\n",
        "  print('Black-Scholes:',repr(bs))\n",
        "  print('Monte Carlo:',repr(mc))\n",
        "  print('Error:',repr(error),'%')\n",
        "  print('- - - - - - - - - - - - - - - - -')"
      ],
      "execution_count": 0,
      "outputs": []
    },
    {
      "cell_type": "markdown",
      "metadata": {
        "id": "7w1N-UPPGLzu",
        "colab_type": "text"
      },
      "source": [
        "### Asian call options with Arithmetic Average: Linetsky Test Cases\n"
      ]
    },
    {
      "cell_type": "markdown",
      "metadata": {
        "id": "MXyI1G42H0rh",
        "colab_type": "text"
      },
      "source": [
        "The arithmetic average option pricer is benchmarked against the test cases in Table B of the Linetsky paper 1 *Exotic spectra, Risk magazine, April 2002. V. Linetsky* (reproduced below):\n",
        "\n",
        "**%%%%%%%%%%%%%%%%%%%%%%%%%%%%%%%%%%%%%%%%%%**\n",
        "\n",
        "**C &emsp; r &emsp; &emsp; &emsp; σ &emsp; &emsp; T &emsp; S0 &emsp; EE &emsp; &emsp; &emsp; MC &emsp; &emsp; &emsp; &emsp; &emsp; %Err**\n",
        "\n",
        "1 &emsp; 0.0200 &emsp; 0.10 &emsp; 1 &emsp; 2.0 &emsp; 0.05602 &emsp; 0.0559860415 &emsp; 0.017\n",
        "\n",
        "2 &emsp; 0.1800 &emsp; 0.30 &emsp; 1 &emsp; 2.0 &emsp; 0.21850 &emsp; 0.2183875466 &emsp; 0.059\n",
        "\n",
        "3 &emsp; 0.0125 &emsp; 0.25 &emsp; 2 &emsp; 2.0 &emsp; 0.17250 &emsp; 0.1722687410 &emsp; 0.063\n",
        "\n",
        "4 &emsp; 0.0500 &emsp; 0.50 &emsp; 1 &emsp; 1.9 &emsp; 0.19330 &emsp; 0.1931737903 &emsp; 0.084\n",
        "\n",
        "5 &emsp; 0.0500 &emsp; 0.50 &emsp; 1 &emsp; 2.0 &emsp; 0.24650 &emsp; 0.2464156905 &emsp; 0.095\n",
        "\n",
        "6 &emsp; 0.0500 &emsp; 0.50 &emsp; 1 &emsp; 2.1 &emsp; 0.30640 &emsp; 0.3062203648 &emsp; 0.106\n",
        "\n",
        "7 &emsp; 0.0500 &emsp; 0.50 &emsp; 2 &emsp; 2.0 &emsp; 0.35030 &emsp; 0.3500952190 &emsp; 0.146\n",
        "\n",
        "**%%%%%%%%%%%%%%%%%%%%%%%%%%%%%%%%%%%%%%%%%%**\n",
        "\n",
        "**Notes:**\n",
        "* *(EE = Eigenfunction Expansion i.e. the Black-Scholes analytic result in \n",
        "this algorithm; MC = Monte-Carlo estimate);*\n",
        "* *All test cases have a strike K = 2.0 and a dividend yield q = 0.0;*"
      ]
    },
    {
      "cell_type": "markdown",
      "metadata": {
        "id": "ipqVRR53LQ6_",
        "colab_type": "text"
      },
      "source": [
        "#### Test Cases:"
      ]
    },
    {
      "cell_type": "code",
      "metadata": {
        "id": "hJHkIHokVnfA",
        "colab_type": "code",
        "colab": {}
      },
      "source": [
        "print('- - - - - - - - - - - - - - - - -')\n",
        "# Test Case 1 Parameters:\n",
        "# r = 0.02\n",
        "# sigma = 0.1\n",
        "# T = 1\n",
        "# S0 = 2.0\n",
        "\n",
        "lntk1 = 0.0559860415\n",
        "mc = mc_call_arithm(2.0, 2.0, 1, 0.0, 0.02, q, 0.1,iterations,timesteps)\n",
        "error = np.abs((lntk1-mc)/lntk1)*100\n",
        "print('Case 1 (r=0.02, sigma=0.10, T=1, S0=2.0):')\n",
        "print('G_c(K=%d,T=%d):'%(2.0,1))\n",
        "print('Linetsky:',repr(lntk1))\n",
        "print('Monte Carlo:',repr(mc))\n",
        "print('Error:',repr(error),'%')\n",
        "\n",
        "print('- - - - - - - - - - - - - - - - -')"
      ],
      "execution_count": 0,
      "outputs": []
    },
    {
      "cell_type": "code",
      "metadata": {
        "id": "lbEU9pWEx4nF",
        "colab_type": "code",
        "colab": {}
      },
      "source": [
        "print('- - - - - - - - - - - - - - - - -')\n",
        "# Test Case 2 Parameters:\n",
        "# r = 0.18\n",
        "# sigma = 0.30\n",
        "# T = 1.0\n",
        "# S0 = 2.0\n",
        "\n",
        "lntk2 = 0.2183875466\n",
        "mc = mc_call_arithm(2.0, 2.0, 1.0, 0.0, 0.18, q, 0.3,iterations,timesteps)\n",
        "error = np.abs((lntk2-mc)/lntk2)*100\n",
        "print('Case 2 (r = 0.18, sigma = 0.30, T = 1, S0 = 2.0):')\n",
        "print('G_c(K=%d,T=%d):'%(2.0,1))\n",
        "print('Linetsky:',repr(lntk2))\n",
        "print('Monte Carlo:',repr(mc))\n",
        "print('Error:',repr(error),'%')\n",
        "\n",
        "print('- - - - - - - - - - - - - - - - -')"
      ],
      "execution_count": 0,
      "outputs": []
    },
    {
      "cell_type": "code",
      "metadata": {
        "id": "Vdvy2z-ux9-P",
        "colab_type": "code",
        "colab": {}
      },
      "source": [
        "print('- - - - - - - - - - - - - - - - -')\n",
        "# Test Case 3 Parameters:\n",
        "# r = 0.0125\n",
        "# sigma = 0.25\n",
        "# T = 2.0\n",
        "# S0 = 2.0\n",
        "\n",
        "lntk3 = 0.1722687410\n",
        "mc = mc_call_arithm(2.0, 2.0, 2.0, 0.0, 0.0125, q, 0.25,iterations,timesteps)\n",
        "error = np.abs((lntk3-mc)/lntk3)*100\n",
        "print('Case 3 (r = 0.0125, sigma = 0.25, T = 2, S0 = 2.0):')\n",
        "print('G_c(K=%d,T=%d):'%(2.0,2))\n",
        "print('Linetsky:',repr(lntk3))\n",
        "print('Monte Carlo:',repr(mc))\n",
        "print('Error:',repr(error),'%')\n",
        "\n",
        "print('- - - - - - - - - - - - - - - - -')"
      ],
      "execution_count": 0,
      "outputs": []
    },
    {
      "cell_type": "code",
      "metadata": {
        "id": "UzGStZi6yC7V",
        "colab_type": "code",
        "colab": {}
      },
      "source": [
        "print('- - - - - - - - - - - - - - - - -')\n",
        "# Test Case 4 Parameters:\n",
        "# r = 0.05\n",
        "# sigma = 0.50\n",
        "# T = 1.0\n",
        "# S0 = 1.9\n",
        "\n",
        "lntk4 = 0.1931737903\n",
        "mc = mc_call_arithm(1.9, 2.0, 1.0, 0.0, 0.05, q, 0.50,iterations,timesteps)\n",
        "error = np.abs((lntk4-mc)/lntk4)*100\n",
        "print('Case 4 (r = 0.05, sigma = 0.50, T = 1, S0 = 1.9):')\n",
        "print('G_c(K=%d,T=%d):'%(2.0,1))\n",
        "print('Linetsky:',repr(lntk4))\n",
        "print('Monte Carlo:',repr(mc))\n",
        "print('Error:',repr(error),'%')\n",
        "\n",
        "print('- - - - - - - - - - - - - - - - -')"
      ],
      "execution_count": 0,
      "outputs": []
    },
    {
      "cell_type": "code",
      "metadata": {
        "id": "YHPuk2L3yD2Z",
        "colab_type": "code",
        "colab": {}
      },
      "source": [
        "print('- - - - - - - - - - - - - - - - -')\n",
        "# Test Case 5 Parameters:\n",
        "# r = 0.05\n",
        "# sigma = 0.50\n",
        "# T = 1.0\n",
        "# S0 = 2.0\n",
        "\n",
        "lntk5 = 0.2464156905\n",
        "mc = mc_call_arithm(2.0, 2.0, 1.0, 0.0, 0.05, q, 0.50,iterations,timesteps)\n",
        "error = np.abs((lntk5-mc)/lntk5)*100\n",
        "print('Case 5 (r = 0.05, sigma = 0.50, T = 1, S0 = 2.0):')\n",
        "print('G_c(K=%d,T=%d):'%(2.0,1))\n",
        "print('Linetsky:',repr(lntk5))\n",
        "print('Monte Carlo:',repr(mc))\n",
        "print('Error:',repr(error),'%')\n",
        "\n",
        "print('- - - - - - - - - - - - - - - - -')"
      ],
      "execution_count": 0,
      "outputs": []
    },
    {
      "cell_type": "code",
      "metadata": {
        "id": "vBnu71z7yK33",
        "colab_type": "code",
        "colab": {}
      },
      "source": [
        "print('- - - - - - - - - - - - - - - - -')\n",
        "# Test Case 6 Parameters:\n",
        "# r = 0.05\n",
        "# sigma = 0.50\n",
        "# T = 1.0\n",
        "# S0 = 2.1\n",
        "\n",
        "lntk6 = 0.3062203648\n",
        "mc = mc_call_arithm(2.1, 2.0, 1.0, 0.0, 0.05, q, 0.50,iterations,timesteps)\n",
        "error = np.abs((lntk6-mc)/lntk6)*100\n",
        "print('Case 6 (r = 0.05, sigma = 0.50, T = 1, S0 = 2.1):')\n",
        "print('G_c(K=%d,T=%d):'%(2.0,1))\n",
        "print('Linetsky:',repr(lntk6))\n",
        "print('Monte Carlo:',repr(mc))\n",
        "print('Error:',repr(error),'%')\n",
        "\n",
        "print('- - - - - - - - - - - - - - - - -')"
      ],
      "execution_count": 0,
      "outputs": []
    },
    {
      "cell_type": "code",
      "metadata": {
        "id": "eptexy9gyNl2",
        "colab_type": "code",
        "colab": {}
      },
      "source": [
        "print('- - - - - - - - - - - - - - - - -')\n",
        "# Test Case 7 Parameters:\n",
        "# r = 0.05\n",
        "# sigma = 0.50\n",
        "# T = 2.0\n",
        "# S0 = 2.0\n",
        "\n",
        "lntk7 = 0.3500952190\n",
        "mc = mc_call_arithm(2.0, 2.0, 2.0, 0.0, 0.05, q, 0.50, iterations,timesteps)\n",
        "error = np.abs((lntk7-mc)/lntk7)*100\n",
        "print('Case 7 (r = 0.05, sigma = 0.50, T = 2.0, S0 = 2.0):')\n",
        "print('G_c(K=%d,T=%d):'%(2.0,2))\n",
        "print('Linetsky:',repr(lntk7))\n",
        "print('Monte Carlo:',repr(mc))\n",
        "print('Error:',repr(error),'%')\n",
        "\n",
        "print('- - - - - - - - - - - - - - - - -')"
      ],
      "execution_count": 0,
      "outputs": []
    },
    {
      "cell_type": "markdown",
      "metadata": {
        "id": "T1s5HjiAzytF",
        "colab_type": "text"
      },
      "source": [
        "### Monte Carlo vs. Number of Simulations"
      ]
    },
    {
      "cell_type": "markdown",
      "metadata": {
        "id": "yeoXbvpMz_lk",
        "colab_type": "text"
      },
      "source": [
        "The results of 1,50000,100000,150000, ... ,1000000 iterations are compared to the Black-Scholes theoretical price. The errors are then log-plotted against the number of iterations in order to determine the sensitivity of the pricing algorithm to the number of iterations."
      ]
    },
    {
      "cell_type": "code",
      "metadata": {
        "id": "Llfmlvyx2J1W",
        "colab_type": "code",
        "colab": {}
      },
      "source": [
        "# Iterations Cases:\n",
        "it_cases = np.arange(1,1000000,10000)\n",
        "it_cases = it_cases[1:]"
      ],
      "execution_count": 0,
      "outputs": []
    },
    {
      "cell_type": "code",
      "metadata": {
        "id": "-d37YIn5F1PS",
        "colab_type": "code",
        "colab": {}
      },
      "source": [
        "# Call Options:\n",
        "bsm_c = bsm_call_tf()\n",
        "bsm_c_npv = bsm_c(S0,K,T,r,sigma)\n",
        "print('The Black-Scholes Theoretical Call Price is:',bsm_c_npv[0])\n",
        "print('The Black-Scholes Greeks are:',bsm_c_npv[1:5])\n",
        "errors_c = []\n",
        "mc_call_geom_tensorflow = mc_call_geom_tf()\n",
        "\n",
        "for i in range(0,len(it_cases)):\n",
        "  seed = random.randint(1,500.0)\n",
        "  mc_c_npv = mc_call_geom_tensorflow(S0, K, T, r, sigma, seed, it_cases[i], 8)\n",
        "  #print('For %d iterations, the Monte Carlo Call Price estimate is:' %it_cases[i],mc_c_npv[0])\n",
        "  #print('For %d iterations, the corresponding Greeks are:' %it_cases[i],mc_c_npv[1:5])\n",
        "  error_c = 100 * (np.abs(mc_c_npv[0]-bsm_c_npv[0])/bsm_c_npv[0])\n",
        "  errors_c.append(error_c)\n",
        "\n",
        "# Errors v. Simulations Log-Plot:\n",
        "errors_v_runs = plt.figure()\n",
        "ax = errors_v_runs.add_subplot(111)\n",
        "ax.set_title(\"Errors vs. Simulations (Call)\")\n",
        "ax.plot(np.log(it_cases), np.log(errors_c), \"o-\")"
      ],
      "execution_count": 0,
      "outputs": []
    },
    {
      "cell_type": "code",
      "metadata": {
        "id": "G9-9XwOZFww4",
        "colab_type": "code",
        "colab": {}
      },
      "source": [
        "# Put Options:\n",
        "bsm_p = bsm_put_tf()\n",
        "bsm_p_npv = bsm_p(S0,K,T,r,sigma)\n",
        "print('The Black-Scholes Theoretical Put Price is:',bsm_p_npv[0])\n",
        "print('The Black-Scholes Greeks are:',bsm_p_npv[1:5])\n",
        "errors_p = []\n",
        "mc_put_geom_tensorflow = mc_put_geom_tf()\n",
        "\n",
        "for i in range(0,len(it_cases)):\n",
        "  seed = random.randint(1,500.0)\n",
        "  mc_p_npv = mc_put_geom_tensorflow(S0, K, T, r, sigma, seed, it_cases[i], 8)\n",
        "  print('For %d iterations, the Monte Carlo Put Price estimate is:' %it_cases[i],mc_c_npv[0])\n",
        "  print('For %d iterations, the corresponding Greeks are:' %it_cases[i],mc_c_npv[1:5])\n",
        "  error_p = 100 * (np.abs(mc_p_npv[0]-bsm_p_npv[0])/bsm_p_npv[0])\n",
        "  errors_p.append(error_p)\n",
        "\n",
        "# Errors v. Simulations Log-Plot:\n",
        "errors_v_runs = plt.figure()\n",
        "ax = errors_v_runs.add_subplot(111)\n",
        "ax.set_title(\"Errors vs. Simulations (Put)\")\n",
        "ax.plot(np.log(it_cases), np.log(errors_p), \"o-\")"
      ],
      "execution_count": 0,
      "outputs": []
    },
    {
      "cell_type": "markdown",
      "metadata": {
        "id": "SQ6-Hxx5gwSx",
        "colab_type": "text"
      },
      "source": [
        "### Monte Carlo vs. Number of Timesteps"
      ]
    },
    {
      "cell_type": "markdown",
      "metadata": {
        "id": "REwP55KjiMZy",
        "colab_type": "text"
      },
      "source": [
        "The results of dt = 1/1,1/2,1/3, ... ,1/8 are compared to the Black-Scholes theoretical price. The errors are then log-plotted against the number of timesteps in order to determine the sensitivity of the pricing algorithm to the number of timesteps."
      ]
    },
    {
      "cell_type": "code",
      "metadata": {
        "id": "Iwq7Lw81g7Aa",
        "colab_type": "code",
        "colab": {}
      },
      "source": [
        "# Timesteps Cases:\n",
        "n_cases = [1,2,3,4,5,6,7,8]"
      ],
      "execution_count": 0,
      "outputs": []
    },
    {
      "cell_type": "code",
      "metadata": {
        "id": "qfuDHYWyF4zs",
        "colab_type": "code",
        "colab": {}
      },
      "source": [
        "# Call Options:\n",
        "bsm_c = bsm_call_tf()\n",
        "bsm_c_npv = bsm_c(S0,K,T,r,sigma)\n",
        "#print('The Black-Scholes Theoretical Call Price is:',bsm_c_npv[0])\n",
        "#print('The Black-Scholes Greeks are:',bsm_c_npv[1:5])\n",
        "errors_c = []\n",
        "\n",
        "for i in range(0,len(n_cases)):\n",
        "  seed = random.randint(1,500.0)\n",
        "  mc_call_geom_tensorflow = mc_call_geom_tf()\n",
        "  mc_c_npv = mc_call_geom_tensorflow(S0, K, T, r, sigma, seed, iterations, n_cases[i])\n",
        "  #print('For dt = 1/%d timesteps, the Monte Carlo Call Price estimate is:' %n_cases[i],mc_c_npv[0])\n",
        "  #print('For dt = 1/%d timesteps, the corresponding Greeks are:' %n_cases[i],mc_c_npv[1:5])\n",
        "  error_c = 100 * (np.abs(mc_c_npv[0]-bsm_c_npv[0])/bsm_c_npv[0])\n",
        "  errors_c.append(error_c)\n",
        "\n",
        "# Errors v. Timesteps Log-Plot:\n",
        "errors_v_runs = plt.figure()\n",
        "ax = errors_v_runs.add_subplot(111)\n",
        "ax.set_title(\"Errors vs. Timesteps (Call)\")\n",
        "ax.plot(np.log(n_cases), np.log(errors_c), \"o-\")"
      ],
      "execution_count": 0,
      "outputs": []
    },
    {
      "cell_type": "code",
      "metadata": {
        "id": "K6kAotuzF6mJ",
        "colab_type": "code",
        "colab": {}
      },
      "source": [
        "# Put Options:\n",
        "bsm_p = bsm_put_tf()\n",
        "bsm_p_npv = bsm_p(S0,K,T,r,sigma)\n",
        "print('The Black-Scholes Theoretical Put Price is:',bsm_p_npv[0])\n",
        "print('The Black-Scholes Greeks are:',bsm_p_npv[1:5])\n",
        "errors_p = []\n",
        "\n",
        "for i in range(0,len(n_cases)):\n",
        "  seed = random.randint(1,500.0)\n",
        "  mc_put_geom_tensorflow = mc_put_geom_tf()\n",
        "  mc_p_npv = mc_put_geom_tensorflow(S0, K, T, r, sigma, seed, iterations, n_cases[i])\n",
        "  print('For dt = 1/%d timesteps, the Monte Carlo Put Price estimate is:' %n_cases[i],mc_p_npv[0])\n",
        "  print('For dt = 1/%d timesteps, the corresponding Greeks are:' %n_cases[i],mc_p_npv[1:5])\n",
        "  error_p = 100 * (np.abs(mc_p_npv[0]-bsm_p_npv[0])/bsm_p_npv[0])\n",
        "  errors_p.append(error_p)\n",
        "\n",
        "# Errors v. Timesteps Log-Plot:\n",
        "errors_v_runs = plt.figure()\n",
        "ax = errors_v_runs.add_subplot(111)\n",
        "ax.set_title(\"Errors vs. Timesteps (Put)\")\n",
        "ax.plot(np.log(n_cases), np.log(errors_p), \"o-\")"
      ],
      "execution_count": 0,
      "outputs": []
    },
    {
      "cell_type": "markdown",
      "metadata": {
        "id": "dI5HWs4UyVKA",
        "colab_type": "text"
      },
      "source": [
        "### Multiple Control Variates"
      ]
    },
    {
      "cell_type": "code",
      "metadata": {
        "id": "iKY7qLB_AoKT",
        "colab_type": "code",
        "colab": {}
      },
      "source": [
        "# Reintroducing base parameters:\n",
        "S0 = 100\n",
        "K = 95\n",
        "T = 1.0\n",
        "t = 0.0\n",
        "r = 0.15\n",
        "q = 0.0\n",
        "sigma = 0.30\n",
        "iterations = 1000\n",
        "timesteps = 100"
      ],
      "execution_count": 0,
      "outputs": []
    },
    {
      "cell_type": "code",
      "metadata": {
        "id": "370s5eTmybl-",
        "colab_type": "code",
        "colab": {}
      },
      "source": [
        "# Call Options:\n",
        "mc_call_cv = mc_call_control_variates(S0, K, T, t, r, q, sigma,1000,100)\n",
        "c_cv_values = mc_call_cv[0]\n",
        "c_cv_upper = mc_call_cv[1]\n",
        "c_cvv_lower = mc_call_cv[2]\n",
        "data_call = [c_cv_upper, c_cvv_lower, c_cv_values]\n",
        "for i in range(0,len(data)):\n",
        "  plt.plot(data_call[i])"
      ],
      "execution_count": 0,
      "outputs": []
    },
    {
      "cell_type": "code",
      "metadata": {
        "id": "8T36Ls3Gy5qE",
        "colab_type": "code",
        "colab": {}
      },
      "source": [
        "# Put Options:\n",
        "mc_put_cv = mc_put_control_variates(S0, K, T, t, r, q, sigma,1000,100)\n",
        "p_cv_values = mc_put_cv[0]\n",
        "p_cv_upper = mc_put_cv[1]\n",
        "p_cvv_lower = mc_put_cv[2]\n",
        "data_put = [p_cv_upper, p_cvv_lower, p_cv_values]\n",
        "for i in range(0,len(data)):\n",
        "  plt.plot(data_put[i])"
      ],
      "execution_count": 0,
      "outputs": []
    },
    {
      "cell_type": "markdown",
      "metadata": {
        "id": "Ew6DgFv1Y66g",
        "colab_type": "text"
      },
      "source": [
        "## **Hedging Test**"
      ]
    },
    {
      "cell_type": "markdown",
      "metadata": {
        "id": "T3OoH0xmXYMj",
        "colab_type": "text"
      },
      "source": [
        "### Daily Data Generation"
      ]
    },
    {
      "cell_type": "code",
      "metadata": {
        "id": "4qI4ISBrXXDp",
        "colab_type": "code",
        "colab": {}
      },
      "source": [
        "daily_data = np.ones((10,timesteps))\n",
        "S_geometric = np.ones((10,1))\n",
        "payoffs = np.ones((10,1))\n",
        "for i in range(0,10):\n",
        "  seed = np.random.randint(1,5000)\n",
        "  daily_data[i] = gbm_paths(100,95,1.0,0.0,0.0,0.15,0.3,seed,1,timesteps)\n",
        "\n",
        "plt.figure(figsize=(width,height))\n",
        "_= plt.plot(np.transpose(daily_data))\n",
        "_ = plt.title('Simulated Stock Prices',fontsize=title_size,color = color_plots)\n",
        "_ = plt.ylabel('Price',fontsize=ylabel_size,color = color_plots)\n",
        "_ = plt.xlabel('Time Step',fontsize=xlabel_size,color = color_plots)\n",
        "\n",
        "plt.figure(figsize=(width,height))\n",
        "_= plt.plot(payoffs)\n",
        "_ = plt.title('Payouts',fontsize=title_size,color = color_plots)\n",
        "_ = plt.ylabel('Price',fontsize=ylabel_size,color = color_plots)\n",
        "_ = plt.xlabel('Time Step',fontsize=xlabel_size,color = color_plots)\n",
        "\n",
        "print(payoffs)\n",
        "print(daily_data)"
      ],
      "execution_count": 0,
      "outputs": []
    },
    {
      "cell_type": "markdown",
      "metadata": {
        "id": "6USYxGgCeSuv",
        "colab_type": "text"
      },
      "source": [
        "### Portfolio Sensitivity"
      ]
    },
    {
      "cell_type": "markdown",
      "metadata": {
        "id": "Mhmk74SPt5LU",
        "colab_type": "text"
      },
      "source": [
        "#### BSM Values (Control)"
      ]
    },
    {
      "cell_type": "markdown",
      "metadata": {
        "id": "_0QowcKxv-jb",
        "colab_type": "text"
      },
      "source": [
        "**1st Order Greeks: Sensitivity to Strike and Stock/Underlying Price**"
      ]
    },
    {
      "cell_type": "code",
      "metadata": {
        "id": "ISv_E35jNmMl",
        "colab_type": "code",
        "colab": {}
      },
      "source": [
        "fig, ax = plt.subplots(nrows=3, ncols=2, sharex=False, sharey=False, figsize=(30, 30))\n",
        "fig.suptitle('1st Order Greeks: Sensitivity to Strike and Stock/Underlying Price', color = color_plots, fontsize=title_size, fontweight='bold')\n",
        "#Variables:\n",
        "klist = [15,25,35]\n",
        "S0list = np.arange(1,100)\n",
        "r = 0.01\n",
        "sigma = 0.1\n",
        "T = 10\n",
        "t = 0.0\n",
        "\n",
        "plt.subplot(321)\n",
        "for i in klist:\n",
        "    c = [bsm_delta(S0, i, T, t, r, q, sigma, \"Call\") for S0 in S0list]\n",
        "    p = [bsm_delta(S0, i, T, t, r, q, sigma, \"Put\") for S0 in S0list]\n",
        "    plt.plot(c, label = (\"Delta Call K=%i\" % i ))\n",
        "    plt.plot(p, label = (\"Delta Put K=%i\" % i ))\n",
        "\n",
        "plt.xlabel('Stock/Underlying Price ($)', color = color_plots, fontsize = xlabel_size)\n",
        "plt.ylabel(\"Delta\", color = color_plots, fontsize = ylabel_size)\n",
        "plt.legend(fontsize = legend_size)\n",
        "\n",
        "plt.subplot(322)\n",
        "for i in klist:\n",
        "    c = [bsm_gamma(S0, i, T, t, r, q, sigma, \"Call\") for S0 in S0list]\n",
        "    p = [bsm_gamma(S0, i, T, t, r, q, sigma, \"Put\") for S0 in S0list]\n",
        "    plt.plot(c, label = (\"Gamma Call K=%i\" % i ))\n",
        "    plt.plot(p, label = (\"Gamma Put K=%i\" % i ))\n",
        "\n",
        "plt.xlabel('Stock/Underlying Price ($)', color = color_plots, fontsize = xlabel_size)\n",
        "plt.ylabel(\"Gamma\", color = color_plots, fontsize = ylabel_size)\n",
        "plt.legend(fontsize = legend_size)\n",
        "\n",
        "plt.subplot(323)\n",
        "for i in klist:\n",
        "    c = [bsm_vega(S0, i, T, t, r, q, sigma, \"Call\") for S0 in S0list]\n",
        "    p = [bsm_vega(S0, i, T, t, r, q, sigma, \"Put\") for S0 in S0list]\n",
        "    plt.plot(c, label = (\"Vega Call K=%i\" % i ))\n",
        "    plt.plot(p, label = (\"Vega Put K=%i\" % i ))\n",
        "\n",
        "plt.xlabel('Stock/Underlying Price ($)', color = color_plots, fontsize = xlabel_size)\n",
        "plt.ylabel(\"Vega\", color = color_plots, fontsize = ylabel_size)\n",
        "plt.legend(fontsize = legend_size)\n",
        "\n",
        "plt.subplot(324)\n",
        "for i in klist:\n",
        "    c = [bsm_rho(S0, i, T, t, r, q, sigma, \"Call\") for S0 in S0list]\n",
        "    p = [bsm_rho(S0, i, T, t, r, q, sigma, \"Put\") for S0 in S0list]\n",
        "    plt.plot(c, label = (\"Rho Call K=%i\" % i ))\n",
        "    plt.plot(p, label = (\"Rho Put K=%i\" % i ))\n",
        "\n",
        "plt.xlabel('Stock/Underlying Price ($)', color = color_plots, fontsize = xlabel_size)\n",
        "plt.ylabel(\"Rho\", color = color_plots, fontsize = ylabel_size)\n",
        "plt.legend(fontsize = legend_size)\n",
        "\n",
        "plt.subplot(325)\n",
        "for i in klist:\n",
        "    c = [bsm_theta(S0, i, T, t, r, q, sigma, \"Call\") for S0 in S0list]\n",
        "    p = [bsm_theta(S0, i, T, t, r, q, sigma, \"Put\") for S0 in S0list]\n",
        "    plt.plot(c, label = (\"Theta Call K=%i\" % i ))\n",
        "    plt.plot(p, label = (\"Theta Put K=%i\" % i ))\n",
        "\n",
        "plt.xlabel('Stock/Underlying Price ($)', color = color_plots, fontsize = xlabel_size)\n",
        "plt.ylabel(\"Theta\", color = color_plots, fontsize = ylabel_size)\n",
        "plt.legend(fontsize = legend_size)\n",
        "\n",
        "plt.subplot(326)\n",
        "for i in klist:\n",
        "    c = [bsm_charm(S0, i, T, t, r, q, sigma, \"Call\") for S0 in S0list]\n",
        "    p = [bsm_charm(S0, i, T, t, r, q, sigma, \"Put\") for S0 in S0list]\n",
        "    plt.plot(c, label = (\"Charm Call K=%i\" % i ))\n",
        "    plt.plot(p, label = (\"Charm Put K=%i\" % i ))\n",
        "\n",
        "plt.xlabel('Stock/Underlying Price ($)', color = color_plots, fontsize = xlabel_size)\n",
        "plt.ylabel(\"Charm\", color = color_plots, fontsize = ylabel_size)\n",
        "plt.legend(fontsize = legend_size)\n",
        "plt.show()"
      ],
      "execution_count": 0,
      "outputs": []
    },
    {
      "cell_type": "markdown",
      "metadata": {
        "id": "foh3hDP0wDOj",
        "colab_type": "text"
      },
      "source": [
        "**1st Order Greeks: Sensitivity to Risk-Free Rate + Stock/Underlying Price**"
      ]
    },
    {
      "cell_type": "code",
      "metadata": {
        "id": "r7OKR8T4vjT2",
        "colab_type": "code",
        "colab": {}
      },
      "source": [
        "fig, ax = plt.subplots(nrows=3, ncols=2, sharex=False, sharey=False, figsize=(30, 30))\n",
        "fig.suptitle('1st Order Greeks: Sensitivity to Risk-Free Rate + Stock/Underlying Price', color = color_plots, fontsize=title_size, fontweight='bold')\n",
        "\n",
        "# Variables:\n",
        "rlist = [0.0,0.01,0.1]\n",
        "S0list = np.arange(1,100)\n",
        "K = 35\n",
        "r = 0.01\n",
        "sigma = 0.1\n",
        "T = 10.0\n",
        "t = 0.0\n",
        "\n",
        "plt.subplot(321)\n",
        "for i in rlist:\n",
        "  c = [bsm_delta(S0, K, T, t, i, q, sigma, \"Call\") for S0 in S0list]\n",
        "  p = [bsm_delta(S0, K, T, t, i, q, sigma, \"Put\") for S0 in S0list]\n",
        "  plt.plot(c, label = (\"Delta Call r=%.2f\" % i ))\n",
        "  plt.plot(p, label = (\"Delta Put r=%.2f\" % i ))\n",
        "\n",
        "plt.xlabel('Stock/Underlying Price ($)', color = color_plots, fontsize = xlabel_size)\n",
        "plt.ylabel(\"Delta\", color = color_plots, fontsize = ylabel_size)\n",
        "plt.legend(fontsize = legend_size)\n",
        "\n",
        "plt.subplot(322)\n",
        "for i in rlist:\n",
        "  c = [bsm_gamma(S0, K, T, t, i, q, sigma, \"Call\") for S0 in S0list]\n",
        "  p = [bsm_gamma(S0, K, T, t, i, q, sigma, \"Put\") for S0 in S0list]\n",
        "  plt.plot(c, label = (\"Gamma Call r=%.2f\" % i ))\n",
        "  plt.plot(p, label = (\"Gamma Put r=%.2f\" % i ))\n",
        "\n",
        "plt.xlabel('Stock/Underlying Price ($)', color = color_plots, fontsize = xlabel_size)\n",
        "plt.ylabel(\"Gamma\", color = color_plots, fontsize = ylabel_size)\n",
        "plt.legend(fontsize = legend_size)\n",
        "\n",
        "plt.subplot(323)\n",
        "for i in rlist:\n",
        "  c = [bsm_vega(S0, K, T, t, i, q, sigma, \"Call\") for S0 in S0list]\n",
        "  p = [bsm_vega(S0, K, T, t, i, q, sigma, \"Put\") for S0 in S0list]\n",
        "  plt.plot(c, label = (\"Vega Call r=%.2f\" % i ))\n",
        "  plt.plot(p, label = (\"Vega Put r=%.2f\" % i ))\n",
        "\n",
        "plt.xlabel('Stock/Underlying Price ($)', color = color_plots, fontsize = xlabel_size)\n",
        "plt.ylabel(\"Vega\", color = color_plots, fontsize = ylabel_size)\n",
        "plt.legend(fontsize = legend_size)\n",
        "\n",
        "plt.subplot(324)\n",
        "for i in rlist:\n",
        "  c = [bsm_rho(S0, K, T, t, i, q, sigma, \"Call\") for S0 in S0list]\n",
        "  p = [bsm_rho(S0, K, T, t, i, q, sigma, \"Put\") for S0 in S0list]\n",
        "  plt.plot(c, label = (\"Rho Call r=%.2f\" % i ))\n",
        "  plt.plot(p, label = (\"Rho Put r=%.2f\" % i ))\n",
        "\n",
        "plt.xlabel('Stock/Underlying Price ($)', color = color_plots, fontsize = xlabel_size)\n",
        "plt.ylabel(\"Rho\", color = color_plots, fontsize = ylabel_size)\n",
        "plt.legend(fontsize = legend_size)\n",
        "\n",
        "plt.subplot(325)\n",
        "for i in rlist:\n",
        "  c = [bsm_theta(S0, K, T, t, i, q, sigma, \"Call\") for S0 in S0list]\n",
        "  p = [bsm_theta(S0, K, T, t, i, q, sigma, \"Put\") for S0 in S0list]\n",
        "  plt.plot(c, label = (\"Theta Call r=%.2f\" % i ))\n",
        "  plt.plot(p, label = (\"Theta Put r=%.2f\" % i ))\n",
        "\n",
        "plt.xlabel('Stock/Underlying Price ($)', color = color_plots, fontsize = xlabel_size)\n",
        "plt.ylabel(\"Theta\", color = color_plots, fontsize = ylabel_size)\n",
        "plt.legend(fontsize = legend_size)\n",
        "\n",
        "plt.subplot(326)\n",
        "for i in rlist:\n",
        "  c = [bsm_charm(S0, K, T, t, i, q, sigma, \"Call\") for S0 in S0list]\n",
        "  p = [bsm_charm(S0, K, T, t, i, q, sigma, \"Put\") for S0 in S0list]\n",
        "  plt.plot(c, label = (\"Charm Call r=%.2f\" % i ))\n",
        "  plt.plot(p, label = (\"Charm Put r=%.2f\" % i ))\n",
        "\n",
        "plt.xlabel('Stock/Underlying Price ($)', color = color_plots, fontsize = xlabel_size)\n",
        "plt.ylabel(\"Charm\", color = color_plots, fontsize = ylabel_size)\n",
        "plt.legend(fontsize = legend_size)\n",
        "plt.show()"
      ],
      "execution_count": 0,
      "outputs": []
    },
    {
      "cell_type": "markdown",
      "metadata": {
        "id": "XGyUd1iKwH_X",
        "colab_type": "text"
      },
      "source": [
        "**BSM Option Sensitivity Definitions Tests**"
      ]
    },
    {
      "cell_type": "code",
      "metadata": {
        "id": "npgOlT35xX4O",
        "colab_type": "code",
        "colab": {}
      },
      "source": [
        "# Variables:\n",
        "S0 = 100\n",
        "K = 35\n",
        "T = 10.0\n",
        "t = 0.0\n",
        "r = 0.01\n",
        "q = 0.0\n",
        "sigma = 0.1\n",
        "\n",
        "bsm_plot_values(bsm_call,100, 95, 1.0, 0.0, 0.15, 0.0, 0.3,'Call')"
      ],
      "execution_count": 0,
      "outputs": []
    },
    {
      "cell_type": "markdown",
      "metadata": {
        "id": "p6op7ztMMrwH",
        "colab_type": "text"
      },
      "source": [
        "**Monte Carlo Option Sensitivity Definitions Tests**"
      ]
    },
    {
      "cell_type": "code",
      "metadata": {
        "id": "jbwmkSKHMwyo",
        "colab_type": "code",
        "colab": {}
      },
      "source": [
        "# Variables:\n",
        "S0 = 100\n",
        "K = 35\n",
        "T = 10.0\n",
        "t = 0.0\n",
        "r = 0.01\n",
        "q = 0.0\n",
        "sigma = 0.1\n",
        "\n",
        "mc_plot_values(bsm_call,100, 95, 1.0, 0.0, 0.15, 0.0, 0.3,'Call')"
      ],
      "execution_count": 0,
      "outputs": []
    },
    {
      "cell_type": "code",
      "metadata": {
        "id": "oHjv6AT8uwYP",
        "colab_type": "code",
        "colab": {}
      },
      "source": [
        "S0 = np.linspace(70, 140, 100)\n",
        "K = np.linspace(105.0,105.0, 100)\n",
        "T = np.linspace(0.01, 1.0, 100)\n",
        "t = np.linspace(0.0, 0.0, 100)\n",
        "r = np.linspace(0.0, 0.0, 100)\n",
        "q = np.linspace(0.0,0.0,100)\n",
        "sigma = np.linspace(0.12, 0.12, 100)\n",
        "\n",
        "x, y  = np.meshgrid(S0, T)\n",
        "fig = plt.figure(figsize=(30,90))\n",
        "greeks = [bsm_delta,bsm_vega,bsm_rho,bsm_theta,bsm_gamma,bsm_charm,bsm_phi,bsm_vanna, bsm_vomma]\n",
        "greeks_names = ['Delta','Vega','Rho','Theta','Gamma','Charm','Phi','Vanna', 'Vomma']\n",
        "for i in range(len(greeks)):\n",
        "    ax = fig.add_subplot(len(greeks), 2, i+1, projection='3d')\n",
        "    ax.patch.set_alpha(0.0)\n",
        "    greeks_plot_tool(greeks[i],\"Stock Price\", \"Expiry\", S0, K, T, t, r, q, sigma, x, y, \"Call\", greeks_names[i], ax)\n",
        "plt.show()"
      ],
      "execution_count": 0,
      "outputs": []
    },
    {
      "cell_type": "markdown",
      "metadata": {
        "id": "e92SD9RVwchX",
        "colab_type": "text"
      },
      "source": [
        "#### Options on Daily Stock Data"
      ]
    },
    {
      "cell_type": "code",
      "metadata": {
        "id": "Cu3uBFc3wiyA",
        "colab_type": "code",
        "colab": {}
      },
      "source": [
        ""
      ],
      "execution_count": 0,
      "outputs": []
    },
    {
      "cell_type": "markdown",
      "metadata": {
        "id": "jmOo-cqLokSx",
        "colab_type": "text"
      },
      "source": [
        "### Hedged-Unhedged Portfolio Variability"
      ]
    },
    {
      "cell_type": "code",
      "metadata": {
        "id": "CkVXJd9WNm-k",
        "colab_type": "code",
        "colab": {}
      },
      "source": [
        ""
      ],
      "execution_count": 0,
      "outputs": []
    }
  ]
}