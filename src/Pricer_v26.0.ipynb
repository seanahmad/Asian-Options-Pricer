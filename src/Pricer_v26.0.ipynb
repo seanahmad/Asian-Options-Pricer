{
  "nbformat": 4,
  "nbformat_minor": 0,
  "metadata": {
    "colab": {
      "name": "Pricer_v21_0_Release_Build",
      "provenance": [],
      "collapsed_sections": [
        "d5l3s8YATLLE",
        "khr3Bp1fN-mf",
        "GnRDaSeCkkOI",
        "7w1N-UPPGLzu",
        "T1s5HjiAzytF",
        "T3OoH0xmXYMj",
        "Mhmk74SPt5LU"
      ],
      "machine_shape": "hm"
    },
    "kernelspec": {
      "name": "python3",
      "display_name": "Python 3"
    },
    "accelerator": "TPU"
  },
  "cells": [
    {
      "cell_type": "markdown",
      "metadata": {
        "id": "zY4InIR-t8Bp",
        "colab_type": "text"
      },
      "source": [
        "\n",
        "# **Valuation of Asian Options using the Lévy Approximation**"
      ]
    },
    {
      "cell_type": "markdown",
      "metadata": {
        "id": "frIs7Laf6OxE",
        "colab_type": "text"
      },
      "source": [
        "Course: FE 620: Pricing & Hedging | Stevens Institute of Technology\n",
        "\n",
        "Advisor: Dan Pirjol\n",
        "\n",
        "Group: Theo Dimitrasopoulos, Will Kraemer, Vaikunth Seshadri, Snehal Rajguru\n",
        "\n",
        "Link: https://colab.research.google.com/drive/1fkbdI6gv3XV-pRJINI3C9klRIuGylLDX\n",
        "\n",
        "*Version: v21.0_Release_Build*"
      ]
    },
    {
      "cell_type": "markdown",
      "metadata": {
        "id": "nqNjBKHR8PDW",
        "colab_type": "text"
      },
      "source": [
        "## **Comments**"
      ]
    },
    {
      "cell_type": "markdown",
      "metadata": {
        "id": "nVu-qfqTZ-Pq",
        "colab_type": "text"
      },
      "source": [
        "**Instructions:**\n",
        "\n",
        "* Click the execution button on the top left corner of each code cell to execute it. To run all cells in descending order, go to the menu bar at the top and click Runtime -> Run all (or use the **Ctrl-F9** or **⌘-F9** hotkey for Windows and MacOSX respectively);\n",
        "* If the code is running slowly, go to Runtime -> Change runtime type, and change the Runtime Shape to High-RAM from the dropdown menu;\n",
        "* The **\"!pip install\"** lines under the Python packages section (i.e. lines 3-5) only need to be executed the first time you run the notebook. If you receive the message **\"Requirement already satisfied:\"**, wrap them in treble quotes (add the quotes in lines 2 & 6)*.\n"
      ]
    },
    {
      "cell_type": "markdown",
      "metadata": {
        "id": "d5l3s8YATLLE",
        "colab_type": "text"
      },
      "source": [
        "## **Python Packages**"
      ]
    },
    {
      "cell_type": "code",
      "metadata": {
        "id": "VRbkpjmc_DFg",
        "colab_type": "code",
        "outputId": "449b586e-2f31-47a5-d6af-7fbf60c8d7f8",
        "colab": {
          "base_uri": "https://localhost:8080/",
          "height": 34
        }
      },
      "source": [
        "#Installations#\n",
        "'''\n",
        "!pip install -q quandl\n",
        "!pip install -q yfinance\n",
        "!pip install quantsbin\n",
        "!pip install quantumRandom\n",
        "'''\n",
        "\n",
        "# Main modules\n",
        "import math\n",
        "import numpy as np\n",
        "import pandas as pd\n",
        "'''\n",
        "import quandl\n",
        "import yfinance\n",
        "import quantsbin\n",
        "'''\n",
        "# Scipy\n",
        "from scipy import stats\n",
        "from scipy.stats import norm\n",
        "from scipy.integrate import quad\n",
        "from scipy import special\n",
        "\n",
        "# Plotters\n",
        "import matplotlib as mpl\n",
        "import mpl_toolkits.mplot3d.axes3d as p3\n",
        "import matplotlib.pyplot as plt\n",
        "from matplotlib import cm\n",
        "from matplotlib.animation import FuncAnimation\n",
        "\n",
        "# Helper modules\n",
        "import timeit\n",
        "import datetime\n",
        "import random\n",
        "import os\n",
        "import requests\n",
        "from datetime import timedelta\n",
        "#import quantumrandom\n",
        "\n",
        "# High-performance computing\n",
        "'''\n",
        "import tensorflow.compat.v1 as tf\n",
        "tf.disable_v2_behavior()\n",
        "'''\n",
        "import jax\n",
        "import jax.numpy as jnp\n",
        "from jax.config import config\n",
        "from jax.ops import index, index_add, index_update\n",
        "import numba as nb\n",
        "from numba import jit, njit, vectorize, cuda\n",
        "\n",
        "# GPU Pointers for Numba\n",
        "#os.environ['NUMBAPRO_LIBDEVICE'] = \"/usr/local/cuda-10.1/nvvm/libdevice\"\n",
        "#os.environ['NUMBAPRO_NVVM'] = \"/usr/local/cuda-10.1/nvvm/lib64/libnvvm.so\"\n",
        "\n",
        "# TPU Pointers for JAX\n",
        "if 'TPU_DRIVER_MODE' not in globals():\n",
        "  url = 'http://' + os.environ['COLAB_TPU_ADDR'].split(':')[0] + ':8475/requestversion/tpu_driver_nightly'\n",
        "  resp = requests.post(url)\n",
        "  TPU_DRIVER_MODE = 1\n",
        "config.FLAGS.jax_xla_backend = \"tpu_driver\"\n",
        "config.FLAGS.jax_backend_target = \"grpc://\" + os.environ['COLAB_TPU_ADDR']\n",
        "print(config.FLAGS.jax_backend_target)"
      ],
      "execution_count": 28,
      "outputs": [
        {
          "output_type": "stream",
          "text": [
            "grpc://10.109.215.66:8470\n"
          ],
          "name": "stdout"
        }
      ]
    },
    {
      "cell_type": "markdown",
      "metadata": {
        "id": "YT0zfuDsJzON",
        "colab_type": "text"
      },
      "source": [
        "## **Variables**"
      ]
    },
    {
      "cell_type": "markdown",
      "metadata": {
        "id": "khr3Bp1fN-mf",
        "colab_type": "text"
      },
      "source": [
        "### Model Variables"
      ]
    },
    {
      "cell_type": "code",
      "metadata": {
        "id": "054ybKFpJoon",
        "colab_type": "code",
        "colab": {}
      },
      "source": [
        "# Initial Underlying Price\n",
        "S0 = 100                                                #@param {type:\"number\" }\n",
        "# Risk-free rate\n",
        "r = 0.15                                                #@param {type:\"number\" }\n",
        "# Dividend Yield Rate\n",
        "q = 0.0                                                 #@param {type:\"number\" }\n",
        "# Valuation Date\n",
        "t = 0.0                                                 #@param {type:\"number\" }\n",
        "# Maturity\n",
        "T = 1.0                                                 #@param {type:\"number\" }\n",
        "# Strike\n",
        "K = 100                                                 #@param {type:\"number\" }\n",
        "# Volatility\n",
        "sigma = 0.3                                             #@param {type:\"number\" }\n",
        "# Number of Price paths for each Monte Carlo simulation\n",
        "n_paths = 100                                           #@param {type:\"integer\"}\n",
        "# Time Steps\n",
        "n_steps = 504                                           #@param {type:\"integer\"}\n",
        "# Number of Monte Carlo simulations\n",
        "n_sims = 1000                                           #@param {type:\"integer\"}\n",
        "# Initial Seed\n",
        "seed_0 = 42                                             #@param {type:\"integer\"}\n",
        "# Initial Seed\n",
        "seed = 100                                              #@param {type:\"integer\"}"
      ],
      "execution_count": 0,
      "outputs": []
    },
    {
      "cell_type": "markdown",
      "metadata": {
        "id": "rA02G58pTXXy",
        "colab_type": "text"
      },
      "source": [
        "### Plot Variables"
      ]
    },
    {
      "cell_type": "code",
      "metadata": {
        "id": "gaVvMo9XadEl",
        "colab_type": "code",
        "cellView": "both",
        "colab": {}
      },
      "source": [
        "# Universal Plot width\n",
        "width = 25 #@param {type:\"integer\"}\n",
        "\n",
        "# Universal Plot height\n",
        "height =  14#@param {type:\"integer\"}\n",
        "\n",
        "# Universal xtick size\n",
        "xtick_size = 8 #@param {type:\"integer\"}\n",
        "\n",
        "# Universal ytick size\n",
        "ytick_size =  8#@param {type:\"integer\"}\n",
        "\n",
        "# Universal title font size\n",
        "title_size = 15 #@param {type:\"integer\"}\n",
        "\n",
        "# Universal xlabel font size\n",
        "xlabel_size = 12 #@param {type:\"integer\"}\n",
        "\n",
        "# Universal xlabel font size\n",
        "ylabel_size = 12 #@param {type:\"integer\"}\n",
        "\n",
        "# Universal zlabel font size\n",
        "zlabel_size = 12 #@param {type:\"integer\"}\n",
        "\n",
        "# Universal legend font size\n",
        "legend_size = 10 #@param {type:\"integer\"}\n",
        "\n",
        "# Universal plot font color\n",
        "color_plots = 'black'"
      ],
      "execution_count": 0,
      "outputs": []
    },
    {
      "cell_type": "code",
      "metadata": {
        "id": "Zk2eSNqcjRf6",
        "colab_type": "code",
        "colab": {}
      },
      "source": [
        "plt.rcParams['figure.figsize'] = (width,height)\n",
        "params = {'text.color' : 'black',\n",
        "          'xtick.color' : color_plots,\n",
        "          'ytick.color' : color_plots,\n",
        "          'xtick.labelsize' : xtick_size,\n",
        "          'ytick.labelsize' : ytick_size,\n",
        "          'legend.loc' : 'upper left',\n",
        "         }\n",
        "plt.rcParams.update(params)"
      ],
      "execution_count": 0,
      "outputs": []
    },
    {
      "cell_type": "markdown",
      "metadata": {
        "id": "aFneK_QsvZnF",
        "colab_type": "text"
      },
      "source": [
        "## **Definitions**"
      ]
    },
    {
      "cell_type": "markdown",
      "metadata": {
        "id": "TT4Ldy_Zs0wZ",
        "colab_type": "text"
      },
      "source": [
        "### Brownian Path Generator"
      ]
    },
    {
      "cell_type": "code",
      "metadata": {
        "id": "KmMR6l_CszW4",
        "colab_type": "code",
        "colab": {}
      },
      "source": [
        "def bm_paths(n_paths,n_sims,seed):\n",
        "  if seed != 0:\n",
        "    np.random.seed(seed) \n",
        "  dt = T / n_steps\n",
        "  bt = np.random.randn(int(n_paths), int(n_sims))\n",
        "  W = np.cumprod(bt,axis=1)\n",
        "  return W"
      ],
      "execution_count": 0,
      "outputs": []
    },
    {
      "cell_type": "markdown",
      "metadata": {
        "id": "rbDVOtPwGLCd",
        "colab_type": "text"
      },
      "source": [
        "### Geometric Brownian Path Generator"
      ]
    },
    {
      "cell_type": "markdown",
      "metadata": {
        "id": "OKzP_3peQcln",
        "colab_type": "text"
      },
      "source": [
        "#### Conventional Implementation:"
      ]
    },
    {
      "cell_type": "code",
      "metadata": {
        "id": "NR2JccwqGNCM",
        "colab_type": "code",
        "colab": {}
      },
      "source": [
        "def gbm_paths_original(S0,K,T,t,r,q,sigma,seed,n_paths,n_steps):\n",
        "  np.random.seed(seed)    \n",
        "  dt = T/n_steps\n",
        "  bt = np.random.randn(int(n_paths), int(n_steps))\n",
        "  S = S0 * np.cumprod((np.exp(sigma * np.sqrt(dt) * bt + (r - q - 0.5 * (sigma**2)) * dt)), axis = 1)\n",
        "  for i in range(0,len(S)):\n",
        "    S[i][0] = S0\n",
        "  return S"
      ],
      "execution_count": 0,
      "outputs": []
    },
    {
      "cell_type": "markdown",
      "metadata": {
        "id": "5YIvh5qtpfUP",
        "colab_type": "text"
      },
      "source": [
        "#### JAX Implementation"
      ]
    },
    {
      "cell_type": "code",
      "metadata": {
        "id": "O34Y4fxhpi6B",
        "colab_type": "code",
        "colab": {}
      },
      "source": [
        "def gbm_paths_jax(S0, r, q, sigma, n_steps,n_paths):\n",
        "  dt = T / n_steps\n",
        "  seed = np.random.randint(0,1000000)\n",
        "  S = jnp.exp((r - q - sigma ** 2 / 2) * dt + np.sqrt(dt) * sigma * jax.random.normal(jax.random.PRNGKey(seed), (n_steps, n_paths)))\n",
        "  S = jnp.vstack([np.ones(n_paths), S])\n",
        "  S = S0 * jnp.cumprod(S, axis=0)\n",
        "  return S\n",
        "\n",
        "def gbm_paths_jax_iter(S0, r, q, sigma, n_steps,n_paths):\n",
        "  seed = np.random.randint(0,1000000)\n",
        "  key = jax.random.PRNGKey(seed)\n",
        "  dt = T / n_steps\n",
        "  S = np.zeros((n_steps + 1, n_paths))\n",
        "  S[0] = S0\n",
        "  rn = jax.random.normal(key, shape=S.shape)\n",
        "  for t in range(1, n_steps + 1): \n",
        "    S[t] = S[t-1] * np.exp((r - q - sigma ** 2 / 2) * dt + sigma * math.sqrt(dt) * rn[t])\n",
        "    print(S[t])\n",
        "  return S"
      ],
      "execution_count": 0,
      "outputs": []
    },
    {
      "cell_type": "code",
      "metadata": {
        "id": "JLm2bZ8uiAF2",
        "colab_type": "code",
        "colab": {}
      },
      "source": [
        ""
      ],
      "execution_count": 0,
      "outputs": []
    },
    {
      "cell_type": "markdown",
      "metadata": {
        "id": "1p6oWOZqQe3M",
        "colab_type": "text"
      },
      "source": [
        "#### Tensorflow Implementation:"
      ]
    },
    {
      "cell_type": "code",
      "metadata": {
        "id": "2rHEGL8cHnaf",
        "colab_type": "code",
        "colab": {}
      },
      "source": [
        "def tf_graph_gbm_paths():\n",
        "  S0 = tf.placeholder(tf.float32)\n",
        "  K = tf.placeholder(tf.float32)\n",
        "  dt = tf.placeholder(tf.float32)\n",
        "  T = tf.placeholder(tf.float32)\n",
        "  sigma = tf.placeholder(tf.float32)\n",
        "  r = tf.placeholder(tf.float32)\n",
        "  dw = tf.placeholder(tf.float32)\n",
        "  S_i = S0 * tf.cumprod(tf.exp((r-sigma**2/2)*dt+sigma*tf.sqrt(dt)*dw), axis=1)\n",
        "  return (S0, K, dt, T, sigma, r, dw, S_i)"
      ],
      "execution_count": 0,
      "outputs": []
    },
    {
      "cell_type": "code",
      "metadata": {
        "id": "yjSR-0xRhFiQ",
        "colab_type": "code",
        "colab": {}
      },
      "source": [
        "def tf_gbm_paths():\n",
        "  (S0,K, dt, T, sigma, r, dw, S_i) = tf_graph_gbm_paths()\n",
        "  def paths(S_zero, strk, maturity, riskfrate, volatility, seed, n_paths, n_steps):\n",
        "    if seed != 0:\n",
        "      np.random.seed(seed)\n",
        "    stdnorm_random_variates = np.random.randn(n_paths, n_steps)\n",
        "    with tf.Session() as sess:\n",
        "      delta_t = maturity / n_steps\n",
        "      res = sess.run(S_i,\n",
        "                     {\n",
        "                         S0: S_zero,\n",
        "                         K : strk,\n",
        "                         r : riskfrate,\n",
        "                         sigma: volatility,\n",
        "                         dt : delta_t,\n",
        "                         T: maturity,\n",
        "                         dw : stdnorm_random_variates})\n",
        "      return res\n",
        "  return paths"
      ],
      "execution_count": 0,
      "outputs": []
    },
    {
      "cell_type": "markdown",
      "metadata": {
        "id": "6y3QPkQmM9pC",
        "colab_type": "text"
      },
      "source": [
        "### **Black-Scholes-Merton Theoretical Price**\n",
        "Call and Put Asian option prices with geometric averaging. The alternative implementation in Tensorlfow offers efficiency and includes the calculations of 1st 2nd and 3rd order Greeks."
      ]
    },
    {
      "cell_type": "markdown",
      "metadata": {
        "id": "AijNZZ9kOq1V",
        "colab_type": "text"
      },
      "source": [
        "#### Conventional Implementation"
      ]
    },
    {
      "cell_type": "code",
      "metadata": {
        "id": "R00bkbuCNOWw",
        "colab_type": "code",
        "colab": {}
      },
      "source": [
        "# Call Options:\n",
        "def bsm_call(S0, K, T, t, r, q, sigma):\n",
        "  G0 = S0 * np.exp(0.5 * (r - q) * (T - t) - ((T-t) * (sigma**2))/12)\n",
        "  Sigma_G = sigma/np.sqrt(3)\n",
        "  d1 = (1/(Sigma_G * np.sqrt(T - t))) * (np.log(G0/K) + 0.5 * (Sigma_G**2) * (T - t))\n",
        "  d2 = (1/(Sigma_G * np.sqrt(T - t))) * (np.log(G0/K) - 0.5 * (Sigma_G**2) * (T - t))\n",
        "  c = np.exp(-r * (T - t)) * (G0 * N(d1) - K * N(d2))\n",
        "  return c\n",
        "\n",
        "# Put Options:\n",
        "def bsm_put(S0, K, T, t, r, q, sigma):\n",
        "  G0 = S0 * np.exp(0.5 * (r - q) * (T - t) - ((T-t) * (sigma**2))/12)\n",
        "  Sigma_G = sigma/np.sqrt(3)\n",
        "  d1 = (1/(Sigma_G * np.sqrt(T - t))) * (np.log(G0/K) + 0.5 * (Sigma_G**2) * (T - t))\n",
        "  d2 = (1/(Sigma_G * np.sqrt(T - t))) * (np.log(G0/K) - 0.5 * (Sigma_G**2) * (T - t))\n",
        "  p = np.exp(-r * (T - t)) * (K * N(-d2) - G0 * N(-d1))\n",
        "  return p"
      ],
      "execution_count": 0,
      "outputs": []
    },
    {
      "cell_type": "markdown",
      "metadata": {
        "id": "wsUvBln-O7dg",
        "colab_type": "text"
      },
      "source": [
        "#### Tensorflow Implementation"
      ]
    },
    {
      "cell_type": "code",
      "metadata": {
        "id": "eVzV3kWCpqDj",
        "colab_type": "code",
        "colab": {}
      },
      "source": [
        "# Sample Output\n",
        "# [NET PRESENT VALUE, [DELTA, VEGA, THETA], [GAMMA, VANNA, CHARM], [VANNA, VOLGA, VETA], [SPEED, ZOMMA, COLOR], [N/A, ULTIMA, TOTTO]]\n",
        "\n",
        "# Call Options:\n",
        "def bsm_call_tf(enable_greeks = True):\n",
        "    S0 = tf.placeholder(tf.float32)\n",
        "    K = tf.placeholder(tf.float32)\n",
        "    dt = tf.placeholder(tf.float32)\n",
        "    sigma = tf.placeholder(tf.float32)\n",
        "    r = tf.placeholder(tf.float32)\n",
        "    q = tf.placeholder(tf.float32)    \n",
        "    G0 = S0 * tf.exp(0.5 * (r * dt) - ((tf.np.square(sigma)) * dt)/12)\n",
        "    Sigma_G = sigma/tf.sqrt(3.0)\n",
        "    Phi = tf.distributions.Normal(0.,1.).cdf\n",
        "    d_1 = (1/(Sigma_G * tf.sqrt(dt))) * (tf.log(G0/K) + 0.5 * (tf.math.square(Sigma_G)) * dt)\n",
        "    d_2 = (1/(Sigma_G * tf.sqrt(dt))) * (tf.log(G0/K) - 0.5 * (tf.math.square(Sigma_G)) * dt)\n",
        "    npv =  tf.exp(-r * dt) * (G0 * Phi(d_1) - K * Phi(d_2))                # GREEKS TABLE:\n",
        "    target_calc = [npv]                                                    # (e.g. Option Price with respect to Asset Price (S) is delta)\n",
        "    if enable_greeks:                                                      #                Asset Price (S)   Volatility    Time to Expiry\n",
        "      greeks = tf.gradients(npv, [S0, sigma, dt])                          # Option Price |     delta            vega           theta\n",
        "      dS_2nd = tf.gradients(greeks[0], [S0, sigma, dt])                    # Delta        |     gamma            vanna          charm\n",
        "      dsigma_2nd = tf.gradients(greeks[1], [S0, sigma, dt])                # Vega         |     vanna         vomma/volga       veta\n",
        "      dT_2nd = tf.gradients(dS_2nd[0], [S0, sigma, dt])                    # Gamma        |     speed            zomma          color\n",
        "      dsigma_3rd = tf.gradients(dsigma_2nd[1], [S0, sigma, dt])            # Vomma        |      N/A             ultima         totto\n",
        "      target_calc += [greeks, dS_2nd, dsigma_2nd, dT_2nd, dsigma_3rd]\n",
        "    def execute_graph(S_zero, strk, maturity, riskfrate, volatility):\n",
        "        with tf.Session() as sess:\n",
        "            res = sess.run(target_calc, \n",
        "                           {\n",
        "                               S0: S_zero,\n",
        "                               K : strk,\n",
        "                               r : riskfrate,\n",
        "                               sigma: volatility,\n",
        "                               dt: maturity})\n",
        "        return res\n",
        "    return execute_graph\n",
        "\n",
        "# Put Options:\n",
        "def bsm_put_tf(enable_greeks = True):\n",
        "    S0 = tf.placeholder(tf.float32)\n",
        "    K = tf.placeholder(tf.float32)\n",
        "    dt = tf.placeholder(tf.float32)\n",
        "    sigma = tf.placeholder(tf.float32)\n",
        "    r = tf.placeholder(tf.float32)\n",
        "    q = tf.placeholder(tf.float32)    \n",
        "    G0 = S0 * tf.exp(0.5 * (r * dt) - ((tf.math.square(sigma)) * dt)/12)\n",
        "    Sigma_G = sigma/tf.sqrt(3.0)\n",
        "    Phi = tf.distributions.Normal(0.,1.).cdf\n",
        "    d_1 = (1/(Sigma_G * tf.sqrt(dt))) * (tf.log(G0/K) + 0.5 * (tf.math.square(Sigma_G)) * dt)\n",
        "    d_2 = (1/(Sigma_G * tf.sqrt(dt))) * (tf.log(G0/K) - 0.5 * (tf.math.square(Sigma_G)) * dt)\n",
        "    npv =  tf.exp(-r * dt) * (K * Phi(-d_2) - G0 * Phi(-d_1))              # GREEKS TABLE:\n",
        "    target_calc = [npv]                                                    # (e.g. Option Price with respect to Asset Price (S) is delta)\n",
        "    if enable_greeks:                                                      #                Asset Price (S)   Volatility    Time to Expiry\n",
        "      greeks = tf.gradients(npv, [S0, sigma, dt])                          # Option Price |     delta            vega           theta\n",
        "      dS_2nd = tf.gradients(greeks[0], [S0, sigma, dt])                    # Delta        |     gamma            vanna          charm\n",
        "      dsigma_2nd = tf.gradients(greeks[1], [S0, sigma, dt])                # Vega         |     vanna         vomma/volga       veta\n",
        "      dT_2nd = tf.gradients(dS_2nd[0], [S0, sigma, dt])                    # Gamma        |     speed            zomma          color\n",
        "      dsigma_3rd = tf.gradients(dsigma_2nd[1], [S0, sigma, dt])            # Vomma        |      N/A             ultima         totto\n",
        "      target_calc += [greeks, dS_2nd, dsigma_2nd, dT_2nd, dsigma_3rd]\n",
        "    def execute_graph(S_zero, strk, maturity, riskfrate, volatility):\n",
        "        with tf.Session() as sess:\n",
        "            res = sess.run(target_calc, \n",
        "                           {\n",
        "                               S0: S_zero,\n",
        "                               K : strk,\n",
        "                               r : riskfrate,\n",
        "                               sigma: volatility,\n",
        "                               dt: maturity})\n",
        "        return res\n",
        "    return execute_graph"
      ],
      "execution_count": 0,
      "outputs": []
    },
    {
      "cell_type": "markdown",
      "metadata": {
        "colab_type": "text",
        "id": "DWicIVv3enkX"
      },
      "source": [
        "### **Monte Carlo Simulator with Arithmetic Average**\n",
        "Call and Put Asian option prices with arithmetic averaging. The alternative implementation in Tensorlfow offers efficiency and includes the calculations of 1st 2nd and 3rd order Greeks."
      ]
    },
    {
      "cell_type": "markdown",
      "metadata": {
        "id": "YEIcJDQhe_Fx",
        "colab_type": "text"
      },
      "source": [
        "#### Conventional Interpretation"
      ]
    },
    {
      "cell_type": "code",
      "metadata": {
        "id": "bcOoGNSVfBoQ",
        "colab_type": "code",
        "colab": {}
      },
      "source": [
        "# Call Options:\n",
        "def mc_call_arithm_np(S0, K, T, t, r, q, sigma, seed, n_paths, n_steps):\n",
        "  mc_call_arithm_payoffs = []\n",
        "  for i in range(1,n_paths):\n",
        "    seed = np.random.randint(1,2**31)\n",
        "    S = gbm_paths(S0,K,T,t,r,q,sigma,seed,n_paths,n_steps)\n",
        "    S_arithm_mu = np.mean(S)\n",
        "    arithm_payoff_call = np.exp(-r * T) * max(S_arithm_mu - K, 0)\n",
        "    mc_call_arithm_payoffs.append(arithm_payoff_call)\n",
        "  c = np.mean(mc_call_arithm_payoffs)\n",
        "  return c\n",
        "\n",
        "# Put Options:\n",
        "def mc_put_arithm_np(S0, K, T, t, r, q, sigma, seed, n_paths, n_steps):\n",
        "  mc_put_arithm_payoffs = []\n",
        "  for i in range(1,n_paths):\n",
        "    seed = np.random.randint(1,2**31)\n",
        "    S = gbm_paths(S0,K,T,t,r,q,sigma,seed,n_paths,n_steps)\n",
        "    S_arithm_mu = np.mean(S)\n",
        "    arithm_payoff_put = np.exp(-r * T) * max(K - S_arithm_mu, 0)\n",
        "    print(arithm_payoff_put)\n",
        "    mc_put_arithm_payoffs.append(arithm_payoff_put)\n",
        "  p = np.mean(mc_put_arithm_payoffs)\n",
        "  return p"
      ],
      "execution_count": 0,
      "outputs": []
    },
    {
      "cell_type": "markdown",
      "metadata": {
        "id": "ej5hPX_4eSNt",
        "colab_type": "text"
      },
      "source": [
        "#### JAX Implementation"
      ]
    },
    {
      "cell_type": "code",
      "metadata": {
        "id": "7mJ4Q3EHeVAu",
        "colab_type": "code",
        "colab": {}
      },
      "source": [
        "def mc_call_arithm(S0, K, T, t, r, q, sigma, n_paths, n_steps, n_sims):\n",
        "  c = []\n",
        "  K = np.full(n_paths,K)\n",
        "  payoff_0 = np.zeros(n_paths)\n",
        "  for i in range(1,n_sims):\n",
        "    S = gbm_paths_jax(S0, r, q, sigma, n_steps, n_paths)\n",
        "    S_arithm = jnp.mean(S, axis=0)\n",
        "    c.append(jnp.mean(jnp.exp(-r*T) * jnp.maximum(S_arithm - K, payoff_0)))\n",
        "  call = np.mean(c)\n",
        "  return call\n",
        "\n",
        "def mc_put_arithm(S0, K, T, t, r, q, sigma, n_paths, n_steps, n_sims):\n",
        "  p = []\n",
        "  K = np.full(n_paths,K)\n",
        "  payoff_0 = np.zeros(n_paths)\n",
        "  for i in range(1,n_sims):\n",
        "    S = gbm_paths_jax(S0, r, q, sigma, n_steps, n_paths)\n",
        "    S_arithm = jnp.mean(S, axis=0)\n",
        "    p.append(jnp.mean(jnp.exp(-r*T) * jnp.maximum(K - S_arithm, payoff_0)))\n",
        "  put = np.mean(p)\n",
        "  return put"
      ],
      "execution_count": 0,
      "outputs": []
    },
    {
      "cell_type": "markdown",
      "metadata": {
        "colab_type": "text",
        "id": "Wweo2-IyeiHp"
      },
      "source": [
        "#### Tensorflow Implementation:"
      ]
    },
    {
      "cell_type": "code",
      "metadata": {
        "colab_type": "code",
        "id": "cmRdXzAEehv3",
        "colab": {}
      },
      "source": [
        "# Sample Output\n",
        "# [NET PRESENT VALUE, [DELTA, VEGA, THETA], [GAMMA, VANNA, CHARM], [VANNA, VOLGA, VETA], [SPEED, ZOMMA, COLOR], [N/A, ULTIMA, TOTTO]]\n",
        "\n",
        "# Call Options:\n",
        "def mc_call_arithm_tf(enable_greeks=False):\n",
        "    (S0, K, dt, T, sigma, r, dw, S_i) = tf_graph_gbm_paths()\n",
        "    A = tf.reduce_sum(S_i, axis=1)/(T/dt)\n",
        "    payout = tf.maximum(A - K, 0)\n",
        "    npv = tf.exp(-r * T) * tf.reduce_mean(payout)\n",
        "    target_calc = [npv]\n",
        "    if enable_greeks:\n",
        "      greeks = tf.gradients(npv, [S0, sigma, dt]) # delta, vega, theta\n",
        "      dS_2nd = tf.gradients(greeks[0], [S0, sigma, dt]) # gamma, vanna, charm\n",
        "      dsigma_2nd = tf.gradients(greeks[1], [S0, sigma, dt]) # vanna, vomma/volga, veta\n",
        "      dT_2nd = tf.gradients(dS_2nd[0], [S0, sigma, dt]) # speed, zomma, color\n",
        "      dsigma_3rd = tf.gradients(dsigma_2nd[1], [S0, sigma, dt]) # N/A, ultima, totto\n",
        "      target_calc += [greeks, dS_2nd, dsigma_2nd, dT_2nd, dsigma_3rd]\n",
        "    def pricer(S_zero, strk, maturity, volatility, riskfrate, seed, n_paths, n_steps):\n",
        "      if seed != 0:\n",
        "        np.random.seed(seed)\n",
        "      stdnorm_random_variates = np.random.randn(n_paths, n_steps)\n",
        "      with tf.Session() as sess:\n",
        "        delta_t = maturity / n_steps\n",
        "        res = sess.run(target_calc,\n",
        "                       {\n",
        "                           S0: S_zero,\n",
        "                           K: strk,\n",
        "                           r: riskfrate,\n",
        "                           sigma: volatility,\n",
        "                           dt: delta_t,\n",
        "                           T: maturity,\n",
        "                           dw: stdnorm_random_variates})\n",
        "        return res\n",
        "    return pricer\n",
        "\n",
        "\n",
        "# Put Options:\n",
        "def mc_put_arithm_tf(enable_greeks=False):\n",
        "    (S0, K, dt, T, sigma, r, dw, S_i) = tf_graph_gbm_paths()\n",
        "    A = tf.reduce_sum(S_i, axis=1)/(T/dt)\n",
        "    payout = tf.maximum(K - A, 0)\n",
        "    npv = tf.exp(-r * T) * tf.reduce_mean(payout)\n",
        "    target_calc = [npv]\n",
        "    if enable_greeks:\n",
        "      greeks = tf.gradients(npv, [S0, sigma, dt]) # delta, vega, theta\n",
        "      dS_2nd = tf.gradients(greeks[0], [S0, sigma, dt]) # gamma, vanna, charm\n",
        "      dsigma_2nd = tf.gradients(greeks[1], [S0, sigma, dt]) # vanna, vomma/volga, veta\n",
        "      dT_2nd = tf.gradients(dS_2nd[0], [S0, sigma, dt]) # speed, zomma, color\n",
        "      dsigma_3rd = tf.gradients(dsigma_2nd[1], [S0, sigma, dt]) # N/A, ultima, totto\n",
        "      target_calc += [greeks, dS_2nd, dsigma_2nd, dT_2nd, dsigma_3rd]\n",
        "    def pricer(S_zero, strk, maturity, volatility, riskfrate, seed, n_paths, n_steps):\n",
        "      if seed != 0:\n",
        "        np.random.seed(seed)\n",
        "      stdnorm_random_variates = np.random.randn(n_paths, n_steps)\n",
        "      with tf.Session() as sess:\n",
        "        delta_t = maturity / n_steps\n",
        "        res = sess.run(target_calc,\n",
        "                       {\n",
        "                           S0: S_zero,\n",
        "                           K: strk,\n",
        "                           r: riskfrate,\n",
        "                           sigma: volatility,\n",
        "                           dt: delta_t,\n",
        "                           T: maturity,\n",
        "                           dw: stdnorm_random_variates})\n",
        "        return res\n",
        "    return pricer"
      ],
      "execution_count": 0,
      "outputs": []
    },
    {
      "cell_type": "markdown",
      "metadata": {
        "id": "b1Fu5swGul_x",
        "colab_type": "text"
      },
      "source": [
        "### **Monte Carlo Simulator with Geometric Average**"
      ]
    },
    {
      "cell_type": "markdown",
      "metadata": {
        "colab_type": "text",
        "id": "ZRckDhUieqjR"
      },
      "source": [
        "#### Conventional Implementation"
      ]
    },
    {
      "cell_type": "code",
      "metadata": {
        "id": "OMdz05wy3gLv",
        "colab_type": "code",
        "colab": {}
      },
      "source": [
        "# Call Options:\n",
        "def mc_call_geom_np(S0, K, T, t, r, q, sigma,n_paths,n_steps,n_sims):\n",
        "  mc_call_geom_payoffs = []\n",
        "  for i in range(1,n_sims):\n",
        "    S = gbm_paths_original(S0,K,T,t,r,q,sigma,seed,n_paths,n_steps)\n",
        "    S_geom_mu = np.exp(np.mean(np.log(S)))\n",
        "    mc_call_geom_payoffs.append(np.exp(-r * T) * max(S_geom_mu - K, 0))\n",
        "  c = np.mean(mc_call_geom_payoffs)\n",
        "  return c\n",
        "\n",
        "# Put Options:\n",
        "def mc_put_geom_np(S0, K, T, t, r, q, sigma,n_paths,n_steps,n_sims):\n",
        "  mc_put_geom_payoffs = []\n",
        "  for i in range(1,n_sims):\n",
        "    S = gbm_paths_original(S0,K,T,t,r,q,sigma,seed,n_paths,n_steps)\n",
        "    S_geom = np.exp(np.mean(np.log(S)))\n",
        "    mc_put_geom_payoffs.append(np.exp(-r * T) * max(K - S_geom, 0))\n",
        "  p = np.mean(mc_put_geom_payoffs)\n",
        "  return p"
      ],
      "execution_count": 0,
      "outputs": []
    },
    {
      "cell_type": "markdown",
      "metadata": {
        "id": "yHQVH0jgBQqd",
        "colab_type": "text"
      },
      "source": [
        "#### JAX Implementation"
      ]
    },
    {
      "cell_type": "code",
      "metadata": {
        "id": "wutZE5EPBVA7",
        "colab_type": "code",
        "colab": {}
      },
      "source": [
        "def mc_call_geom(S0, K, T, t, r, q, sigma, n_paths, n_steps, n_sims):\n",
        "  c = []\n",
        "  K = np.full(n_paths,K)\n",
        "  payoff_0 = np.zeros(n_paths)\n",
        "  for i in range(1,n_sims):\n",
        "    S = gbm_paths_jax(S0, r, q, sigma, n_steps, n_paths)\n",
        "    S_geom = jnp.exp(jnp.mean(jnp.log(S), axis=0))\n",
        "    c.append(jnp.mean(jnp.exp(-r*T) * jnp.maximum(S_geom - K, payoff_0)))\n",
        "  call = np.mean(c)\n",
        "  return call\n",
        "\n",
        "def mc_put_geom(S0, K, T, t, r, q, sigma, n_paths, n_steps, n_sims):\n",
        "  p = []\n",
        "  K = np.full(n_paths,K)\n",
        "  payoff_0 = np.zeros(n_paths)\n",
        "  for i in range(1,n_sims):\n",
        "    S = gbm_paths_jax(S0, r, q, sigma, n_steps, n_paths)\n",
        "    S_geom = jnp.exp(jnp.mean(jnp.log(S), axis=0))\n",
        "    p.append(jnp.mean(jnp.exp(-r*T) * jnp.maximum(K - S_geom, payoff_0)))\n",
        "  put = np.mean(p)\n",
        "  return put"
      ],
      "execution_count": 0,
      "outputs": []
    },
    {
      "cell_type": "markdown",
      "metadata": {
        "id": "cIU7eftjcQXq",
        "colab_type": "text"
      },
      "source": [
        "#### Tensorflow Implementation"
      ]
    },
    {
      "cell_type": "code",
      "metadata": {
        "id": "WNRGP7V-cTya",
        "colab_type": "code",
        "colab": {}
      },
      "source": [
        "# Sample Output\n",
        "# [NET PRESENT VALUE, [DELTA, VEGA, THETA], [GAMMA, VANNA, CHARM], [VANNA, VOLGA, VETA], [SPEED, ZOMMA, COLOR], [N/A, ULTIMA, TOTTO]]\n",
        "\n",
        "# Call Options:\n",
        "def mc_call_geom_tf(enable_greeks=True):\n",
        "    (S0, K, dt, T, sigma, r, dw, S_i) = tf_graph_gbm_paths()\n",
        "    A = tf.pow(tf.reduce_prod(S_i, axis=1), dt / T)\n",
        "    payout = tf.maximum(A - K, 0)\n",
        "    npv = tf.exp(-r * T) * tf.reduce_mean(payout)                          # GREEKS TABLE:\n",
        "    target_calc = [npv]                                                    # (e.g. Option Price with respect to Asset Price (S) is delta)\n",
        "    if enable_greeks:                                                      #\n",
        "      grads_greeks = tf.ones([n_paths,1])                               #                Asset Price (S)   Volatility    Time to Expiry\n",
        "      greeks = tf.gradients(npv, [S0, sigma, dt])                          # Option Price |     delta            vega           theta\n",
        "      dS_2nd = tf.gradients(greeks[0], [S0, sigma, dt])                    # Delta        |     gamma            vanna          charm\n",
        "      dsigma_2nd = tf.gradients(greeks[1], [S0, sigma, dt])                # Vega         |     vanna         vomma/volga       veta\n",
        "      dT_2nd = tf.gradients(dS_2nd[0], [S0, sigma, dt])                    # Gamma        |     speed            zomma          color\n",
        "      dsigma_3rd = tf.gradients(dsigma_2nd[1], [S0, sigma, dt])            # Vomma        |      N/A             ultima         totto\n",
        "      target_calc += [greeks, dS_2nd, dsigma_2nd, dT_2nd, dsigma_3rd]\n",
        "    def pricer(S_zero, strk, maturity, riskfrate, volatility, seed, n_paths, n_steps):\n",
        "      if seed != 0:\n",
        "        np.random.seed(seed)\n",
        "      stdnorm_random_variates = np.random.randn(n_paths, n_steps)\n",
        "      with tf.Session() as sess:\n",
        "        delta_t = maturity / n_steps\n",
        "        res = sess.run(target_calc,\n",
        "                       {\n",
        "                           S0: S_zero,\n",
        "                           K: strk,\n",
        "                           r: riskfrate,\n",
        "                           sigma: volatility,\n",
        "                           dt: delta_t,\n",
        "                           T: maturity,\n",
        "                           dw: stdnorm_random_variates})\n",
        "        return res\n",
        "    return pricer\n",
        "\n",
        "# Put Options:\n",
        "def mc_put_geom_tf(enable_greeks=True):\n",
        "    (S0, K, dt, T, sigma, r, dw, S_i) = tf_graph_gbm_paths()\n",
        "    A = tf.pow(tf.reduce_prod(S_i, axis=1), dt / T)\n",
        "    payout = tf.maximum(K - A, 0)\n",
        "    npv = tf.exp(-r * T) * tf.reduce_mean(payout)                          # GREEKS TABLE:\n",
        "    target_calc = [npv]                                                    # (e.g. Option Price with respect to Asset Price (S) is delta)\n",
        "    if enable_greeks:                                                      #                Asset Price (S)   Volatility    Time to Expiry\n",
        "      greeks = tf.gradients(npv, [S0, sigma, dt])                          # Option Price |     delta            vega           theta\n",
        "      dS_2nd = tf.gradients(greeks[0], [S0, sigma, dt])                    # Delta        |     gamma            vanna          charm\n",
        "      dsigma_2nd = tf.gradients(greeks[1], [S0, sigma, dt])                # Vega         |     vanna         vomma/volga       veta\n",
        "      dT_2nd = tf.gradients(dS_2nd[0], [S0, sigma, dt])                    # Gamma        |     speed            zomma          color\n",
        "      dsigma_3rd = tf.gradients(dsigma_2nd[1], [S0, sigma, dt])            # Vomma        |      N/A             ultima         totto\n",
        "      target_calc += [greeks, dS_2nd, dsigma_2nd, dT_2nd, dsigma_3rd]\n",
        "    def pricer(S_zero, strk, maturity, riskfrate, volatility, seed, n_paths, n_steps):\n",
        "      if seed != 0:\n",
        "        np.random.seed(seed)\n",
        "      stdnorm_random_variates = np.random.randn(n_paths, n_steps)\n",
        "      with tf.Session() as sess:\n",
        "        delta_t = maturity / n_steps\n",
        "        res = sess.run(target_calc,\n",
        "                       {\n",
        "                           S0: S_zero,\n",
        "                           K: strk,\n",
        "                           r: riskfrate,\n",
        "                           sigma: volatility,\n",
        "                           dt: delta_t,\n",
        "                           T: maturity,\n",
        "                           dw: stdnorm_random_variates})\n",
        "        return res\n",
        "    return pricer"
      ],
      "execution_count": 0,
      "outputs": []
    },
    {
      "cell_type": "markdown",
      "metadata": {
        "id": "faPZti8LjYd7",
        "colab_type": "text"
      },
      "source": [
        "### PDF, CDF"
      ]
    },
    {
      "cell_type": "code",
      "metadata": {
        "id": "YEq_axKigbtx",
        "colab_type": "code",
        "colab": {}
      },
      "source": [
        "# Probability density function of standard normal\n",
        "def dN(x):\n",
        "  return np.exp(-0.5 * x ** 2) / np.sqrt(2 * np.pi)\n",
        "\n",
        "# Cumulative density function of standard normal\n",
        "def N(u):\n",
        "  q = special.erf(u / np.sqrt(2.0))\n",
        "  return (1.0 + q) / 2.0"
      ],
      "execution_count": 0,
      "outputs": []
    },
    {
      "cell_type": "markdown",
      "metadata": {
        "id": "RlRnlaUyYrqF",
        "colab_type": "text"
      },
      "source": [
        "### **Greeks**"
      ]
    },
    {
      "cell_type": "markdown",
      "metadata": {
        "id": "W8Bsor2Hjkf_",
        "colab_type": "text"
      },
      "source": [
        "#### Greeks Derivations"
      ]
    },
    {
      "cell_type": "code",
      "metadata": {
        "id": "0TrXkqAWxAxT",
        "colab_type": "code",
        "colab": {}
      },
      "source": [
        "# 1st Order Greeks:\n",
        "\n",
        "# Delta\n",
        "def bsm_delta(S0, K, T, t, r, q, sigma, optiontype):\n",
        "  G0 = S0 * np.exp(0.5 * (T - t) * (r - q - (sigma**2)/6))\n",
        "  Sigma_G = sigma/np.sqrt(3)\n",
        "  d1 = (1/(Sigma_G * np.sqrt(T - t))) * (np.log(G0/K) + 0.5 * (Sigma_G**2) * (T - t))\n",
        "  if(optiontype == \"Call\"):\n",
        "    delta = np.exp(-(T - t)) * N(d1)\n",
        "  elif(optiontype == \"Put\"):\n",
        "    delta = -np.exp(-(T - t)) * N(-d1)\n",
        "  return delta\n",
        "\n",
        "# Vega\n",
        "def bsm_vega(S0, K, T, t, r, q, sigma, optiontype):\n",
        "  G0 = S0 * np.exp(0.5 * (T - t) * (r - q - (sigma**2)/6))\n",
        "  Sigma_G = sigma/np.sqrt(3)\n",
        "  d1 = (1/(Sigma_G * np.sqrt(T - t))) * (np.log(G0/K) + 0.5 * (Sigma_G**2) * (T - t))\n",
        "  vega = S0 * dN(d1) * np.sqrt(T - t)\n",
        "  return vega\n",
        "\n",
        "# Rho\n",
        "def bsm_rho(S0, K, T, t, r, q, sigma, optiontype):\n",
        "  G0 = S0 * np.exp(0.5 * (T - t) * (r - q - (sigma**2)/6))\n",
        "  Sigma_G = sigma/np.sqrt(3)  \n",
        "  d1 = (1/(Sigma_G * np.sqrt(T - t))) * (np.log(G0/K) + 0.5 * (Sigma_G**2) * (T - t))\n",
        "  d2 = (1/(Sigma_G * np.sqrt(T - t))) * (np.log(G0/K) - 0.5 * (Sigma_G**2) * (T - t))\n",
        "  if(optiontype == \"Call\"):\n",
        "    rho = K * (T - t) * np.exp(-r * (T - t)) * N(d2)\n",
        "  if(optiontype == \"Put\"):\n",
        "    rho = -K * (T - t) * np.exp(-r * (T - t)) * N(-d2)\n",
        "  return rho\n",
        "\n",
        "# Theta\n",
        "def bsm_theta(S0, K, T, t, r, q, sigma, optiontype):\n",
        "  G0 = S0 * np.exp(0.5 * (T - t) * (r - q - (sigma**2)/6))\n",
        "  Sigma_G = sigma/np.sqrt(3)\n",
        "  d1 = (1/(Sigma_G * np.sqrt(T - t))) * (np.log(G0/K) + 0.5 * (Sigma_G**2) * (T - t))\n",
        "  d2 = (1/(Sigma_G * np.sqrt(T - t))) * (np.log(G0/K) - 0.5 * (Sigma_G**2) * (T - t))\n",
        "  if(optiontype == \"Call\"):\n",
        "    theta = -(S0 * dN(d1) * Sigma_G / (2 * np.sqrt(T - t)) - r * K * np.exp(-r * (T - t)) * N(d2))\n",
        "  if(optiontype == \"Put\"):\n",
        "    theta = -(S0 * dN(d1) * Sigma_G / (2 * np.sqrt(T - t)) + r * K * np.exp(-r * (T - t)) * N(-d2))\n",
        "  return theta\n",
        "\n",
        "# 2nd Order Greeks:\n",
        "\n",
        "# Gamma\n",
        "def bsm_gamma(S0, K, T, t, r, q, sigma, optiontype):\n",
        "  G0 = S0 * np.exp(0.5 * (T - t) * (r - q - (sigma**2)/6))\n",
        "  Sigma_G = sigma/np.sqrt(3)\n",
        "  d1 = (1/(Sigma_G * np.sqrt(T - t))) * (np.log(G0/K) + 0.5 * (Sigma_G**2) * (T - t))\n",
        "  gamma = dN(d1) / (S0 * Sigma_G * math.sqrt(T - t))\n",
        "  return gamma\n",
        "\n",
        "# Charm\n",
        "def bsm_charm(S0, K, T, t, r, q, sigma, optiontype):\n",
        "  G0 = S0 * np.exp(0.5 * (T - t) * (r - q - (sigma**2)/6))\n",
        "  Sigma_G = sigma/np.sqrt(3)  \n",
        "  d1 = (1/(Sigma_G * np.sqrt(T - t))) * (np.log(G0/K) + 0.5 * (Sigma_G**2) * (T - t))\n",
        "  d2 = (1/(Sigma_G * np.sqrt(T - t))) * (np.log(G0/K) - 0.5 * (Sigma_G**2) * (T - t)) \n",
        "  charm = -dN(d1) * (2 * r * (T-t) - d2 * Sigma_G * np.sqrt(T-t)) / (2 * (T - t) * Sigma_G * np.sqrt(T-t))\n",
        "  return charm\n",
        "\n",
        "# Phi\n",
        "def bsm_phi(S0, K, T, t, r, q, sigma, optiontype):\n",
        "  G0 = S0 * np.exp(0.5 * (T - t) * (r - q - (sigma**2)/6))\n",
        "  Sigma_G = sigma/np.sqrt(3)  \n",
        "  d1 = (1/(Sigma_G * np.sqrt(T - t))) * (np.log(G0/K) + 0.5 * (Sigma_G**2) * (T - t))\n",
        "  d2 = (1/(Sigma_G * np.sqrt(T - t))) * (np.log(G0/K) - 0.5 * (Sigma_G**2) * (T - t))\n",
        "  phi = 0.01 * T * S0 * np.exp(-q * T) * N(d1)\n",
        "  return phi\n",
        "\n",
        "# Vanna\n",
        "def bsm_vanna(S0, K, T, t, r, q, sigma, optiontype):\n",
        "  G0 = S0 * np.exp(0.5 * (T - t) * (r - q - (sigma**2)/6))\n",
        "  Sigma_G = sigma/np.sqrt(3)  \n",
        "  d1 = (1/(Sigma_G * np.sqrt(T - t))) * (np.log(G0/K) + 0.5 * (Sigma_G**2) * (T - t))\n",
        "  d2 = (1/(Sigma_G * np.sqrt(T - t))) * (np.log(G0/K) - 0.5 * (Sigma_G**2) * (T - t))\n",
        "  vanna = S0 * np.exp(-q * T) * d2 / Sigma_G * dN(d1) \n",
        "  return vanna\n",
        "\n",
        "# Vomma\n",
        "def bsm_vomma(S0, K, T, t, r, q, sigma, optiontype):\n",
        "  G0 = S0 * np.exp(0.5 * (T - t) * (r - q - (sigma**2)/6))\n",
        "  Sigma_G = sigma/np.sqrt(3)  \n",
        "  d1 = (1/(Sigma_G * np.sqrt(T - t))) * (np.log(G0/K) + 0.5 * (Sigma_G**2) * (T - t))\n",
        "  d2 = (1/(Sigma_G * np.sqrt(T - t))) * (np.log(G0/K) - 0.5 * (Sigma_G**2) * (T - t))\n",
        "  vomma = -0.01 * np.exp(-q * T) * d2 / Sigma_G * dN(d1)\n",
        "  return vomma"
      ],
      "execution_count": 0,
      "outputs": []
    },
    {
      "cell_type": "markdown",
      "metadata": {
        "id": "HwSOCFiejr3P",
        "colab_type": "text"
      },
      "source": [
        "#### Greeks: Sensitivity Plotter"
      ]
    },
    {
      "cell_type": "code",
      "metadata": {
        "id": "NPwlq00J_P-2",
        "colab_type": "code",
        "colab": {}
      },
      "source": [
        "def greeks_plot_tool(greek_function, x_var_name, y_var_name,S0, K, T, t, r, q, sigma, x, y, optiontype, greek, plot):\n",
        "    # Initialise vector to store our option values and then iterate over\n",
        "    # Assumption that we're using a constant sized vector length for each variable\n",
        "    # Need to change the variables being iterated over here for each update (possibly a better way to do this)\n",
        "    V = np.zeros((len(S0), len(S0)), dtype=np.float)\n",
        "    for i in range(len(S0)):\n",
        "      for j in range(len(S0)):\n",
        "        V[i, j] = greek_function(S0[i], K[i], T[j], t[i], r[i], q[i], sigma[i], optiontype)\n",
        " \n",
        "    # Initiliase plotting canvas \n",
        "    surf = plot.plot_surface(x, y, V, rstride=1, cstride=1, alpha=0.7, cmap=cm.RdYlGn, antialiased = True) #cmap = cm.RdYlBu, for surface plotting\n",
        "    plot.set_xlabel(x_var_name, color = color_plots, fontsize = xlabel_size)\n",
        "    plot.set_ylabel(y_var_name, color = color_plots, fontsize = ylabel_size)\n",
        "    plot.set_zlabel(\"%s(K, T)\" % greek, color = color_plots, fontsize = zlabel_size)\n",
        "    plot.set_title(\"%s %s\" % (optiontype, greek), color = color_plots, fontsize=title_size, fontweight='bold')\n",
        "    \n",
        "    # Calculate colour levels based on our meshgrid\n",
        "    Vlevels = np.linspace(V.min(), V.max(), num=8, endpoint=True)\n",
        "    xlevels = np.linspace(x.min(), x.max(), num=8, endpoint=True)\n",
        "    ylevels = np.linspace(y.min(), y.max(), num=8, endpoint=True)\n",
        "    \n",
        "    cset = plot.contourf(x, y, V, Vlevels, zdir='z',offset=V.min(), cmap=cm.RdYlGn, alpha = 0.5, antialiased = True)\n",
        "    cset = plot.contourf(x, y, V, xlevels, zdir='x',offset=x.min(), cmap=cm.RdYlGn, alpha = 0.5, antialiased = True)\n",
        "    cset = plot.contourf(x, y, V, ylevels, zdir='y',offset=y.max(), cmap=cm.RdYlGn, alpha = 0.5, antialiased = True)\n",
        "\n",
        "    # Set our viewing constraints\n",
        "    plt.clabel(cset,fontsize=10, inline=1, color = color_plots, antialiased = True)\n",
        "    plot.set_xlim(x.min(), x.max())\n",
        "    plot.set_ylim(y.min(), y.max())\n",
        "    plot.set_zlim(V.min(), V.max())\n",
        "\n",
        "    # Colorbar\n",
        "    colbar = plt.colorbar(surf, shrink=1.0, extend='both', aspect = 10)\n",
        "    l,b,w,h = plt.gca().get_position().bounds\n",
        "    ll,bb,ww,hh = colbar.ax.get_position().bounds\n",
        "    colbar.ax.set_position([ll, b+0.1*h, ww, h*0.8])"
      ],
      "execution_count": 0,
      "outputs": []
    },
    {
      "cell_type": "markdown",
      "metadata": {
        "id": "SWAgbAidJ71u",
        "colab_type": "text"
      },
      "source": [
        "### Option Sensitivity"
      ]
    },
    {
      "cell_type": "markdown",
      "metadata": {
        "id": "YpUavy53vxuR",
        "colab_type": "text"
      },
      "source": [
        "#### BSM Option Sensitivity"
      ]
    },
    {
      "cell_type": "code",
      "metadata": {
        "id": "AhC9XI-GeqdF",
        "colab_type": "code",
        "colab": {}
      },
      "source": [
        "  def bsm_plot_values(function,S0, K, T, t, r, q, sigma,optiontype):\n",
        "    fig = plt.figure(figsize=(30,90))\n",
        "    points = 100\n",
        "\n",
        "    # Option(K,T) vs. Strike\n",
        "    fig1 = fig.add_subplot(821)\n",
        "    klist = np.linspace(K-30, K+30, points)\n",
        "    vlist = [function(S0, K, T, t, r, q, sigma) for K in klist]\n",
        "    fig1.plot(klist, vlist)\n",
        "    fig1.grid()\n",
        "    fig1.set_title('BSM %s Option Value vs. Strike' % optiontype, color = color_plots, fontsize = title_size)\n",
        "    fig1.set_xlabel('Strike $K$', color = color_plots, fontsize = xlabel_size)\n",
        "    fig1.set_ylabel('%s Option Value' % optiontype, color = color_plots, fontsize = ylabel_size)\n",
        "\n",
        "    # Option(K,T) vs. Strike vs. Underlying Price\n",
        "    klist = np.linspace(K-30, K+30, points)\n",
        "    s0list = np.linspace(S0 - 20, S0 + 20, points)\n",
        "    V = np.zeros((len(s0list), len(klist)), dtype=np.float)\n",
        "    for j in range(len(klist)):\n",
        "      for i in range(len(s0list)):\n",
        "        V[i, j] = function(s0list[i], klist[j], T, t, r, q, sigma)\n",
        "\n",
        "    fig2 = fig.add_subplot(823, projection=\"3d\")\n",
        "    x, y = np.meshgrid(klist, s0list)\n",
        "    fig2.patch.set_alpha(0.0)\n",
        "    fig2.plot_wireframe(x, y, V, linewidth=1.0, color = color_plots) #cmap = cm.RdYlGn, for surface plotting\n",
        "    fig2.set_title('BSM %s Option Value vs. Strike vs. Underlying Price' % optiontype, color = color_plots, fontsize = title_size)\n",
        "    fig2.set_xlabel('Strike $K$', color = color_plots, fontsize = xlabel_size)\n",
        "    fig2.set_ylabel('Stock/Underlying Price ($)', color = color_plots, fontsize = ylabel_size)\n",
        "    fig2.set_zlabel('%s Option Value' % optiontype, color = color_plots, fontsize = zlabel_size)\n",
        "\n",
        "    # Option(K,T) vs. Time\n",
        "    fig3 = fig.add_subplot(822)\n",
        "    tlist = np.linspace(0.0001, T, points)\n",
        "    vlist = [function(S0, K, T, t, r, q, sigma) for T in tlist]\n",
        "    fig3.plot(tlist, vlist)\n",
        "    fig3.grid()\n",
        "    fig3.set_title('BSM %s Option Value vs. Time' % optiontype, color = color_plots, fontsize = title_size)\n",
        "    fig3.set_xlabel('Maturity $T$', color = color_plots, fontsize = xlabel_size)\n",
        "    fig3.set_ylabel('%s Option Value' % optiontype, color = color_plots, fontsize = ylabel_size)\n",
        "\n",
        "    # Option(K,T) vs. Time vs. Underlying Price\n",
        "    tlist = np.linspace(0.0001, T, points)\n",
        "    s0list = np.linspace(S0 - 20, S0 + 10, points)\n",
        "    V = np.zeros((len(s0list), len(tlist)), dtype=np.float)\n",
        "    for j in range(len(tlist)):\n",
        "      for i in range(len(s0list)):\n",
        "        V[i, j] = function(s0list[i], K, tlist[j], t, r, q, sigma)\n",
        "\n",
        "    fig4 = fig.add_subplot(824, projection=\"3d\")\n",
        "    x, y = np.meshgrid(tlist, s0list)\n",
        "    fig4.patch.set_alpha(0.0)\n",
        "    fig4.plot_wireframe(x, y, V, linewidth=1.0, color = color_plots) #cmap = cm.RdYlGn, for surface plotting\n",
        "    fig4.set_title('BSM %s Option Value vs. Time vs. Underlying Price' % optiontype, color = color_plots, fontsize = title_size)\n",
        "    fig4.set_xlabel('Maturity $T$', color = color_plots, fontsize = xlabel_size)\n",
        "    fig4.set_ylabel('Stock/Underlying Price ($)', color = color_plots, fontsize = ylabel_size)\n",
        "    fig4.set_zlabel('%s Option Value' % optiontype, color = color_plots, fontsize = zlabel_size)\n",
        "\n",
        "    # Option(K,T) vs. r\n",
        "    fig5 = fig.add_subplot(825)\n",
        "    rlist = np.linspace(0, r, points)\n",
        "    vlist = [function(S0, K, T, t, r, q, sigma) for r in rlist]\n",
        "    fig5.plot(rlist, vlist)\n",
        "    fig5.grid()\n",
        "    fig5.set_title('BSM %s Option Value vs. r' % optiontype, color = color_plots, fontsize = title_size)\n",
        "    fig5.set_xlabel('Risk-free rate $r$', color = color_plots, fontsize = xlabel_size)\n",
        "    fig5.set_ylabel('%s Option Value' % optiontype, color = color_plots, fontsize = ylabel_size)\n",
        "\n",
        "    # Option(K,T) vs. r vs. Underlying Price\n",
        "    rlist = np.linspace(0, r, points)\n",
        "    s0list = np.linspace(S0 - 20, S0 + 20, points)\n",
        "    V = np.zeros((len(s0list), len(rlist)), dtype=np.float)\n",
        "    for j in range(len(rlist)):\n",
        "      for i in range(len(s0list)):\n",
        "        V[i, j] = function(s0list[i], K, T, t, rlist[j], q, sigma)\n",
        "\n",
        "    fig6 = fig.add_subplot(827, projection=\"3d\")\n",
        "    x, y = np.meshgrid(rlist, s0list)\n",
        "    fig6.patch.set_alpha(0.0)\n",
        "    fig6.plot_wireframe(x, y, V, linewidth=1.0, color = color_plots) #cmap = cm.RdYlGn, for surface plotting\n",
        "    fig6.set_title('BSM %s Option Value vs. r vs. Underlying Price' % optiontype, color = color_plots, fontsize = title_size)\n",
        "    fig6.set_xlabel('Risk-free rate $r$', color = color_plots, fontsize = xlabel_size)\n",
        "    fig6.set_ylabel('Stock/Underlying Price ($)', color = color_plots, fontsize = ylabel_size)\n",
        "    fig6.set_zlabel('%s Option Value' % optiontype, color = color_plots, fontsize = zlabel_size)\n",
        "\n",
        "    # Option(K,T) vs. Implied Vol.\n",
        "    fig7 = fig.add_subplot(826)\n",
        "    slist = np.linspace(0.01, sigma, points)\n",
        "    vlist = [function(S0, K, T, t, r, q, sigma) for sigma in slist]\n",
        "    fig7.plot(slist, vlist)\n",
        "    fig7.grid()\n",
        "    fig7.set_title('BSM %s Option Value vs. Volatility' % optiontype, color = color_plots, fontsize = title_size)\n",
        "    fig7.set_xlabel('Volatility $\\sigma$', color = color_plots, fontsize = xlabel_size)\n",
        "    fig7.set_ylabel('%s Option Value' % optiontype, color = color_plots, fontsize = ylabel_size)\n",
        "\n",
        "    # Option(K,T) vs. Volatility vs. Underlying Price\n",
        "    slist = np.linspace(0.01, sigma, points)\n",
        "    s0list = np.linspace(S0 - 20, S0 + 20, points)\n",
        "    V = np.zeros((len(s0list), len(slist)), dtype=np.float)\n",
        "    for j in range(len(slist)):\n",
        "      for i in range(len(s0list)):\n",
        "        V[i, j] = function(s0list[i], K, T, t, r, q, slist[j])\n",
        "\n",
        "    fig8 = fig.add_subplot(828, projection=\"3d\")\n",
        "    x, y = np.meshgrid(slist, s0list)\n",
        "    fig8.patch.set_alpha(0.0)\n",
        "    fig8.plot_wireframe(x, y, V, linewidth=1.0, color = color_plots) #cmap = cm.RdYlGn, for surface plotting\n",
        "    fig8.set_title('BSM %s Option Value vs. Volatility vs. Underlying Price' % optiontype, color = color_plots, fontsize = title_size)\n",
        "    fig8.set_xlabel('Volatility $\\sigma$', color = color_plots, fontsize = xlabel_size)\n",
        "    fig8.set_ylabel('Stock/Underlying Price ($)', color = color_plots, fontsize = ylabel_size)\n",
        "    fig8.set_zlabel('%s Option Value' % optiontype, color = color_plots, fontsize = zlabel_size)"
      ],
      "execution_count": 0,
      "outputs": []
    },
    {
      "cell_type": "markdown",
      "metadata": {
        "id": "LQlqZfpFk0IT",
        "colab_type": "text"
      },
      "source": [
        "#### Monte Carlo Option Sensitivity"
      ]
    },
    {
      "cell_type": "code",
      "metadata": {
        "id": "CHeLCMQmk4qd",
        "colab_type": "code",
        "colab": {}
      },
      "source": [
        "  def mc_plot_values(function,S0, K, T, t, r, q, sigma, n_paths, n_steps, n_sims, optiontype):\n",
        "    fig = plt.figure(figsize=(30,90))\n",
        "    points = 100\n",
        "\n",
        "    # Option(K,T) vs. Strike\n",
        "    fig1 = fig.add_subplot(821)\n",
        "    klist = np.linspace(K-30, K+30, points)\n",
        "    vlist = [function(S0, K, T, t, r, q, sigma,n_paths,n_steps, n_sims) for K in klist]\n",
        "    fig1.plot(klist, vlist)\n",
        "    fig1.grid()\n",
        "    fig1.set_title('Monte Carlo %s Option Value vs. Strike' % optiontype, color = color_plots, fontsize = title_size)\n",
        "    fig1.set_xlabel('Strike $K$', color = color_plots, fontsize = xlabel_size)\n",
        "    fig1.set_ylabel('%s Option Value' % optiontype, color = color_plots, fontsize = ylabel_size)\n",
        "\n",
        "    # Option(K,T) vs. Strike vs. Underlying Price\n",
        "    klist = np.linspace(K-20, K+20, points)\n",
        "    s0list = np.linspace(S0 - 20, S0 + 20, points)\n",
        "    V = np.zeros((len(s0list), len(klist)), dtype=np.float)\n",
        "    for j in range(len(klist)):\n",
        "      for i in range(len(s0list)):\n",
        "        V[i, j] = function(s0list[i], klist[j], T, t, r, q, sigma,n_paths,n_steps, n_sims)\n",
        "\n",
        "    fig2 = fig.add_subplot(823, projection=\"3d\")\n",
        "    x, y = np.meshgrid(klist, s0list)\n",
        "    fig2.patch.set_alpha(0.0)\n",
        "    fig2.plot_wireframe(x, y, V, linewidth=1.0, color = color_plots) #cmap = cm.RdYlGn, for surface plotting\n",
        "    fig2.set_title('Monte Carlo %s Option Value vs. Strike vs. Underlying Price' % optiontype, color = color_plots, fontsize = title_size)\n",
        "    fig2.set_xlabel('Strike $K$', color = color_plots, fontsize = xlabel_size)\n",
        "    fig2.set_ylabel('Stock/Underlying Price ($)', color = color_plots, fontsize = ylabel_size)\n",
        "    fig2.set_zlabel('%s Option Value' % optiontype, color = color_plots, fontsize = zlabel_size)\n",
        "\n",
        "    # Option(K,T) vs. Time\n",
        "    fig3 = fig.add_subplot(822)\n",
        "    tlist = np.linspace(0.0001, T, points)\n",
        "    vlist = [function(S0, K, T, t, r, q, sigma,n_paths,n_steps, n_sims) for T in tlist]\n",
        "    fig3.plot(tlist, vlist)\n",
        "    fig3.grid()\n",
        "    fig3.set_title('Monte Carlo %s Option Value vs. Time' % optiontype, color = color_plots, fontsize = title_size)\n",
        "    fig3.set_xlabel('Maturity $T$', color = color_plots, fontsize = xlabel_size)\n",
        "    fig3.set_ylabel('%s Option Value' % optiontype, color = color_plots, fontsize = ylabel_size)\n",
        "\n",
        "    # Option(K,T) vs. Time vs. Underlying Price\n",
        "    tlist = np.linspace(0.0001, T, points)\n",
        "    s0list = np.linspace(S0 - 20, S0 + 10, points)\n",
        "    V = np.zeros((len(s0list), len(tlist)), dtype=np.float)\n",
        "    for j in range(len(tlist)):\n",
        "      for i in range(len(s0list)):\n",
        "        V[i, j] = function(s0list[i], K, tlist[j], t, r, q, sigma,n_paths,n_steps, n_sims)\n",
        "\n",
        "    fig4 = fig.add_subplot(824, projection=\"3d\")\n",
        "    x, y = np.meshgrid(tlist, s0list)\n",
        "    fig4.patch.set_alpha(0.0)\n",
        "    fig4.plot_wireframe(x, y, V, linewidth=1.0, color = color_plots) #cmap = cm.RdYlGn, for surface plotting\n",
        "    fig4.set_title('Monte Carlo %s Option Value vs. Time vs. Underlying Price' % optiontype, color = color_plots, fontsize = title_size)\n",
        "    fig4.set_xlabel('Maturity $T$', color = color_plots, fontsize = xlabel_size)\n",
        "    fig4.set_ylabel('Stock/Underlying Price ($)', color = color_plots, fontsize = ylabel_size)\n",
        "    fig4.set_zlabel('%s Option Value' % optiontype, color = color_plots, fontsize = zlabel_size)\n",
        "\n",
        "    # Option(K,T) vs. r\n",
        "    fig5 = fig.add_subplot(825)\n",
        "    rlist = np.linspace(0, r, points)\n",
        "    vlist = [function(S0, K, T, t, r, q, sigma,n_paths,n_steps, n_sims) for r in rlist]\n",
        "    fig5.plot(rlist, vlist)\n",
        "    fig5.grid()\n",
        "    fig5.set_title('Monte Carlo %s Option Value vs. r' % optiontype, color = color_plots, fontsize = title_size)\n",
        "    fig5.set_xlabel('Risk-free rate $r$', color = color_plots, fontsize = xlabel_size)\n",
        "    fig5.set_ylabel('%s Option Value' % optiontype, color = color_plots, fontsize = ylabel_size)\n",
        "\n",
        "    # Option(K,T) vs. r vs. Underlying Price\n",
        "    rlist = np.linspace(0, r, points)\n",
        "    s0list = np.linspace(S0 - 20, S0 + 20, points)\n",
        "    V = np.zeros((len(s0list), len(rlist)), dtype=np.float)\n",
        "    for j in range(len(rlist)):\n",
        "      for i in range(len(s0list)):\n",
        "        V[i, j] = function(s0list[i], K, T, t, rlist[j], q, sigma,n_paths,n_steps, n_sims)\n",
        "\n",
        "    fig6 = fig.add_subplot(827, projection=\"3d\")\n",
        "    x, y = np.meshgrid(rlist, s0list)\n",
        "    fig6.patch.set_alpha(0.0)\n",
        "    fig6.plot_wireframe(x, y, V, linewidth=1.0, color = color_plots) #cmap = cm.RdYlGn, for surface plotting\n",
        "    fig6.set_title('Monte Carlo %s Option Value vs. r vs. Underlying Price' % optiontype, color = color_plots, fontsize = title_size)\n",
        "    fig6.set_xlabel('Risk-free rate $r$', color = color_plots, fontsize = xlabel_size)\n",
        "    fig6.set_ylabel('Stock/Underlying Price ($)', color = color_plots, fontsize = ylabel_size)\n",
        "    fig6.set_zlabel('%s Option Value' % optiontype, color = color_plots, fontsize = zlabel_size)\n",
        "\n",
        "    # Option(K,T) vs. Implied Vol.\n",
        "    fig7 = fig.add_subplot(826)\n",
        "    slist = np.linspace(0.01, sigma, points)\n",
        "    vlist = [function(S0, K, T, t, r, q, sigma,n_paths,n_steps, n_sims) for sigma in slist]\n",
        "    fig7.plot(slist, vlist)\n",
        "    fig7.grid()\n",
        "    fig7.set_title('Monte Carlo %s Option Value vs. Volatility' % optiontype, color = color_plots, fontsize = title_size)\n",
        "    fig7.set_xlabel('Volatility $\\sigma$', color = color_plots, fontsize = xlabel_size)\n",
        "    fig7.set_ylabel('%s Option Value' % optiontype, color = color_plots, fontsize = ylabel_size)\n",
        "\n",
        "    # Option(K,T) vs. Volatility vs. Underlying Price\n",
        "    slist = np.linspace(0.01, sigma, points)\n",
        "    s0list = np.linspace(S0 - 20, S0 + 20, points)\n",
        "    V = np.zeros((len(s0list), len(slist)), dtype=np.float)\n",
        "    for j in range(len(slist)):\n",
        "      for i in range(len(s0list)):\n",
        "        V[i, j] = function(s0list[i], K, T, t, r, q, slist[j],n_paths,n_steps, n_sims)\n",
        "\n",
        "    fig8 = fig.add_subplot(828, projection=\"3d\")\n",
        "    x, y = np.meshgrid(slist, s0list)\n",
        "    fig8.patch.set_alpha(0.0)\n",
        "    fig8.plot_wireframe(x, y, V, linewidth=1.0, color = color_plots) #cmap = cm.RdYlGn, for surface plotting\n",
        "    fig8.set_title('Monte Carlo %s Option Value vs. Volatility vs. Underlying Price' % optiontype, color = color_plots, fontsize = title_size)\n",
        "    fig8.set_xlabel('Volatility $\\sigma$', color = color_plots, fontsize = xlabel_size)\n",
        "    fig8.set_ylabel('Stock/Underlying Price ($)', color = color_plots, fontsize = ylabel_size)\n",
        "    fig8.set_zlabel('%s Option Value' % optiontype, color = color_plots, fontsize = zlabel_size)"
      ],
      "execution_count": 0,
      "outputs": []
    },
    {
      "cell_type": "markdown",
      "metadata": {
        "id": "9alKHAGzxl7s",
        "colab_type": "text"
      },
      "source": [
        "### **Variance Reduction**"
      ]
    },
    {
      "cell_type": "markdown",
      "metadata": {
        "id": "c6pb2QrAZZkj",
        "colab_type": "text"
      },
      "source": [
        "#### Conventional Implementation"
      ]
    },
    {
      "cell_type": "code",
      "metadata": {
        "id": "JkUYNiBSZeKg",
        "colab_type": "code",
        "colab": {}
      },
      "source": [
        "# Call Options:\n",
        "def mc_call_control_variates(S0, K, T, t, r, q, sigma,iterations,timesteps, simulations):\n",
        "  c_cv_temp = []\n",
        "  c_cv = []\n",
        "  c_upper_cv = []\n",
        "  c_lower_cv = []\n",
        "  for i in range(1,simulations):\n",
        "    seed = random.randint(1,100000)\n",
        "    S = gbm_paths(S0, K, T, t, r, q, sigma, seed, iterations, timesteps)\n",
        "    S_arithm = np.mean(S)\n",
        "    S_geom = np.exp(np.mean(np.log(S)))\n",
        "    payoff_arithm = np.exp(-r * T) * max(S_arithm - K, 0)\n",
        "    payoff_geom = np.exp(-r * T) * max(S_geom - K, 0)\n",
        "    c_cv_temp.append(payoff_arithm - payoff_geom)\n",
        "    c_cv.append(np.mean(c_cv_temp))\n",
        "    c_upper_cv.append(np.mean(c_cv) + 1.96 * np.std(c_cv)/np.sqrt(i))\n",
        "    c_lower_cv.append(np.mean(c_cv) - 1.96 * np.std(c_cv)/np.sqrt(i))\n",
        "  return c_cv, c_upper_cv, c_lower_cv\n",
        "\n",
        "# Put Options:\n",
        "def mc_put_control_variates(S0, K, T, t, r, q, sigma,iterations,timesteps,simulations):\n",
        "  p_cv_temp = []\n",
        "  p_cv = []\n",
        "  p_upper_cv = []\n",
        "  p_lower_cv = []\n",
        "  for i in range(1,simulations):\n",
        "    seed = random.randint(1,100000)\n",
        "    S = gbm_paths(S0, K, T, r, q, sigma, seed, iterations, timesteps)\n",
        "    S_arithm = np.mean(S)\n",
        "    S_geom = np.exp(np.mean(np.log(S)))\n",
        "    payoff_arithm = np.exp(-r * T) * max(K - S_arithm, 0)\n",
        "    payoff_geom = np.exp(-r * T) * max(K - S_geom, 0)\n",
        "    p_cv.append(payoff_geom - payoff_arithm)\n",
        "    p_cv.append(np.mean(p_cv_temp))\n",
        "    p_upper_cv.append(np.mean(p_cv) + 1.96 * np.std(p_cv)/np.sqrt(i))\n",
        "    p_lower_cv.append(np.mean(p_cv) - 1.96 * np.std(p_cv)/np.sqrt(i))\n",
        "  return p_cv, p_upper_cv, p_lower_cv"
      ],
      "execution_count": 0,
      "outputs": []
    },
    {
      "cell_type": "markdown",
      "metadata": {
        "id": "QhZnTLMxZXO4",
        "colab_type": "text"
      },
      "source": [
        "#### JAX Implementation"
      ]
    },
    {
      "cell_type": "code",
      "metadata": {
        "id": "XSv5VQiexsoY",
        "colab_type": "code",
        "colab": {}
      },
      "source": [
        "# Call Options:\n",
        "def mc_call_cv(S0, K, T, t, r, q, sigma, n_paths, n_steps, n_sims):\n",
        "  c_cv = []\n",
        "  c_cv_temp = []\n",
        "  c_upper_cv = []\n",
        "  c_lower_cv = []\n",
        "  K = np.full(n_paths,K)\n",
        "  payoff_0 = np.zeros(n_paths)\n",
        "  for i in range(1,n_sims):\n",
        "    S = gbm_paths_jax(S0, r, q, sigma, n_steps, n_paths)\n",
        "    S_arithm = jnp.mean(S, axis=0)\n",
        "    S_geom = jnp.exp(jnp.mean(jnp.log(S), axis=0))\n",
        "    payoff_arithm = jnp.mean(jnp.exp(-r*T) * jnp.maximum(S_arithm - K, payoff_0))\n",
        "    payoff_geom = jnp.mean(jnp.exp(-r*T) * jnp.maximum(S_geom - K, payoff_0))\n",
        "    c_cv_temp.append(jnp.mean(payoff_arithm - payoff_geom))\n",
        "    c_cv.append(c_cv_temp)\n",
        "    c_upper_cv.append(np.mean(c_cv) + 1.96 * np.std(c_cv)/np.sqrt(i))\n",
        "    c_lower_cv.append(np.mean(c_cv) - 1.96 * np.std(c_cv)/np.sqrt(i))\n",
        "  return c_cv, c_upper_cv, c_lower_cv\n",
        "\n",
        "# Put Options:\n",
        "def mc_put_cv(S0, K, T, t, r, q, sigma, n_paths, n_steps, n_sims):\n",
        "  p_cv = []\n",
        "  p_cv_temp = []\n",
        "  p_upper_cv = []\n",
        "  p_lower_cv = []\n",
        "  K = np.full(n_paths,K)\n",
        "  payoff_0 = np.zeros(n_paths)\n",
        "  for i in range(1,n_sims):\n",
        "    S = gbm_paths_jax(S0, r, q, sigma, n_steps, n_paths)\n",
        "    S_arithm = jnp.mean(S, axis=0)\n",
        "    S_geom = jnp.exp(jnp.mean(jnp.log(S), axis=0))\n",
        "    payoff_arithm = jnp.mean(jnp.exp(-r*T) * jnp.maximum(K - S_arithm, payoff_0))\n",
        "    payoff_geom = jnp.mean(jnp.exp(-r*T) * jnp.maximum(K - S_geom, payoff_0))\n",
        "    p_cv_temp.append(jnp.mean(payoff_arithm - payoff_geom))\n",
        "    p_cv.append(p_cv_temp)\n",
        "    p_upper_cv.append(np.mean(p_cv_temp) + 1.96 * np.std(p_cv_temp)/np.sqrt(i))\n",
        "    p_lower_cv.append(np.mean(p_cv_temp) - 1.96 * np.std(p_cv_temp)/np.sqrt(i))\n",
        "  return p_cv, p_upper_cv, p_lower_cv"
      ],
      "execution_count": 0,
      "outputs": []
    },
    {
      "cell_type": "markdown",
      "metadata": {
        "id": "9HcItrRWzr-z",
        "colab_type": "text"
      },
      "source": [
        "## **Performance Tests**"
      ]
    },
    {
      "cell_type": "markdown",
      "metadata": {
        "id": "GnRDaSeCkkOI",
        "colab_type": "text"
      },
      "source": [
        "### Black-Scholes vs. Geometric Monte Carlo"
      ]
    },
    {
      "cell_type": "markdown",
      "metadata": {
        "id": "wYaJoN2gb94c",
        "colab_type": "text"
      },
      "source": [
        "#### Test Cases:"
      ]
    },
    {
      "cell_type": "code",
      "metadata": {
        "id": "lTzgsDfaZMSQ",
        "colab_type": "code",
        "colab": {
          "base_uri": "https://localhost:8080/",
          "height": 375
        },
        "outputId": "5e37176c-95d8-4eb2-9775-4d764395a2b9"
      },
      "source": [
        "# Call Options\n",
        "print('- - - - - - - - - - - - - - - - -')\n",
        "n_paths = 100000  # Number of paths per simulation\n",
        "n_steps = 252     # Number of steps N (1 monitoring point per business day)\n",
        "n_sims = 100      # Number of simulations\n",
        "\n",
        "for i in range(95,110,5):\n",
        "  bs = bsm_call(S0, i, T, t, r, q, sigma)\n",
        "  mc = mc_call_geom(S0, i, T, t, r, q, sigma, n_paths, n_steps, n_sims)\n",
        "  error = np.abs((bs-mc)/bs)*100\n",
        "  print('G_c(K=%d,T=%d):'%(i,T))\n",
        "  print('Black-Scholes:',bs)\n",
        "  print('Monte Carlo:', mc)\n",
        "  print('Error: %f%%' % error)\n",
        "  print('- - - - - - - - - - - - - - - - -')"
      ],
      "execution_count": 52,
      "outputs": [
        {
          "output_type": "error",
          "ename": "KeyboardInterrupt",
          "evalue": "ignored",
          "traceback": [
            "\u001b[0;31m---------------------------------------------------------------------------\u001b[0m",
            "\u001b[0;31mKeyboardInterrupt\u001b[0m                         Traceback (most recent call last)",
            "\u001b[0;32m<ipython-input-52-0edf30b5c094>\u001b[0m in \u001b[0;36m<module>\u001b[0;34m()\u001b[0m\n\u001b[1;32m      6\u001b[0m \u001b[0;32mfor\u001b[0m \u001b[0mi\u001b[0m \u001b[0;32min\u001b[0m \u001b[0mrange\u001b[0m\u001b[0;34m(\u001b[0m\u001b[0;36m95\u001b[0m\u001b[0;34m,\u001b[0m\u001b[0;36m110\u001b[0m\u001b[0;34m,\u001b[0m\u001b[0;36m5\u001b[0m\u001b[0;34m)\u001b[0m\u001b[0;34m:\u001b[0m\u001b[0;34m\u001b[0m\u001b[0;34m\u001b[0m\u001b[0m\n\u001b[1;32m      7\u001b[0m   \u001b[0mbs\u001b[0m \u001b[0;34m=\u001b[0m \u001b[0mbsm_call\u001b[0m\u001b[0;34m(\u001b[0m\u001b[0mS0\u001b[0m\u001b[0;34m,\u001b[0m \u001b[0mi\u001b[0m\u001b[0;34m,\u001b[0m \u001b[0mT\u001b[0m\u001b[0;34m,\u001b[0m \u001b[0mt\u001b[0m\u001b[0;34m,\u001b[0m \u001b[0mr\u001b[0m\u001b[0;34m,\u001b[0m \u001b[0mq\u001b[0m\u001b[0;34m,\u001b[0m \u001b[0msigma\u001b[0m\u001b[0;34m)\u001b[0m\u001b[0;34m\u001b[0m\u001b[0;34m\u001b[0m\u001b[0m\n\u001b[0;32m----> 8\u001b[0;31m   \u001b[0mmc\u001b[0m \u001b[0;34m=\u001b[0m \u001b[0mmc_call_geom\u001b[0m\u001b[0;34m(\u001b[0m\u001b[0mS0\u001b[0m\u001b[0;34m,\u001b[0m \u001b[0mi\u001b[0m\u001b[0;34m,\u001b[0m \u001b[0mT\u001b[0m\u001b[0;34m,\u001b[0m \u001b[0mt\u001b[0m\u001b[0;34m,\u001b[0m \u001b[0mr\u001b[0m\u001b[0;34m,\u001b[0m \u001b[0mq\u001b[0m\u001b[0;34m,\u001b[0m \u001b[0msigma\u001b[0m\u001b[0;34m,\u001b[0m \u001b[0mn_paths\u001b[0m\u001b[0;34m,\u001b[0m \u001b[0mn_steps\u001b[0m\u001b[0;34m,\u001b[0m \u001b[0mn_sims\u001b[0m\u001b[0;34m)\u001b[0m\u001b[0;34m\u001b[0m\u001b[0;34m\u001b[0m\u001b[0m\n\u001b[0m\u001b[1;32m      9\u001b[0m   \u001b[0merror\u001b[0m \u001b[0;34m=\u001b[0m \u001b[0mnp\u001b[0m\u001b[0;34m.\u001b[0m\u001b[0mabs\u001b[0m\u001b[0;34m(\u001b[0m\u001b[0;34m(\u001b[0m\u001b[0mbs\u001b[0m\u001b[0;34m-\u001b[0m\u001b[0mmc\u001b[0m\u001b[0;34m)\u001b[0m\u001b[0;34m/\u001b[0m\u001b[0mbs\u001b[0m\u001b[0;34m)\u001b[0m\u001b[0;34m*\u001b[0m\u001b[0;36m100\u001b[0m\u001b[0;34m\u001b[0m\u001b[0;34m\u001b[0m\u001b[0m\n\u001b[1;32m     10\u001b[0m   \u001b[0mprint\u001b[0m\u001b[0;34m(\u001b[0m\u001b[0;34m'G_c(K=%d,T=%d):'\u001b[0m\u001b[0;34m%\u001b[0m\u001b[0;34m(\u001b[0m\u001b[0mi\u001b[0m\u001b[0;34m,\u001b[0m\u001b[0mT\u001b[0m\u001b[0;34m)\u001b[0m\u001b[0;34m)\u001b[0m\u001b[0;34m\u001b[0m\u001b[0;34m\u001b[0m\u001b[0m\n",
            "\u001b[0;32m<ipython-input-43-1646e76f05bd>\u001b[0m in \u001b[0;36mmc_call_geom\u001b[0;34m(S0, K, T, t, r, q, sigma, n_paths, n_steps, n_sims)\u001b[0m\n\u001b[1;32m      4\u001b[0m   \u001b[0mpayoff_0\u001b[0m \u001b[0;34m=\u001b[0m \u001b[0mnp\u001b[0m\u001b[0;34m.\u001b[0m\u001b[0mzeros\u001b[0m\u001b[0;34m(\u001b[0m\u001b[0mn_paths\u001b[0m\u001b[0;34m)\u001b[0m\u001b[0;34m\u001b[0m\u001b[0;34m\u001b[0m\u001b[0m\n\u001b[1;32m      5\u001b[0m   \u001b[0;32mfor\u001b[0m \u001b[0mi\u001b[0m \u001b[0;32min\u001b[0m \u001b[0mrange\u001b[0m\u001b[0;34m(\u001b[0m\u001b[0;36m1\u001b[0m\u001b[0;34m,\u001b[0m\u001b[0mn_sims\u001b[0m\u001b[0;34m)\u001b[0m\u001b[0;34m:\u001b[0m\u001b[0;34m\u001b[0m\u001b[0;34m\u001b[0m\u001b[0m\n\u001b[0;32m----> 6\u001b[0;31m     \u001b[0mS\u001b[0m \u001b[0;34m=\u001b[0m \u001b[0mgbm_paths_jax\u001b[0m\u001b[0;34m(\u001b[0m\u001b[0mS0\u001b[0m\u001b[0;34m,\u001b[0m \u001b[0mr\u001b[0m\u001b[0;34m,\u001b[0m \u001b[0mq\u001b[0m\u001b[0;34m,\u001b[0m \u001b[0msigma\u001b[0m\u001b[0;34m,\u001b[0m \u001b[0mn_steps\u001b[0m\u001b[0;34m,\u001b[0m \u001b[0mn_paths\u001b[0m\u001b[0;34m)\u001b[0m\u001b[0;34m\u001b[0m\u001b[0;34m\u001b[0m\u001b[0m\n\u001b[0m\u001b[1;32m      7\u001b[0m     \u001b[0mS_geom\u001b[0m \u001b[0;34m=\u001b[0m \u001b[0mjnp\u001b[0m\u001b[0;34m.\u001b[0m\u001b[0mexp\u001b[0m\u001b[0;34m(\u001b[0m\u001b[0mjnp\u001b[0m\u001b[0;34m.\u001b[0m\u001b[0mmean\u001b[0m\u001b[0;34m(\u001b[0m\u001b[0mjnp\u001b[0m\u001b[0;34m.\u001b[0m\u001b[0mlog\u001b[0m\u001b[0;34m(\u001b[0m\u001b[0mS\u001b[0m\u001b[0;34m)\u001b[0m\u001b[0;34m,\u001b[0m \u001b[0maxis\u001b[0m\u001b[0;34m=\u001b[0m\u001b[0;36m0\u001b[0m\u001b[0;34m)\u001b[0m\u001b[0;34m)\u001b[0m\u001b[0;34m\u001b[0m\u001b[0;34m\u001b[0m\u001b[0m\n\u001b[1;32m      8\u001b[0m     \u001b[0mc\u001b[0m\u001b[0;34m.\u001b[0m\u001b[0mappend\u001b[0m\u001b[0;34m(\u001b[0m\u001b[0mjnp\u001b[0m\u001b[0;34m.\u001b[0m\u001b[0mmean\u001b[0m\u001b[0;34m(\u001b[0m\u001b[0mjnp\u001b[0m\u001b[0;34m.\u001b[0m\u001b[0mexp\u001b[0m\u001b[0;34m(\u001b[0m\u001b[0;34m-\u001b[0m\u001b[0mr\u001b[0m\u001b[0;34m*\u001b[0m\u001b[0mT\u001b[0m\u001b[0;34m)\u001b[0m \u001b[0;34m*\u001b[0m \u001b[0mjnp\u001b[0m\u001b[0;34m.\u001b[0m\u001b[0mmaximum\u001b[0m\u001b[0;34m(\u001b[0m\u001b[0mS_geom\u001b[0m \u001b[0;34m-\u001b[0m \u001b[0mK\u001b[0m\u001b[0;34m,\u001b[0m \u001b[0mpayoff_0\u001b[0m\u001b[0;34m)\u001b[0m\u001b[0;34m)\u001b[0m\u001b[0;34m)\u001b[0m\u001b[0;34m\u001b[0m\u001b[0;34m\u001b[0m\u001b[0m\n",
            "\u001b[0;32m<ipython-input-34-7c2878342939>\u001b[0m in \u001b[0;36mgbm_paths_jax\u001b[0;34m(S0, r, q, sigma, n_steps, n_paths)\u001b[0m\n\u001b[1;32m      4\u001b[0m   \u001b[0mS\u001b[0m \u001b[0;34m=\u001b[0m \u001b[0mjnp\u001b[0m\u001b[0;34m.\u001b[0m\u001b[0mexp\u001b[0m\u001b[0;34m(\u001b[0m\u001b[0;34m(\u001b[0m\u001b[0mr\u001b[0m \u001b[0;34m-\u001b[0m \u001b[0mq\u001b[0m \u001b[0;34m-\u001b[0m \u001b[0msigma\u001b[0m \u001b[0;34m**\u001b[0m \u001b[0;36m2\u001b[0m \u001b[0;34m/\u001b[0m \u001b[0;36m2\u001b[0m\u001b[0;34m)\u001b[0m \u001b[0;34m*\u001b[0m \u001b[0mdt\u001b[0m \u001b[0;34m+\u001b[0m \u001b[0mnp\u001b[0m\u001b[0;34m.\u001b[0m\u001b[0msqrt\u001b[0m\u001b[0;34m(\u001b[0m\u001b[0mdt\u001b[0m\u001b[0;34m)\u001b[0m \u001b[0;34m*\u001b[0m \u001b[0msigma\u001b[0m \u001b[0;34m*\u001b[0m \u001b[0mjax\u001b[0m\u001b[0;34m.\u001b[0m\u001b[0mrandom\u001b[0m\u001b[0;34m.\u001b[0m\u001b[0mnormal\u001b[0m\u001b[0;34m(\u001b[0m\u001b[0mjax\u001b[0m\u001b[0;34m.\u001b[0m\u001b[0mrandom\u001b[0m\u001b[0;34m.\u001b[0m\u001b[0mPRNGKey\u001b[0m\u001b[0;34m(\u001b[0m\u001b[0mseed\u001b[0m\u001b[0;34m)\u001b[0m\u001b[0;34m,\u001b[0m \u001b[0;34m(\u001b[0m\u001b[0mn_steps\u001b[0m\u001b[0;34m,\u001b[0m \u001b[0mn_paths\u001b[0m\u001b[0;34m)\u001b[0m\u001b[0;34m)\u001b[0m\u001b[0;34m)\u001b[0m\u001b[0;34m\u001b[0m\u001b[0;34m\u001b[0m\u001b[0m\n\u001b[1;32m      5\u001b[0m   \u001b[0mS\u001b[0m \u001b[0;34m=\u001b[0m \u001b[0mjnp\u001b[0m\u001b[0;34m.\u001b[0m\u001b[0mvstack\u001b[0m\u001b[0;34m(\u001b[0m\u001b[0;34m[\u001b[0m\u001b[0mnp\u001b[0m\u001b[0;34m.\u001b[0m\u001b[0mones\u001b[0m\u001b[0;34m(\u001b[0m\u001b[0mn_paths\u001b[0m\u001b[0;34m)\u001b[0m\u001b[0;34m,\u001b[0m \u001b[0mS\u001b[0m\u001b[0;34m]\u001b[0m\u001b[0;34m)\u001b[0m\u001b[0;34m\u001b[0m\u001b[0;34m\u001b[0m\u001b[0m\n\u001b[0;32m----> 6\u001b[0;31m   \u001b[0mS\u001b[0m \u001b[0;34m=\u001b[0m \u001b[0mS0\u001b[0m \u001b[0;34m*\u001b[0m \u001b[0mjnp\u001b[0m\u001b[0;34m.\u001b[0m\u001b[0mcumprod\u001b[0m\u001b[0;34m(\u001b[0m\u001b[0mS\u001b[0m\u001b[0;34m,\u001b[0m \u001b[0maxis\u001b[0m\u001b[0;34m=\u001b[0m\u001b[0;36m0\u001b[0m\u001b[0;34m)\u001b[0m\u001b[0;34m\u001b[0m\u001b[0;34m\u001b[0m\u001b[0m\n\u001b[0m\u001b[1;32m      7\u001b[0m   \u001b[0;32mreturn\u001b[0m \u001b[0mS\u001b[0m\u001b[0;34m\u001b[0m\u001b[0;34m\u001b[0m\u001b[0m\n\u001b[1;32m      8\u001b[0m \u001b[0;34m\u001b[0m\u001b[0m\n",
            "\u001b[0;32m/usr/local/lib/python3.6/dist-packages/jax/numpy/lax_numpy.py\u001b[0m in \u001b[0;36mcumulative_reduction\u001b[0;34m(a, axis, dtype)\u001b[0m\n\u001b[1;32m   1717\u001b[0m   \u001b[0;32mdef\u001b[0m \u001b[0mcumulative_reduction\u001b[0m\u001b[0;34m(\u001b[0m\u001b[0ma\u001b[0m\u001b[0;34m,\u001b[0m \u001b[0maxis\u001b[0m\u001b[0;34m=\u001b[0m\u001b[0;32mNone\u001b[0m\u001b[0;34m,\u001b[0m \u001b[0mdtype\u001b[0m\u001b[0;34m=\u001b[0m\u001b[0;32mNone\u001b[0m\u001b[0;34m)\u001b[0m\u001b[0;34m:\u001b[0m\u001b[0;34m\u001b[0m\u001b[0;34m\u001b[0m\u001b[0m\n\u001b[1;32m   1718\u001b[0m     \u001b[0;31m# jit doesn't support kwargs as static_args.\u001b[0m\u001b[0;34m\u001b[0m\u001b[0;34m\u001b[0m\u001b[0;34m\u001b[0m\u001b[0m\n\u001b[0;32m-> 1719\u001b[0;31m     \u001b[0;32mreturn\u001b[0m \u001b[0m_cumulative_reduction\u001b[0m\u001b[0;34m(\u001b[0m\u001b[0ma\u001b[0m\u001b[0;34m,\u001b[0m \u001b[0maxis\u001b[0m\u001b[0;34m,\u001b[0m \u001b[0mdtype\u001b[0m\u001b[0;34m)\u001b[0m\u001b[0;34m\u001b[0m\u001b[0;34m\u001b[0m\u001b[0m\n\u001b[0m\u001b[1;32m   1720\u001b[0m   \u001b[0;32mreturn\u001b[0m \u001b[0mcumulative_reduction\u001b[0m\u001b[0;34m\u001b[0m\u001b[0;34m\u001b[0m\u001b[0m\n\u001b[1;32m   1721\u001b[0m \u001b[0;34m\u001b[0m\u001b[0m\n",
            "\u001b[0;32m/usr/local/lib/python3.6/dist-packages/jax/api.py\u001b[0m in \u001b[0;36mf_jitted\u001b[0;34m(*args, **kwargs)\u001b[0m\n\u001b[1;32m    151\u001b[0m     \u001b[0mflat_fun\u001b[0m\u001b[0;34m,\u001b[0m \u001b[0mout_tree\u001b[0m \u001b[0;34m=\u001b[0m \u001b[0mflatten_fun\u001b[0m\u001b[0;34m(\u001b[0m\u001b[0mf\u001b[0m\u001b[0;34m,\u001b[0m \u001b[0min_tree\u001b[0m\u001b[0;34m)\u001b[0m\u001b[0;34m\u001b[0m\u001b[0;34m\u001b[0m\u001b[0m\n\u001b[1;32m    152\u001b[0m     out = xla.xla_call(flat_fun, *args_flat, device=device, backend=backend,\n\u001b[0;32m--> 153\u001b[0;31m                        name=flat_fun.__name__)\n\u001b[0m\u001b[1;32m    154\u001b[0m     \u001b[0;32mreturn\u001b[0m \u001b[0mtree_unflatten\u001b[0m\u001b[0;34m(\u001b[0m\u001b[0mout_tree\u001b[0m\u001b[0;34m(\u001b[0m\u001b[0;34m)\u001b[0m\u001b[0;34m,\u001b[0m \u001b[0mout\u001b[0m\u001b[0;34m)\u001b[0m\u001b[0;34m\u001b[0m\u001b[0;34m\u001b[0m\u001b[0m\n\u001b[1;32m    155\u001b[0m \u001b[0;34m\u001b[0m\u001b[0m\n",
            "\u001b[0;32m/usr/local/lib/python3.6/dist-packages/jax/core.py\u001b[0m in \u001b[0;36mcall_bind\u001b[0;34m(primitive, f, *args, **params)\u001b[0m\n\u001b[1;32m    976\u001b[0m   \u001b[0;32mif\u001b[0m \u001b[0mtop_trace\u001b[0m \u001b[0;32mis\u001b[0m \u001b[0;32mNone\u001b[0m\u001b[0;34m:\u001b[0m\u001b[0;34m\u001b[0m\u001b[0;34m\u001b[0m\u001b[0m\n\u001b[1;32m    977\u001b[0m     \u001b[0;32mwith\u001b[0m \u001b[0mnew_sublevel\u001b[0m\u001b[0;34m(\u001b[0m\u001b[0;34m)\u001b[0m\u001b[0;34m:\u001b[0m\u001b[0;34m\u001b[0m\u001b[0;34m\u001b[0m\u001b[0m\n\u001b[0;32m--> 978\u001b[0;31m       \u001b[0mouts\u001b[0m \u001b[0;34m=\u001b[0m \u001b[0mprimitive\u001b[0m\u001b[0;34m.\u001b[0m\u001b[0mimpl\u001b[0m\u001b[0;34m(\u001b[0m\u001b[0mf\u001b[0m\u001b[0;34m,\u001b[0m \u001b[0;34m*\u001b[0m\u001b[0margs\u001b[0m\u001b[0;34m,\u001b[0m \u001b[0;34m**\u001b[0m\u001b[0mparams\u001b[0m\u001b[0;34m)\u001b[0m\u001b[0;34m\u001b[0m\u001b[0;34m\u001b[0m\u001b[0m\n\u001b[0m\u001b[1;32m    979\u001b[0m   \u001b[0;32melse\u001b[0m\u001b[0;34m:\u001b[0m\u001b[0;34m\u001b[0m\u001b[0;34m\u001b[0m\u001b[0m\n\u001b[1;32m    980\u001b[0m     \u001b[0mtracers\u001b[0m \u001b[0;34m=\u001b[0m \u001b[0mmap\u001b[0m\u001b[0;34m(\u001b[0m\u001b[0mtop_trace\u001b[0m\u001b[0;34m.\u001b[0m\u001b[0mfull_raise\u001b[0m\u001b[0;34m,\u001b[0m \u001b[0margs\u001b[0m\u001b[0;34m)\u001b[0m\u001b[0;34m\u001b[0m\u001b[0;34m\u001b[0m\u001b[0m\n",
            "\u001b[0;32m/usr/local/lib/python3.6/dist-packages/jax/interpreters/xla.py\u001b[0m in \u001b[0;36m_xla_call_impl\u001b[0;34m(fun, device, backend, name, *args)\u001b[0m\n\u001b[1;32m    457\u001b[0m   \u001b[0mcompiled_fun\u001b[0m \u001b[0;34m=\u001b[0m \u001b[0m_xla_callable\u001b[0m\u001b[0;34m(\u001b[0m\u001b[0mfun\u001b[0m\u001b[0;34m,\u001b[0m \u001b[0mdevice\u001b[0m\u001b[0;34m,\u001b[0m \u001b[0mbackend\u001b[0m\u001b[0;34m,\u001b[0m \u001b[0mname\u001b[0m\u001b[0;34m,\u001b[0m \u001b[0;34m*\u001b[0m\u001b[0mmap\u001b[0m\u001b[0;34m(\u001b[0m\u001b[0marg_spec\u001b[0m\u001b[0;34m,\u001b[0m \u001b[0margs\u001b[0m\u001b[0;34m)\u001b[0m\u001b[0;34m)\u001b[0m\u001b[0;34m\u001b[0m\u001b[0;34m\u001b[0m\u001b[0m\n\u001b[1;32m    458\u001b[0m   \u001b[0;32mtry\u001b[0m\u001b[0;34m:\u001b[0m\u001b[0;34m\u001b[0m\u001b[0;34m\u001b[0m\u001b[0m\n\u001b[0;32m--> 459\u001b[0;31m     \u001b[0;32mreturn\u001b[0m \u001b[0mcompiled_fun\u001b[0m\u001b[0;34m(\u001b[0m\u001b[0;34m*\u001b[0m\u001b[0margs\u001b[0m\u001b[0;34m)\u001b[0m\u001b[0;34m\u001b[0m\u001b[0;34m\u001b[0m\u001b[0m\n\u001b[0m\u001b[1;32m    460\u001b[0m   \u001b[0;32mexcept\u001b[0m \u001b[0mFloatingPointError\u001b[0m\u001b[0;34m:\u001b[0m\u001b[0;34m\u001b[0m\u001b[0;34m\u001b[0m\u001b[0m\n\u001b[1;32m    461\u001b[0m     print(\"Invalid value encountered in the output of a jit function. \"\n",
            "\u001b[0;32m/usr/local/lib/python3.6/dist-packages/jax/interpreters/xla.py\u001b[0m in \u001b[0;36m_execute_compiled\u001b[0;34m(compiled, handlers, *args)\u001b[0m\n\u001b[1;32m    563\u001b[0m   \u001b[0mdevice\u001b[0m\u001b[0;34m,\u001b[0m \u001b[0;34m=\u001b[0m \u001b[0mcompiled\u001b[0m\u001b[0;34m.\u001b[0m\u001b[0mlocal_devices\u001b[0m\u001b[0;34m(\u001b[0m\u001b[0;34m)\u001b[0m\u001b[0;34m\u001b[0m\u001b[0;34m\u001b[0m\u001b[0m\n\u001b[1;32m    564\u001b[0m   \u001b[0minput_bufs\u001b[0m \u001b[0;34m=\u001b[0m \u001b[0;34m[\u001b[0m\u001b[0mdevice_put\u001b[0m\u001b[0;34m(\u001b[0m\u001b[0mx\u001b[0m\u001b[0;34m,\u001b[0m \u001b[0mdevice\u001b[0m\u001b[0;34m)\u001b[0m \u001b[0;32mfor\u001b[0m \u001b[0mx\u001b[0m \u001b[0;32min\u001b[0m \u001b[0margs\u001b[0m \u001b[0;32mif\u001b[0m \u001b[0mx\u001b[0m \u001b[0;32mis\u001b[0m \u001b[0;32mnot\u001b[0m \u001b[0mtoken\u001b[0m\u001b[0;34m]\u001b[0m\u001b[0;34m\u001b[0m\u001b[0;34m\u001b[0m\u001b[0m\n\u001b[0;32m--> 565\u001b[0;31m   \u001b[0mout_bufs\u001b[0m \u001b[0;34m=\u001b[0m \u001b[0mcompiled\u001b[0m\u001b[0;34m.\u001b[0m\u001b[0mExecute\u001b[0m\u001b[0;34m(\u001b[0m\u001b[0minput_bufs\u001b[0m\u001b[0;34m)\u001b[0m\u001b[0;34m\u001b[0m\u001b[0;34m\u001b[0m\u001b[0m\n\u001b[0m\u001b[1;32m    566\u001b[0m   \u001b[0;32mif\u001b[0m \u001b[0mFLAGS\u001b[0m\u001b[0;34m.\u001b[0m\u001b[0mjax_debug_nans\u001b[0m\u001b[0;34m:\u001b[0m \u001b[0mcheck_nans\u001b[0m\u001b[0;34m(\u001b[0m\u001b[0mxla_call_p\u001b[0m\u001b[0;34m,\u001b[0m \u001b[0mout_bufs\u001b[0m\u001b[0;34m)\u001b[0m\u001b[0;34m\u001b[0m\u001b[0;34m\u001b[0m\u001b[0m\n\u001b[1;32m    567\u001b[0m   \u001b[0;32mreturn\u001b[0m \u001b[0;34m[\u001b[0m\u001b[0mhandler\u001b[0m\u001b[0;34m(\u001b[0m\u001b[0mout_buf\u001b[0m\u001b[0;34m)\u001b[0m \u001b[0;32mfor\u001b[0m \u001b[0mhandler\u001b[0m\u001b[0;34m,\u001b[0m \u001b[0mout_buf\u001b[0m \u001b[0;32min\u001b[0m \u001b[0mzip\u001b[0m\u001b[0;34m(\u001b[0m\u001b[0mhandlers\u001b[0m\u001b[0;34m,\u001b[0m \u001b[0mout_bufs\u001b[0m\u001b[0;34m)\u001b[0m\u001b[0;34m]\u001b[0m\u001b[0;34m\u001b[0m\u001b[0;34m\u001b[0m\u001b[0m\n",
            "\u001b[0;31mKeyboardInterrupt\u001b[0m: "
          ]
        }
      ]
    },
    {
      "cell_type": "code",
      "metadata": {
        "id": "SLuAHSPaw4WU",
        "colab_type": "code",
        "colab": {}
      },
      "source": [
        "# Put Options\n",
        "print('- - - - - - - - - - - - - - - - -')\n",
        "n_paths = 100000  # Number of paths per simulation\n",
        "n_steps = 504     # Number of steps N (2 monitoring points per day)\n",
        "n_sims = 100      # Number of simulations\n",
        "\n",
        "for i in range(95,110,5):\n",
        "  bs = bsm_put(S0, i, T, t, r, q, sigma)\n",
        "  mc = mc_put_geom(S0, i, T, t, r, q, sigma, n_paths, n_steps, n_sims)\n",
        "  error = np.abs((bs-mc)/bs)*100\n",
        "  print('G_p(K=%d,T=%d):'%(i,T))\n",
        "  print('Black-Scholes:',repr(bs))\n",
        "  print('Monte Carlo:',repr(mc))\n",
        "  print('Error:',repr(error),'%')\n",
        "  print('- - - - - - - - - - - - - - - - -')"
      ],
      "execution_count": 0,
      "outputs": []
    },
    {
      "cell_type": "markdown",
      "metadata": {
        "id": "AHx_rj01cEcJ",
        "colab_type": "text"
      },
      "source": [
        "#### Final Results:"
      ]
    },
    {
      "cell_type": "markdown",
      "metadata": {
        "id": "tCgAFCORcGgU",
        "colab_type": "text"
      },
      "source": [
        "**Call Options:**\n",
        "- - - - - - - - - - - - - - - - -\n",
        "G_c(K=95,T=1):\n",
        "Black-Scholes: 12.508538481017892\n",
        "Monte Carlo: 12.447389441700023\n",
        "Error: 0.488858%\n",
        "- - - - - - - - - - - - - - - - -\n",
        "G_c(K=100,T=1):\n",
        "Black-Scholes: 9.61215966961383\n",
        "Monte Carlo: 9.638977665500253\n",
        "Error: 0.279001%\n",
        "- - - - - - - - - - - - - - - - -\n",
        "G_c(K=105,T=1):\n",
        "Black-Scholes: 7.185865725921304\n",
        "Monte Carlo: 7.171154551742235\n",
        "Error: 0.204724%\n",
        "- - - - - - - - - - - - - - - - -\n",
        "**Put Options:**\n",
        "- - - - - - - - - - - - - - - - -\n",
        "G_p(K=95,T=1):\n",
        "Black-Scholes: 2.194652455717922\n",
        "Monte Carlo: 2.1827188484716005\n",
        "Error: 0.543758407634428 %\n",
        "- - - - - - - - - - - - - - - - -\n",
        "G_p(K=100,T=1):\n",
        "Black-Scholes: 3.6018135264391438\n",
        "Monte Carlo: 3.5923289672198133\n",
        "Error: 0.26332732524071434 %\n",
        "- - - - - - - - - - - - - - - - -\n",
        "G_p(K=105,T=1):\n",
        "Black-Scholes: 5.479059464871914\n",
        "Monte Carlo: 5.455180840115154\n",
        "Error: 0.4358161270169417 %\n",
        "- - - - - - - - - - - - - - - - -"
      ]
    },
    {
      "cell_type": "markdown",
      "metadata": {
        "id": "7w1N-UPPGLzu",
        "colab_type": "text"
      },
      "source": [
        "### Asian call options with Arithmetic Average: Linetsky Test Cases\n"
      ]
    },
    {
      "cell_type": "markdown",
      "metadata": {
        "id": "jSDdwvJ0br9l",
        "colab_type": "text"
      },
      "source": [
        "#### Introduction:"
      ]
    },
    {
      "cell_type": "markdown",
      "metadata": {
        "id": "MXyI1G42H0rh",
        "colab_type": "text"
      },
      "source": [
        "The arithmetic average option pricer is benchmarked against the test cases in Table B of the Linetsky paper 1 *Exotic spectra, Risk magazine, April 2002. V. Linetsky* (reproduced below):\n",
        "\n",
        "**%%%%%%%%%%%%%%%%%%%%%%%%%%%%%%%%%%%%%%%%%%**\n",
        "\n",
        "**C &emsp; r &emsp; &emsp; &emsp; σ &emsp; &emsp; T &emsp; S0 &emsp; EE &emsp; &emsp; &emsp; MC &emsp; &emsp; &emsp; &emsp; &emsp; %Err**\n",
        "\n",
        "1 &emsp; 0.0200 &emsp; 0.10 &emsp; 1 &emsp; 2.0 &emsp; 0.05602 &emsp; 0.0559860415 &emsp; 0.017\n",
        "\n",
        "2 &emsp; 0.1800 &emsp; 0.30 &emsp; 1 &emsp; 2.0 &emsp; 0.21850 &emsp; 0.2183875466 &emsp; 0.059\n",
        "\n",
        "3 &emsp; 0.0125 &emsp; 0.25 &emsp; 2 &emsp; 2.0 &emsp; 0.17250 &emsp; 0.1722687410 &emsp; 0.063\n",
        "\n",
        "4 &emsp; 0.0500 &emsp; 0.50 &emsp; 1 &emsp; 1.9 &emsp; 0.19330 &emsp; 0.1931737903 &emsp; 0.084\n",
        "\n",
        "5 &emsp; 0.0500 &emsp; 0.50 &emsp; 1 &emsp; 2.0 &emsp; 0.24650 &emsp; 0.2464156905 &emsp; 0.095\n",
        "\n",
        "6 &emsp; 0.0500 &emsp; 0.50 &emsp; 1 &emsp; 2.1 &emsp; 0.30640 &emsp; 0.3062203648 &emsp; 0.106\n",
        "\n",
        "7 &emsp; 0.0500 &emsp; 0.50 &emsp; 2 &emsp; 2.0 &emsp; 0.35030 &emsp; 0.3500952190 &emsp; 0.146\n",
        "\n",
        "**%%%%%%%%%%%%%%%%%%%%%%%%%%%%%%%%%%%%%%%%%%**\n",
        "\n",
        "**Notes:**\n",
        "* *(EE = Eigenfunction Expansion i.e. the Black-Scholes analytic result in \n",
        "this algorithm; MC = Monte-Carlo estimate);*\n",
        "* *All test cases have a strike K = 2.0 and a dividend yield q = 0.0;*"
      ]
    },
    {
      "cell_type": "markdown",
      "metadata": {
        "id": "ipqVRR53LQ6_",
        "colab_type": "text"
      },
      "source": [
        "#### Test Cases:"
      ]
    },
    {
      "cell_type": "code",
      "metadata": {
        "id": "hJHkIHokVnfA",
        "colab_type": "code",
        "colab": {}
      },
      "source": [
        "print('- - - - - - - - - - - - - - - - -')\n",
        "# Test Case 1 Parameters:\n",
        "# r = 0.02\n",
        "# sigma = 0.1\n",
        "# T = 1\n",
        "# S0 = 2.0\n",
        "n_paths = 100000  # Number of paths per simulation\n",
        "n_steps = 252     # Number of steps M (fixed for T = 1 year)\n",
        "n_sims = 1000     # Number of simulations\n",
        "lntk1 = 0.0559860415\n",
        "\n",
        "mc = mc_call_arithm(2.0, 2.0, 1, 0.0, 0.02, 0.0, 0.1,n_paths,n_steps,n_sims)\n",
        "error = np.abs((lntk1-mc)/lntk1)*100\n",
        "print('Case 1 (r=0.02, sigma=0.10, T=1, S0=2.0):')\n",
        "print('G_c(K=%d,T=%d):'%(2.0,1))\n",
        "print('Linetsky:',repr(lntk1))\n",
        "print('Monte Carlo:',repr(mc))\n",
        "print('Error:',repr(error),'%')\n",
        "\n",
        "print('- - - - - - - - - - - - - - - - -')"
      ],
      "execution_count": 0,
      "outputs": []
    },
    {
      "cell_type": "code",
      "metadata": {
        "id": "lbEU9pWEx4nF",
        "colab_type": "code",
        "colab": {}
      },
      "source": [
        "print('- - - - - - - - - - - - - - - - -')\n",
        "# Test Case 2 Parameters:\n",
        "# r = 0.18\n",
        "# sigma = 0.30\n",
        "# T = 1.0\n",
        "# S0 = 2.0\n",
        "n_paths = 100000  # Number of paths per simulation\n",
        "n_steps = 252     # Number of steps M (fixed for T = 1 year)\n",
        "n_sims = 1000     # Number of simulations\n",
        "lntk2 = 0.2183875466\n",
        "\n",
        "mc = mc_call_arithm(2.0, 2.0, 1.0, 0.0, 0.18, 0.0, 0.3,n_paths,n_steps,n_sims)\n",
        "error = np.abs((lntk2-mc)/lntk2)*100\n",
        "print('Case 2 (r = 0.18, sigma = 0.30, T = 1, S0 = 2.0):')\n",
        "print('G_c(K=%d,T=%d):'%(2.0,1))\n",
        "print('Linetsky:',repr(lntk2))\n",
        "print('Monte Carlo:',repr(mc))\n",
        "print('Error:',repr(error),'%')\n",
        "\n",
        "print('- - - - - - - - - - - - - - - - -')"
      ],
      "execution_count": 0,
      "outputs": []
    },
    {
      "cell_type": "code",
      "metadata": {
        "id": "Vdvy2z-ux9-P",
        "colab_type": "code",
        "colab": {}
      },
      "source": [
        "print('- - - - - - - - - - - - - - - - -')\n",
        "# Test Case 3 Parameters:\n",
        "# r = 0.0125\n",
        "# sigma = 0.25\n",
        "# T = 2.0\n",
        "# S0 = 2.0\n",
        "n_paths = 100000  # Number of paths per simulation\n",
        "n_steps = 504     # Number of steps M (fixed for T = 2 years)\n",
        "n_sims = 1000     # Number of simulations\n",
        "lntk3 = 0.1722687410\n",
        "\n",
        "mc = mc_call_arithm(2.0, 2.0, 2.0, 0.0, 0.0125, 0.0, 0.25,n_paths,n_steps,n_sims)\n",
        "error = np.abs((lntk3-mc)/lntk3)*100\n",
        "print('Case 3 (r = 0.0125, sigma = 0.25, T = 2, S0 = 2.0):')\n",
        "print('G_c(K=%d,T=%d):'%(2.0,2))\n",
        "print('Linetsky:',repr(lntk3))\n",
        "print('Monte Carlo:',repr(mc))\n",
        "print('Error:',repr(error),'%')\n",
        "\n",
        "print('- - - - - - - - - - - - - - - - -')"
      ],
      "execution_count": 0,
      "outputs": []
    },
    {
      "cell_type": "code",
      "metadata": {
        "id": "UzGStZi6yC7V",
        "colab_type": "code",
        "colab": {}
      },
      "source": [
        "print('- - - - - - - - - - - - - - - - -')\n",
        "# Test Case 4 Parameters:\n",
        "# r = 0.05\n",
        "# sigma = 0.50\n",
        "# T = 1.0\n",
        "# S0 = 1.9\n",
        "n_paths = 100000  # Number of paths per simulation\n",
        "n_steps = 252     # Number of steps M (fixed for T = 1 year)\n",
        "n_sims = 1000     # Number of simulations\n",
        "lntk4 = 0.1931737903\n",
        "\n",
        "mc = mc_call_arithm(1.9, 2.0, 1.0, 0.0, 0.05, 0.0, 0.50,n_paths,n_steps,n_sims)\n",
        "error = np.abs((lntk4-mc)/lntk4)*100\n",
        "print('Case 4 (r = 0.05, sigma = 0.50, T = 1, S0 = 1.9):')\n",
        "print('G_c(K=%d,T=%d):'%(2.0,1))\n",
        "print('Linetsky:',repr(lntk4))\n",
        "print('Monte Carlo:',repr(mc))\n",
        "print('Error:',repr(error),'%')\n",
        "\n",
        "print('- - - - - - - - - - - - - - - - -')"
      ],
      "execution_count": 0,
      "outputs": []
    },
    {
      "cell_type": "code",
      "metadata": {
        "id": "YHPuk2L3yD2Z",
        "colab_type": "code",
        "colab": {}
      },
      "source": [
        "print('- - - - - - - - - - - - - - - - -')\n",
        "# Test Case 5 Parameters:\n",
        "# r = 0.05\n",
        "# sigma = 0.50\n",
        "# T = 1.0\n",
        "# S0 = 2.0\n",
        "n_paths = 100000  # Number of paths per simulation\n",
        "n_steps = 252     # Number of steps M (fixed for T = 1 year)\n",
        "n_sims = 1000     # Number of simulations\n",
        "lntk5 = 0.2464156905\n",
        "\n",
        "mc = mc_call_arithm(2.0, 2.0, 1.0, 0.0, 0.05, q, 0.50,n_paths,n_steps,n_sims)\n",
        "error = np.abs((lntk5-mc)/lntk5)*100\n",
        "print('Case 5 (r = 0.05, sigma = 0.50, T = 1, S0 = 2.0):')\n",
        "print('G_c(K=%d,T=%d):'%(2.0,1))\n",
        "print('Linetsky:',repr(lntk5))\n",
        "print('Monte Carlo:',repr(mc))\n",
        "print('Error:',repr(error),'%')\n",
        "\n",
        "print('- - - - - - - - - - - - - - - - -')"
      ],
      "execution_count": 0,
      "outputs": []
    },
    {
      "cell_type": "code",
      "metadata": {
        "id": "vBnu71z7yK33",
        "colab_type": "code",
        "colab": {}
      },
      "source": [
        "print('- - - - - - - - - - - - - - - - -')\n",
        "# Test Case 6 Parameters:\n",
        "# r = 0.05\n",
        "# sigma = 0.50\n",
        "# T = 1.0\n",
        "# S0 = 2.1\n",
        "n_paths = 100000  # Number of paths per simulation\n",
        "n_steps = 252     # Number of steps M (fixed for T = 1 year)\n",
        "n_sims = 1000     # Number of simulations\n",
        "lntk6 = 0.3062203648\n",
        "\n",
        "mc = mc_call_arithm(2.1, 2.0, 1.0, 0.0, 0.05, 0.0, 0.50,n_paths,n_steps,n_sims)\n",
        "error = np.abs((lntk6-mc)/lntk6)*100\n",
        "print('Case 6 (r = 0.05, sigma = 0.50, T = 1, S0 = 2.1):')\n",
        "print('G_c(K=%d,T=%d):'%(2.0,1))\n",
        "print('Linetsky:',repr(lntk6))\n",
        "print('Monte Carlo:',repr(mc))\n",
        "print('Error:',repr(error),'%')\n",
        "\n",
        "print('- - - - - - - - - - - - - - - - -')"
      ],
      "execution_count": 0,
      "outputs": []
    },
    {
      "cell_type": "code",
      "metadata": {
        "id": "eptexy9gyNl2",
        "colab_type": "code",
        "colab": {}
      },
      "source": [
        "print('- - - - - - - - - - - - - - - - -')\n",
        "# Test Case 7 Parameters:\n",
        "# r = 0.05\n",
        "# sigma = 0.50\n",
        "# T = 2.0\n",
        "# S0 = 2.0\n",
        "n_paths = 100000  # Number of paths per simulation\n",
        "n_steps = 504     # Number of steps M (fixed for T = 1 year)\n",
        "n_sims = 1000     # Number of simulations\n",
        "lntk7 = 0.3500952190\n",
        "\n",
        "mc = mc_call_arithm(2.0, 2.0, 2.0, 0.0, 0.05, q, 0.50,n_paths,n_steps,n_sims)\n",
        "error = np.abs((lntk7-mc)/lntk7)*100\n",
        "print('Case 7 (r = 0.05, sigma = 0.50, T = 2.0, S0 = 2.0):')\n",
        "print('G_c(K=%d,T=%d):'%(2.0,2))\n",
        "print('Linetsky:',repr(lntk7))\n",
        "print('Monte Carlo:',repr(mc))\n",
        "print('Error:',repr(error),'%')\n",
        "\n",
        "print('- - - - - - - - - - - - - - - - -')"
      ],
      "execution_count": 0,
      "outputs": []
    },
    {
      "cell_type": "markdown",
      "metadata": {
        "id": "MgqAmNImbbly",
        "colab_type": "text"
      },
      "source": [
        "#### Final Results:"
      ]
    },
    {
      "cell_type": "markdown",
      "metadata": {
        "id": "pOtIqYdCbl5k",
        "colab_type": "text"
      },
      "source": [
        "- - - - - - - - - - - - - - - - -\n",
        "Case 1 (r=0.02, sigma=0.10, T=1, S0=2.0):\n",
        "G_c(K=2,T=1):\n",
        "Linetsky: 0.0559860415\n",
        "Monte Carlo: 0.0559778385271486\n",
        "Error: 0.014651817902507759 %\n",
        "- - - - - - - - - - - - - - - - -\n",
        "Case 2 (r = 0.18, sigma = 0.30, T = 1, S0 = 2.0):\n",
        "G_c(K=2,T=1):\n",
        "Linetsky: 0.2183875466\n",
        "Monte Carlo: 0.2170470505500451\n",
        "Error: 0.6138152430505384 %\n",
        "- - - - - - - - - - - - - - - - -\n",
        "Case 3 (r = 0.0125, sigma = 0.25, T = 2, S0 = 2.0):\n",
        "G_c(K=2,T=2):\n",
        "Linetsky: 0.172268741\n",
        "Monte Carlo: 0.1726129894916586\n",
        "Error: 0.19983224446888723 %\n",
        "- - - - - - - - - - - - - - - - -\n",
        "Case 4 (r = 0.05, sigma = 0.50, T = 1, S0 = 1.9):\n",
        "G_c(K=2,T=1):\n",
        "Linetsky: 0.1931737903\n",
        "Monte Carlo: 0.1917548655071399\n",
        "Error: 0.7345327700287397 %\n",
        "- - - - - - - - - - - - - - - - -\n",
        "Case 5 (r = 0.05, sigma = 0.50, T = 1, S0 = 2.0):\n",
        "G_c(K=2,T=1):\n",
        "Linetsky: 0.2464156905\n",
        "Monte Carlo: 0.2472542514106814\n",
        "Error: 0.3403033747485359 %\n",
        "- - - - - - - - - - - - - - - - -\n",
        "Case 6 (r = 0.05, sigma = 0.50, T = 1, S0 = 2.1):\n",
        "G_c(K=2,T=1):\n",
        "Linetsky: 0.3062203648\n",
        "Monte Carlo: 0.3066361640492379\n",
        "Error: 0.1357843230019895 %\n",
        "- - - - - - - - - - - - - - - - -\n",
        "Case 7 (r = 0.05, sigma = 0.50, T = 2.0, S0 = 2.0):\n",
        "G_c(K=2,T=2):\n",
        "Linetsky: 0.350095219\n",
        "Monte Carlo: 0.3475691276119277\n",
        "Error: 0.7215440974280498 %\n",
        "- - - - - - - - - - - - - - - - -"
      ]
    },
    {
      "cell_type": "markdown",
      "metadata": {
        "id": "T1s5HjiAzytF",
        "colab_type": "text"
      },
      "source": [
        "### Monte Carlo vs. Number of Trials"
      ]
    },
    {
      "cell_type": "markdown",
      "metadata": {
        "id": "yeoXbvpMz_lk",
        "colab_type": "text"
      },
      "source": [
        "The results of 1,50000,100000,150000, ... ,1000000 paths are compared to the Black-Scholes theoretical price. The errors are then log-plotted against the number of paths in order to determine the sensitivity of the pricing algorithm to the number of trials."
      ]
    },
    {
      "cell_type": "code",
      "metadata": {
        "id": "Llfmlvyx2J1W",
        "colab_type": "code",
        "colab": {}
      },
      "source": [
        "# Iterations Cases:\n",
        "it_paths = [1,100,1000,10000,100000,1000000]"
      ],
      "execution_count": 0,
      "outputs": []
    },
    {
      "cell_type": "code",
      "metadata": {
        "id": "-d37YIn5F1PS",
        "colab_type": "code",
        "colab": {}
      },
      "source": [
        "# Call Options:\n",
        "bsm_c = bsm_call(S0, K, T, t, r, q, sigma)\n",
        "print('The Black-Scholes Theoretical Call Price is:',bsm_c)\n",
        "errors_c = []\n",
        "\n",
        "for i in range(1,len(it_cases)):\n",
        "  mc_c = mc_call_geom(S0, K, T, t, r, q, sigma, it_paths[i], n_steps, n_sims)\n",
        "  print('For %d trials, the Monte Carlo Call Price estimate is:' %it_paths[i],mc_c)\n",
        "  error_c = 100 * (np.abs(mc_c[0]-bsm_c)/bsm_c)\n",
        "  errors_c.append(error_c)\n",
        "\n",
        "# Errors v. Simulations Log-Plot:\n",
        "errors_v_runs = plt.figure()\n",
        "ax = errors_v_runs.add_subplot(111)\n",
        "ax.set_title(\"Errors vs. Simulations (Call)\")\n",
        "ax.plot(np.log(it_cases), np.log(errors_c), \"o-\")"
      ],
      "execution_count": 0,
      "outputs": []
    },
    {
      "cell_type": "code",
      "metadata": {
        "id": "G9-9XwOZFww4",
        "colab_type": "code",
        "colab": {}
      },
      "source": [
        "# Put Options:\n",
        "bsm_p = bsm_put(S0, K, T, t, r, q, sigma)\n",
        "print('The Black-Scholes Theoretical Call Price is:',bsm_p)\n",
        "errors_p = []\n",
        "\n",
        "for i in range(0,len(it_cases)):\n",
        "  mc_p = mc_put_geom(S0, K, T, t, r, q, sigma, it_cases[i], n_steps, n_sims)\n",
        "  print('For %d iterations, the Monte Carlo Call Price estimate is:' %it_cases[i],mc_p)\n",
        "  error_p = 100 * (np.abs(mc_p - bsm_p)/bsm_p)\n",
        "  errors_p.append(error_p)\n",
        "\n",
        "# Errors v. Simulations Log-Plot:\n",
        "errors_v_runs = plt.figure()\n",
        "ax = errors_v_runs.add_subplot(111)\n",
        "ax.set_title(\"Errors vs. Simulations (Call)\")\n",
        "ax.plot(np.log(it_cases), np.log(errors_p), \"o-\")"
      ],
      "execution_count": 0,
      "outputs": []
    },
    {
      "cell_type": "markdown",
      "metadata": {
        "id": "dI5HWs4UyVKA",
        "colab_type": "text"
      },
      "source": [
        "### Multiple Control Variates"
      ]
    },
    {
      "cell_type": "code",
      "metadata": {
        "id": "Djria1S3v9Cc",
        "colab_type": "code",
        "colab": {}
      },
      "source": [
        "# Base parameters:\n",
        "S0 = 100          # Spot price\n",
        "K = 95            # Strike price\n",
        "T = 1.0           # Maturity in years\n",
        "r = 0.15          # Risk-free rate\n",
        "q = 0.0           # Option dividend yield\n",
        "sigma = 0.3       # Volatility\n",
        "n_paths = 100000       # Number of paths per simulation\n",
        "n_steps = 252   # Number of steps M\n",
        "n_sims = 100     # Number of simulations\n"
      ],
      "execution_count": 0,
      "outputs": []
    },
    {
      "cell_type": "code",
      "metadata": {
        "id": "370s5eTmybl-",
        "colab_type": "code",
        "colab": {}
      },
      "source": [
        "# Call Options:\n",
        "mc_call_cv_0 = mc_call_cv(S0, K, T, t, r, q, sigma, n_paths, n_steps, n_sims)\n",
        "c_cv_values = mc_call_cv_0[0]\n",
        "c_cv_upper = mc_call_cv_0[1]\n",
        "c_cv_lower = mc_call_cv_0[2]\n",
        "data_call = [c_cv_upper, c_cv_lower, c_cv_values]\n",
        "for i in range(0,len(data_call)):\n",
        "  plt.plot(data_call[i])\n",
        "plt.title('$Arithmetic - Geometric Call Option Value Difference',color=color_plots,fontsize=title_size)\n",
        "plt.xlabel('$\\Delta$t', color=color_plots, fontsize=xlabel_size)\n",
        "plt.ylabel('Difference', color=color_plots, fontsize=ylabel_size)\n",
        "plt.show()"
      ],
      "execution_count": 0,
      "outputs": []
    },
    {
      "cell_type": "code",
      "metadata": {
        "id": "8T36Ls3Gy5qE",
        "colab_type": "code",
        "colab": {}
      },
      "source": [
        "# Put Options:\n",
        "mc_put_cv = mc_put_control_variates(S0, K, T, t, r, q, sigma, n_paths, n_steps, n_sims)\n",
        "p_cv_values = mc_put_cv[0]\n",
        "p_cv_upper = mc_put_cv[1]\n",
        "p_cvv_lower = mc_put_cv[2]\n",
        "data_put = [p_cv_upper, p_cvv_lower, p_cv_values]\n",
        "for i in range(0,len(data_put)):\n",
        "  plt.plot(data_put[i])\n",
        "plt.title('$Arithmetic - Geometric Put Option Value Difference',color=color_plots,fontsize=title_size)\n",
        "plt.xlabel('$\\Delta$t', color=color_plots, fontsize=xlabel_size)\n",
        "plt.ylabel('Difference', color=color_plots, fontsize=ylabel_size)\n",
        "plt.show()"
      ],
      "execution_count": 0,
      "outputs": []
    },
    {
      "cell_type": "markdown",
      "metadata": {
        "id": "Ew6DgFv1Y66g",
        "colab_type": "text"
      },
      "source": [
        "## **Hedging Test**"
      ]
    },
    {
      "cell_type": "markdown",
      "metadata": {
        "id": "T3OoH0xmXYMj",
        "colab_type": "text"
      },
      "source": [
        "### Daily Data Generation"
      ]
    },
    {
      "cell_type": "markdown",
      "metadata": {
        "id": "amg0hgIWUHMU",
        "colab_type": "text"
      },
      "source": [
        "The timesteps factor was set to timesteps = 1,000,000.\n",
        "\n",
        "Assumptions:\n",
        "*  Each path is refined to approximately 11 updates/second. The calculation assumes that price movements occur evenly throughout a 24-hour cycle.\n",
        "* After-hours trading does not move the closing price of the security each day i.e. the price of the security at 9:30am (open market) is the same as the closing price the previous day.\n",
        "* The security pays no dividend."
      ]
    },
    {
      "cell_type": "code",
      "metadata": {
        "id": "qfmaIC9_UmO-",
        "colab_type": "code",
        "colab": {}
      },
      "source": [
        "# Define parameters:\n",
        "n_steps = 1000000 # Granularity of ~11 movements/sec\n",
        "n_paths = 5 # each path represents 1 business day, and a full business week of trading is generated for a hypothetical security.\n",
        "S_geometric = []\n",
        "call = []\n",
        "call_deltas = []\n",
        "call_gammas = []\n",
        "time_vector = np.arange(1,n_paths+1,1) # For plotting\n",
        "\n",
        "# Initialize values:\n",
        "S0 = 100\n",
        "K = 95\n",
        "t = 0.0\n",
        "r = 0.15\n",
        "q = 0.0\n",
        "sigma = 0.3\n",
        "n_paths = 100000  # Number of paths per simulation\n",
        "n_steps = 252     # Number of steps N (1 monitoring point per business day)\n",
        "n_sims = 100      # Number of simulations"
      ],
      "execution_count": 0,
      "outputs": []
    },
    {
      "cell_type": "code",
      "metadata": {
        "id": "dDiGvFghOaha",
        "colab_type": "code",
        "colab": {}
      },
      "source": [
        "# Modified Geometric Brownian Path Generator; The last element of each price path becomes the first element of the next:\n",
        "def gbm_paths_hedging(S0,T,r,q,sigma,seed,n_paths,n_steps):\n",
        "  np.random.seed(seed)    \n",
        "  dt = T/n_steps\n",
        "  bt = np.random.randn(int(n_paths), int(n_steps))\n",
        "  S = S0 * np.cumprod((np.exp(sigma * np.sqrt(dt) * bt + (r - q - 0.5 * (sigma**2)) * dt)), axis = 1)\n",
        "  S[0][0] = S0\n",
        "  for i in range(0,len(S)-1):\n",
        "    S[i+1][0] = S[i][-1]\n",
        "  return S"
      ],
      "execution_count": 0,
      "outputs": []
    },
    {
      "cell_type": "code",
      "metadata": {
        "id": "o-JhzwsHd6bT",
        "colab_type": "code",
        "colab": {}
      },
      "source": [
        "# Plot Price Paths:\n",
        "for i in range(0,5):\n",
        "  plt.plot(np.transpose(daily_data[i]), label = ('Day %s' % str(i+1)))\n",
        "  plt.title('Price Path, Day %s' % str(i+1), color = color_plots, fontsize = title_size)\n",
        "  plt.xlabel('Timesteps', color = color_plots, fontsize = xlabel_size)\n",
        "  plt.ylabel(\"Underlying Price ($)\", color = color_plots, fontsize = ylabel_size)\n",
        "  plt.legend(fontsize = legend_size)\n",
        "  plt.show()"
      ],
      "execution_count": 0,
      "outputs": []
    },
    {
      "cell_type": "markdown",
      "metadata": {
        "id": "6USYxGgCeSuv",
        "colab_type": "text"
      },
      "source": [
        "### Portfolio Sensitivity"
      ]
    },
    {
      "cell_type": "markdown",
      "metadata": {
        "id": "e92SD9RVwchX",
        "colab_type": "text"
      },
      "source": [
        "#### Options on Daily Stock Data"
      ]
    },
    {
      "cell_type": "code",
      "metadata": {
        "id": "ySKdXwNQepyJ",
        "colab_type": "code",
        "colab": {}
      },
      "source": [
        "# Calculate option prices:\n",
        "n_paths = 100000\n",
        "n_steps = 252\n",
        "for i in range(0,5):\n",
        "  S = gbm_paths_hedging(100,1.0,0.15,0.0,0.3,seed,n_paths,n_steps)\n",
        "  S_geom = np.exp(np.mean(np.log(S)))\n",
        "  S_geometric.append(S_geom)\n",
        "  call.append(np.exp(-r * (T-t) * max(S_geom - K, 0)))\n",
        "  call_delta.append(bsm_delta(,K,T,,r,q,sigma,'Call')"
      ],
      "execution_count": 0,
      "outputs": []
    },
    {
      "cell_type": "markdown",
      "metadata": {
        "id": "Mhmk74SPt5LU",
        "colab_type": "text"
      },
      "source": [
        "#### BSM Values (Control)"
      ]
    },
    {
      "cell_type": "markdown",
      "metadata": {
        "id": "_0QowcKxv-jb",
        "colab_type": "text"
      },
      "source": [
        "**1st Order Greeks: Sensitivity to Strike and Stock/Underlying Price**"
      ]
    },
    {
      "cell_type": "code",
      "metadata": {
        "id": "ISv_E35jNmMl",
        "colab_type": "code",
        "colab": {}
      },
      "source": [
        "fig, ax = plt.subplots(nrows=3, ncols=2, sharex=False, sharey=False, figsize=(30, 30))\n",
        "fig.suptitle('1st Order Greeks: Sensitivity to Strike and Stock/Underlying Price. $S_0 = %d$' % S0, color = color_plots, fontsize=title_size)\n",
        "#Variables:\n",
        "klist = [85, 95, 100, 105, 115]\n",
        "S0list = np.arange(50,150)\n",
        "\n",
        "plt.subplot(321)\n",
        "for i in klist:\n",
        "    c = [bsm_delta(S0, i, T, t, r, q, sigma, \"Call\") for S0 in S0list]\n",
        "    p = [bsm_delta(S0, i, T, t, r, q, sigma, \"Put\") for S0 in S0list]\n",
        "    plt.plot(S0list, c, label = (\"Delta Call K=%i\" % i ))\n",
        "    plt.plot(S0list, p, label = (\"Delta Put K=%i\" % i ))\n",
        "\n",
        "plt.xlabel('Stock/Underlying Price ($)', color = color_plots, fontsize = xlabel_size)\n",
        "plt.ylabel(\"Delta\", color = color_plots, fontsize = ylabel_size)\n",
        "plt.legend(fontsize = legend_size)\n",
        "\n",
        "plt.subplot(322)\n",
        "for i in klist:\n",
        "    c = [bsm_gamma(S0, i, T, t, r, q, sigma, \"Call\") for S0 in S0list]\n",
        "    p = [bsm_gamma(S0, i, T, t, r, q, sigma, \"Put\") for S0 in S0list]\n",
        "    plt.plot(S0list, c, label = (\"Gamma Call K=%i\" % i ))\n",
        "    plt.plot(S0list, p, label = (\"Gamma Put K=%i\" % i ))\n",
        "\n",
        "plt.xlabel('Stock/Underlying Price ($)', color = color_plots, fontsize = xlabel_size)\n",
        "plt.ylabel(\"Gamma\", color = color_plots, fontsize = ylabel_size)\n",
        "plt.legend(fontsize = legend_size)\n",
        "\n",
        "plt.subplot(323)\n",
        "for i in klist:\n",
        "    c = [bsm_vega(S0, i, T, t, r, q, sigma, \"Call\") for S0 in S0list]\n",
        "    p = [bsm_vega(S0, i, T, t, r, q, sigma, \"Put\") for S0 in S0list]\n",
        "    plt.plot(S0list, c, label = (\"Vega Call K=%i\" % i ))\n",
        "    plt.plot(S0list, p, label = (\"Vega Put K=%i\" % i ))\n",
        "\n",
        "plt.xlabel('Stock/Underlying Price ($)', color = color_plots, fontsize = xlabel_size)\n",
        "plt.ylabel(\"Vega\", color = color_plots, fontsize = ylabel_size)\n",
        "plt.legend(fontsize = legend_size)\n",
        "\n",
        "plt.subplot(324)\n",
        "for i in klist:\n",
        "    c = [bsm_rho(S0, i, T, t, r, q, sigma, \"Call\") for S0 in S0list]\n",
        "    p = [bsm_rho(S0, i, T, t, r, q, sigma, \"Put\") for S0 in S0list]\n",
        "    plt.plot(S0list, c, label = (\"Rho Call K=%i\" % i ))\n",
        "    plt.plot(S0list, p, label = (\"Rho Put K=%i\" % i ))\n",
        "\n",
        "plt.xlabel('Stock/Underlying Price ($)', color = color_plots, fontsize = xlabel_size)\n",
        "plt.ylabel(\"Rho\", color = color_plots, fontsize = ylabel_size)\n",
        "plt.legend(fontsize = legend_size)\n",
        "\n",
        "plt.subplot(325)\n",
        "for i in klist:\n",
        "    c = [bsm_theta(S0, i, T, t, r, q, sigma, \"Call\") for S0 in S0list]\n",
        "    p = [bsm_theta(S0, i, T, t, r, q, sigma, \"Put\") for S0 in S0list]\n",
        "    plt.plot(S0list, c, label = (\"Theta Call K=%i\" % i ))\n",
        "    plt.plot(S0list, p, label = (\"Theta Put K=%i\" % i ))\n",
        "\n",
        "plt.xlabel('Stock/Underlying Price ($)', color = color_plots, fontsize = xlabel_size)\n",
        "plt.ylabel(\"Theta\", color = color_plots, fontsize = ylabel_size)\n",
        "plt.legend(fontsize = legend_size)\n",
        "\n",
        "plt.subplot(326)\n",
        "for i in klist:\n",
        "    c = [bsm_charm(S0, i, T, t, r, q, sigma, \"Call\") for S0 in S0list]\n",
        "    p = [bsm_charm(S0, i, T, t, r, q, sigma, \"Put\") for S0 in S0list]\n",
        "    plt.plot(S0list, c, label = (\"Charm Call K=%i\" % i ))\n",
        "    plt.plot(S0list, p, label = (\"Charm Put K=%i\" % i ))\n",
        "\n",
        "plt.xlabel('Stock/Underlying Price ($)', color = color_plots, fontsize = xlabel_size)\n",
        "plt.ylabel(\"Charm\", color = color_plots, fontsize = ylabel_size)\n",
        "plt.legend(fontsize = legend_size)\n",
        "plt.show()"
      ],
      "execution_count": 0,
      "outputs": []
    },
    {
      "cell_type": "markdown",
      "metadata": {
        "id": "foh3hDP0wDOj",
        "colab_type": "text"
      },
      "source": [
        "**1st Order Greeks: Sensitivity to Risk-Free Rate + Stock/Underlying Price**"
      ]
    },
    {
      "cell_type": "code",
      "metadata": {
        "id": "r7OKR8T4vjT2",
        "colab_type": "code",
        "colab": {}
      },
      "source": [
        "fig, ax = plt.subplots(nrows=3, ncols=2, sharex=False, sharey=False, figsize=(30, 30))\n",
        "fig.suptitle('1st Order Greeks: Sensitivity to Risk-Free Rate + Stock/Underlying Price', color = color_plots, fontsize=title_size, fontweight='bold')\n",
        "\n",
        "# Variables:\n",
        "rlist = [0.0,0.01,0.1]\n",
        "S0list = np.arange(50,150)\n",
        "K = 95\n",
        "r = 0.15\n",
        "sigma = 0.3\n",
        "T = 1.0\n",
        "t = 0.0\n",
        "q = 0.0\n",
        "\n",
        "plt.subplot(321)\n",
        "for i in rlist:\n",
        "  c = [bsm_delta(S0, K, T, t, i, q, sigma, \"Call\") for S0 in S0list]\n",
        "  p = [bsm_delta(S0, K, T, t, i, q, sigma, \"Put\") for S0 in S0list]\n",
        "  plt.plot(c, label = (\"Delta Call r=%.2f\" % i ))\n",
        "  plt.plot(p, label = (\"Delta Put r=%.2f\" % i ))\n",
        "\n",
        "plt.xlabel('Stock/Underlying Price ($)', color = color_plots, fontsize = xlabel_size)\n",
        "plt.ylabel(\"Delta\", color = color_plots, fontsize = ylabel_size)\n",
        "plt.legend(fontsize = legend_size)\n",
        "\n",
        "plt.subplot(322)\n",
        "for i in rlist:\n",
        "  c = [bsm_gamma(S0, K, T, t, i, q, sigma, \"Call\") for S0 in S0list]\n",
        "  p = [bsm_gamma(S0, K, T, t, i, q, sigma, \"Put\") for S0 in S0list]\n",
        "  plt.plot(c, label = (\"Gamma Call r=%.2f\" % i ))\n",
        "  plt.plot(p, label = (\"Gamma Put r=%.2f\" % i ))\n",
        "\n",
        "plt.xlabel('Stock/Underlying Price ($)', color = color_plots, fontsize = xlabel_size)\n",
        "plt.ylabel(\"Gamma\", color = color_plots, fontsize = ylabel_size)\n",
        "plt.legend(fontsize = legend_size)\n",
        "\n",
        "plt.subplot(323)\n",
        "for i in rlist:\n",
        "  c = [bsm_vega(S0, K, T, t, i, q, sigma, \"Call\") for S0 in S0list]\n",
        "  p = [bsm_vega(S0, K, T, t, i, q, sigma, \"Put\") for S0 in S0list]\n",
        "  plt.plot(c, label = (\"Vega Call r=%.2f\" % i ))\n",
        "  plt.plot(p, label = (\"Vega Put r=%.2f\" % i ))\n",
        "\n",
        "plt.xlabel('Stock/Underlying Price ($)', color = color_plots, fontsize = xlabel_size)\n",
        "plt.ylabel(\"Vega\", color = color_plots, fontsize = ylabel_size)\n",
        "plt.legend(fontsize = legend_size)\n",
        "\n",
        "plt.subplot(324)\n",
        "for i in rlist:\n",
        "  c = [bsm_rho(S0, K, T, t, i, q, sigma, \"Call\") for S0 in S0list]\n",
        "  p = [bsm_rho(S0, K, T, t, i, q, sigma, \"Put\") for S0 in S0list]\n",
        "  plt.plot(c, label = (\"Rho Call r=%.2f\" % i ))\n",
        "  plt.plot(p, label = (\"Rho Put r=%.2f\" % i ))\n",
        "\n",
        "plt.xlabel('Stock/Underlying Price ($)', color = color_plots, fontsize = xlabel_size)\n",
        "plt.ylabel(\"Rho\", color = color_plots, fontsize = ylabel_size)\n",
        "plt.legend(fontsize = legend_size)\n",
        "\n",
        "plt.subplot(325)\n",
        "for i in rlist:\n",
        "  c = [bsm_theta(S0, K, T, t, i, q, sigma, \"Call\") for S0 in S0list]\n",
        "  p = [bsm_theta(S0, K, T, t, i, q, sigma, \"Put\") for S0 in S0list]\n",
        "  plt.plot(c, label = (\"Theta Call r=%.2f\" % i ))\n",
        "  plt.plot(p, label = (\"Theta Put r=%.2f\" % i ))\n",
        "\n",
        "plt.xlabel('Stock/Underlying Price ($)', color = color_plots, fontsize = xlabel_size)\n",
        "plt.ylabel(\"Theta\", color = color_plots, fontsize = ylabel_size)\n",
        "plt.legend(fontsize = legend_size)\n",
        "\n",
        "plt.subplot(326)\n",
        "for i in rlist:\n",
        "  c = [bsm_charm(S0, K, T, t, i, q, sigma, \"Call\") for S0 in S0list]\n",
        "  p = [bsm_charm(S0, K, T, t, i, q, sigma, \"Put\") for S0 in S0list]\n",
        "  plt.plot(c, label = (\"Charm Call r=%.2f\" % i ))\n",
        "  plt.plot(p, label = (\"Charm Put r=%.2f\" % i ))\n",
        "\n",
        "plt.xlabel('Stock/Underlying Price ($)', color = color_plots, fontsize = xlabel_size)\n",
        "plt.ylabel(\"Charm\", color = color_plots, fontsize = ylabel_size)\n",
        "plt.legend(fontsize = legend_size)\n",
        "plt.show()"
      ],
      "execution_count": 0,
      "outputs": []
    },
    {
      "cell_type": "markdown",
      "metadata": {
        "id": "XGyUd1iKwH_X",
        "colab_type": "text"
      },
      "source": [
        "**BSM Option Sensitivity Definitions Tests**"
      ]
    },
    {
      "cell_type": "code",
      "metadata": {
        "id": "npgOlT35xX4O",
        "colab_type": "code",
        "colab": {}
      },
      "source": [
        "# Variables:\n",
        "S0 = 100\n",
        "K = 95\n",
        "T = 1.0\n",
        "t = 0.0\n",
        "r = 0.01\n",
        "q = 0.0\n",
        "sigma = 0.1\n",
        "n_paths = 1000# Number of paths per simulation\n",
        "n_steps = 252   # Number of steps M\n",
        "n_sims = 7      # Number of simulations\n",
        "mc_call_cv(S0,K,T,t,r,q,sigma,n_paths,n_steps,n_sims)"
      ],
      "execution_count": 0,
      "outputs": []
    },
    {
      "cell_type": "markdown",
      "metadata": {
        "id": "p6op7ztMMrwH",
        "colab_type": "text"
      },
      "source": [
        "**Monte Carlo Option Sensitivity Definitions Tests**"
      ]
    },
    {
      "cell_type": "code",
      "metadata": {
        "id": "oHjv6AT8uwYP",
        "colab_type": "code",
        "colab": {}
      },
      "source": [
        "# Greeks Plot tool for all Greeks:\n",
        "S0 = np.linspace(50, 150, 100)\n",
        "K = np.linspace(95.0,95.0, 100)\n",
        "T = np.linspace(0.1, 1.0, 100)\n",
        "t = np.linspace(0.0, 0.0, 100)\n",
        "r = np.linspace(0.15, 0.15, 100)\n",
        "q = np.linspace(0.0,0.0,100)\n",
        "sigma = np.linspace(0.30, 0.30, 100)\n",
        "\n",
        "x, y  = np.meshgrid(S0, T)\n",
        "fig = plt.figure(figsize=(30,90))\n",
        "greeks = [bsm_delta,bsm_gamma,bsm_vega,bsm_theta,bsm_rho,bsm_vanna,bsm_vomma, bsm_phi, bsm_charm]\n",
        "greeks_names = ['Delta','Gamma','Vega','Theta','Rho','Vanna','Volga','Phi','Charm']\n",
        "for i in range(len(greeks)):\n",
        "    ax = fig.add_subplot(len(greeks), 2, i+1, projection='3d')\n",
        "    ax.patch.set_alpha(0.0)\n",
        "    greeks_plot_tool(greeks[i],\"Stock/Underlying Price ($)\", \"Expiry (T)\", S0, K, T, t, r, q, sigma, x, y, \"Call\", greeks_names[i], ax)\n",
        "plt.show()"
      ],
      "execution_count": 0,
      "outputs": []
    },
    {
      "cell_type": "markdown",
      "metadata": {
        "id": "jmOo-cqLokSx",
        "colab_type": "text"
      },
      "source": [
        "### Hedged-Unhedged Portfolio Variability"
      ]
    },
    {
      "cell_type": "code",
      "metadata": {
        "id": "A7Z4fmP-ITEx",
        "colab_type": "code",
        "colab": {}
      },
      "source": [
        "# Shift values:\n",
        "def convert(lst): \n",
        "    return [ i - 50 for i in lst ]"
      ],
      "execution_count": 0,
      "outputs": []
    },
    {
      "cell_type": "code",
      "metadata": {
        "id": "CkVXJd9WNm-k",
        "colab_type": "code",
        "colab": {}
      },
      "source": [
        "# Calculate Deltas\n",
        "\n",
        "for j in range(0,len(daily_data)):\n",
        "  for i in range(0,n_steps):\n",
        "    call_delta = bsm_delta(daily_data[j][i],K,T,,r,q,sigma,'Call')\n",
        "  call_delta = call_delta/n_steps\n",
        "  call_deltas.append(call_delta)\n",
        "print(call_deltas)\n",
        "\n",
        "for j in range(0,len(daily_data)):\n",
        "  for i in range(0,n_steps):\n",
        "    call_gamma = bsm_gamma(daily_data[j][i],K,T,,r,q,sigma,'Call')\n",
        "  call_gamma = call_delta/n_steps\n",
        "  call_gammas.append(call_gamma)\n",
        "print(call_gamams)\n",
        "# Results\n",
        "#print('Call Deltas:')\n",
        "#print(call_deltas)\n",
        "\n",
        "# Hedged Portfolio\n",
        "hedged = []\n",
        "for i in range(0,len(daily_data)):\n",
        "  hedged.append(call[i]-call_deltas[i]*S_geometric[i])\n",
        "\n",
        "#hedged = convert(hedged)\n",
        "std_unhedged = np.std(call)\n",
        "std_hedged = np.std(hedged)\n",
        "print('The standard deviation of the unhedged options portfolio is:',std_unhedged)\n",
        "print('The standard deviation of the hedged options portfolio is:',std_hedged)\n",
        "\n",
        "# Plots\n",
        "plt.plot(time_vector,call, label = 'Unhedged Portfolio')\n",
        "plt.plot(time_vector,hedged, label = 'Hedged Portfolio')\n",
        "plt.title('Variability in a Hedged and Unhedged Options Portfolio', color = color_plots, fontsize = title_size)\n",
        "plt.xlabel('Option Price', color = color_plots, fontsize = xlabel_size)\n",
        "plt.ylabel('Time (days)', color = color_plots, fontsize = ylabel_size)\n",
        "plt.legend(fontsize = legend_size)"
      ],
      "execution_count": 0,
      "outputs": []
    },
    {
      "cell_type": "markdown",
      "metadata": {
        "id": "LMwJbK4T78nt",
        "colab_type": "text"
      },
      "source": [
        "## **Final Project Deliverables**"
      ]
    },
    {
      "cell_type": "code",
      "metadata": {
        "id": "4x0-mS0pvVnq",
        "colab_type": "code",
        "colab": {}
      },
      "source": [
        "# Test MC Engine:\n",
        "\n",
        "S0 = 100          # Spot price\n",
        "K = 95            # Strike price\n",
        "T = 1.0           # Maturity in years\n",
        "r = 0.15          # Risk-free rate\n",
        "q = 0.0           # Option dividend yield\n",
        "sigma = 0.3       # Volatility\n",
        "n_paths = 100000       # Number of paths per simulation\n",
        "n_steps = 252   # Number of steps M\n",
        "n_sims = 7     # Number of simulations\n",
        "\n",
        "# mc_plot_values(mc_call_geom,S0, K, T, t, r, q, sigma, n_paths, n_steps, n_sims,'Call')\n",
        "#for i in range(1,10):\n",
        "#   print(mc_call_geom(S0, K, T, t, r, q, sigma, n_paths, n_steps, n_sims))\n",
        "#   print(bsm_call(S0,K,T,t,r,q,sigma))"
      ],
      "execution_count": 0,
      "outputs": []
    },
    {
      "cell_type": "code",
      "metadata": {
        "id": "Z9wuayMnck1Q",
        "colab_type": "code",
        "colab": {}
      },
      "source": [
        "# Test MC Engine:\n",
        "\n",
        "S0 = 100          # Spot price\n",
        "K = 95            # Strike price\n",
        "T = 1.0           # Maturity in years\n",
        "r = 0.15          # Risk-free rate\n",
        "q = 0.0           # Option dividend yield\n",
        "sigma = 0.3       # Volatility\n",
        "n_paths = 100000       # Number of paths per simulation\n",
        "n_steps = 252   # Number of steps M\n",
        "n_sims = 100     # Number of simulations\n",
        "\n",
        "plt.plot(mc_call_cv(S0,K,T,t,r,q,sigma,n_paths,n_steps,n_sims))"
      ],
      "execution_count": 0,
      "outputs": []
    }
  ]
}